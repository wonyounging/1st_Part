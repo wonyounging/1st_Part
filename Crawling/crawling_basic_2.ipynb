{
 "cells": [
  {
   "cell_type": "code",
   "execution_count": 1,
   "id": "bc878ced",
   "metadata": {},
   "outputs": [],
   "source": [
    "import requests\n",
    "from bs4 import BeautifulSoup\n",
    "\n",
    "url = \"https://crawlingstudy-dd3c9.web.app/01/\"\n",
    "response = requests.get(url)\n",
    "soup = BeautifulSoup(response.text, 'html.parser')"
   ]
  },
  {
   "cell_type": "code",
   "execution_count": 2,
   "id": "48662e1b",
   "metadata": {},
   "outputs": [
    {
     "name": "stdout",
     "output_type": "stream",
     "text": [
      "<!DOCTYPE html>\n",
      "\n",
      "<html>\n",
      "<head>\n",
      "<title>크롤링 연습사이트 01</title>\n",
      "</head>\n",
      "<body>\n",
      "<h1>저의 첫 웹사이트 오신것을 환영합니다.</h1>\n",
      "<h1 title=\"welcome\">인사이트캠퍼스.</h1>\n",
      "<h2>이곳은 크롤링 연습을 위한 웹사이트입니다.</h2>\n",
      "<table border=\"1\">\n",
      "<thead>\n",
      "<tr>\n",
      "<th class=\"tablehead\">이름</th>\n",
      "<th class=\"tablehead\">나이</th>\n",
      "</tr>\n",
      "</thead>\n",
      "<tbody>\n",
      "<tr>\n",
      "<td>이몽룡</td>\n",
      "<td>34</td>\n",
      "</tr>\n",
      "<tr>\n",
      "<td>홍길동</td>\n",
      "<td>23</td>\n",
      "</tr>\n",
      "</tbody>\n",
      "</table>\n",
      "<p id=\"hello\">\n",
      "    이탈리아 요리의 시작은 기원전 4세기로 거슬러 올라갈 수 있다. 대항해시대를 거치면서 아메리카 대륙에서 감자·토마토·후추·옥수수 등이 유입되어 그 종류와 풍미가 다양해졌고 현대에 이르러서는 피자와 파스타 등 많은 이탈리아 요리가 널리 퍼지게 되었다.\n",
      "</p>\n",
      "<p id=\"cook\">\n",
      "    전통적인 요리법이나 양식은 상당한 차이가 있지만, 이탈리아 요리는 다른 국가의 요리 문화에서 다양한 영감을 줄 만큼 다양하고 혁신적인 것으로 평가되고 있다. 각 지방마다 고유의 특색이 있어 그 양식도 다양하지만 크게 북부와 남부로 나눌 수 있다. 다른 나라와 국경을 맞대고 있던 북부 지방은 산업화되어 경제적으로 풍족하고 농업이 발달해 쌀이 풍부해 유제품이 다양한 반면 경제적으로 침체되었던 남부 지방은 올리브와 토마토, 모차렐라 치즈가 유명하고 특별히 해산물을 활용한 요리가 많다. 식재료와 치즈 등의 차이는 파스타의 종류와 소스와 수프 등도 다름을 의미한다.\n",
      "</p>\n",
      "<a href=\"01.html\">1페이지 바로가기</a>\n",
      "<a href=\"02.html\">2페이지 바로가기</a>\n",
      "<a href=\"03.html\">3페이지 바로가기</a>\n",
      "<a href=\"04.html\">4페이지 바로가기</a>\n",
      "</body>\n",
      "</html>\n",
      "\n"
     ]
    }
   ],
   "source": [
    "print(soup)"
   ]
  },
  {
   "cell_type": "code",
   "execution_count": 3,
   "id": "ed2e9ab3",
   "metadata": {},
   "outputs": [
    {
     "data": {
      "text/plain": [
       "'\\n    전통적인 요리법이나 양식은 상당한 차이가 있지만, 이탈리아 요리는 다른 국가의 요리 문화에서 다양한 영감을 줄 만큼 다양하고 혁신적인 것으로 평가되고 있다. 각 지방마다 고유의 특색이 있어 그 양식도 다양하지만 크게 북부와 남부로 나눌 수 있다. 다른 나라와 국경을 맞대고 있던 북부 지방은 산업화되어 경제적으로 풍족하고 농업이 발달해 쌀이 풍부해 유제품이 다양한 반면 경제적으로 침체되었던 남부 지방은 올리브와 토마토, 모차렐라 치즈가 유명하고 특별히 해산물을 활용한 요리가 많다. 식재료와 치즈 등의 차이는 파스타의 종류와 소스와 수프 등도 다름을 의미한다.\\n'"
      ]
     },
     "execution_count": 3,
     "metadata": {},
     "output_type": "execute_result"
    }
   ],
   "source": [
    "soup.select_one('#cook').get_text()"
   ]
  },
  {
   "cell_type": "code",
   "execution_count": 4,
   "id": "5ea91d7c",
   "metadata": {},
   "outputs": [
    {
     "data": {
      "text/plain": [
       "'\\n    전통적인 요리법이나 양식은 상당한 차이가 있지만, 이탈리아 요리는 다른 국가의 요리 문화에서 다양한 영감을 줄 만큼 다양하고 혁신적인 것으로 평가되고 있다. 각 지방마다 고유의 특색이 있어 그 양식도 다양하지만 크게 북부와 남부로 나눌 수 있다. 다른 나라와 국경을 맞대고 있던 북부 지방은 산업화되어 경제적으로 풍족하고 농업이 발달해 쌀이 풍부해 유제품이 다양한 반면 경제적으로 침체되었던 남부 지방은 올리브와 토마토, 모차렐라 치즈가 유명하고 특별히 해산물을 활용한 요리가 많다. 식재료와 치즈 등의 차이는 파스타의 종류와 소스와 수프 등도 다름을 의미한다.\\n'"
      ]
     },
     "execution_count": 4,
     "metadata": {},
     "output_type": "execute_result"
    }
   ],
   "source": [
    "soup.select_one('#cook').string"
   ]
  },
  {
   "cell_type": "code",
   "execution_count": 5,
   "id": "69044d52",
   "metadata": {},
   "outputs": [
    {
     "data": {
      "text/plain": [
       "'\\n    전통적인 요리법이나 양식은 상당한 차이가 있지만, 이탈리아 요리는 다른 국가의 요리 문화에서 다양한 영감을 줄 만큼 다양하고 혁신적인 것으로 평가되고 있다. 각 지방마다 고유의 특색이 있어 그 양식도 다양하지만 크게 북부와 남부로 나눌 수 있다. 다른 나라와 국경을 맞대고 있던 북부 지방은 산업화되어 경제적으로 풍족하고 농업이 발달해 쌀이 풍부해 유제품이 다양한 반면 경제적으로 침체되었던 남부 지방은 올리브와 토마토, 모차렐라 치즈가 유명하고 특별히 해산물을 활용한 요리가 많다. 식재료와 치즈 등의 차이는 파스타의 종류와 소스와 수프 등도 다름을 의미한다.\\n'"
      ]
     },
     "execution_count": 5,
     "metadata": {},
     "output_type": "execute_result"
    }
   ],
   "source": [
    "soup.select_one('#cook').text"
   ]
  },
  {
   "cell_type": "code",
   "execution_count": 6,
   "id": "e2c6426a",
   "metadata": {},
   "outputs": [
    {
     "data": {
      "text/plain": [
       "<!DOCTYPE html>\n",
       "\n",
       "<html>\n",
       "<head>\n",
       "<title>크롤링 연습사이트 01</title>\n",
       "</head>\n",
       "<body>\n",
       "<h1>저의 첫 웹사이트 오신것을 환영합니다.</h1>\n",
       "<h1 title=\"welcome\">인사이트캠퍼스.</h1>\n",
       "<h2>이곳은 크롤링 연습을 위한 웹사이트입니다.</h2>\n",
       "<table border=\"1\">\n",
       "<thead>\n",
       "<tr>\n",
       "<th class=\"tablehead\">이름</th>\n",
       "<th class=\"tablehead\">나이</th>\n",
       "</tr>\n",
       "</thead>\n",
       "<tbody>\n",
       "<tr>\n",
       "<td>이몽룡</td>\n",
       "<td>34</td>\n",
       "</tr>\n",
       "<tr>\n",
       "<td>홍길동</td>\n",
       "<td>23</td>\n",
       "</tr>\n",
       "</tbody>\n",
       "</table>\n",
       "<p id=\"hello\">\n",
       "    이탈리아 요리의 시작은 기원전 4세기로 거슬러 올라갈 수 있다. 대항해시대를 거치면서 아메리카 대륙에서 감자·토마토·후추·옥수수 등이 유입되어 그 종류와 풍미가 다양해졌고 현대에 이르러서는 피자와 파스타 등 많은 이탈리아 요리가 널리 퍼지게 되었다.\n",
       "</p>\n",
       "<p id=\"cook\">\n",
       "    전통적인 요리법이나 양식은 상당한 차이가 있지만, 이탈리아 요리는 다른 국가의 요리 문화에서 다양한 영감을 줄 만큼 다양하고 혁신적인 것으로 평가되고 있다. 각 지방마다 고유의 특색이 있어 그 양식도 다양하지만 크게 북부와 남부로 나눌 수 있다. 다른 나라와 국경을 맞대고 있던 북부 지방은 산업화되어 경제적으로 풍족하고 농업이 발달해 쌀이 풍부해 유제품이 다양한 반면 경제적으로 침체되었던 남부 지방은 올리브와 토마토, 모차렐라 치즈가 유명하고 특별히 해산물을 활용한 요리가 많다. 식재료와 치즈 등의 차이는 파스타의 종류와 소스와 수프 등도 다름을 의미한다.\n",
       "</p>\n",
       "<a href=\"01.html\">1페이지 바로가기</a>\n",
       "<a href=\"02.html\">2페이지 바로가기</a>\n",
       "<a href=\"03.html\">3페이지 바로가기</a>\n",
       "<a href=\"04.html\">4페이지 바로가기</a>\n",
       "</body>\n",
       "</html>"
      ]
     },
     "execution_count": 6,
     "metadata": {},
     "output_type": "execute_result"
    }
   ],
   "source": [
    "soup"
   ]
  },
  {
   "cell_type": "code",
   "execution_count": 37,
   "id": "c7e65ad2",
   "metadata": {},
   "outputs": [
    {
     "name": "stdout",
     "output_type": "stream",
     "text": [
      "[<td>이몽룡</td>, <td>34</td>, <td>홍길동</td>, <td>23</td>]\n",
      "이몽룡\n",
      "34\n",
      "홍길동\n",
      "23\n"
     ]
    }
   ],
   "source": [
    "data1 = soup.find('table').find_all('td')\n",
    "print(data1)\n",
    "for d1 in data1:\n",
    "    print(d1.get_text())"
   ]
  },
  {
   "cell_type": "code",
   "execution_count": 50,
   "id": "c7119cf1",
   "metadata": {},
   "outputs": [
    {
     "name": "stdout",
     "output_type": "stream",
     "text": [
      "['이몽룡', '34', '홍길동', '23']\n",
      "['이몽룡', '34']\n",
      "['홍길동', '23']\n",
      "[('이몽룡', '홍길동'), ('34', '23')]\n"
     ]
    }
   ],
   "source": [
    "list1 = []\n",
    "for d1 in data1:\n",
    "    list1.append(d1.get_text())\n",
    "print(list1)\n",
    "print(list1[:2])\n",
    "print(list1[2:])\n",
    "list3 = zip(list1[:2],list1[2:])\n",
    "list3 = list(list3)\n",
    "print(list3)"
   ]
  },
  {
   "cell_type": "code",
   "execution_count": 25,
   "id": "8db40705",
   "metadata": {},
   "outputs": [
    {
     "name": "stdout",
     "output_type": "stream",
     "text": [
      "[<th class=\"tablehead\">이름</th>, <th class=\"tablehead\">나이</th>]\n",
      "이름\n",
      "나이\n"
     ]
    }
   ],
   "source": [
    "data2 = soup.find('table').find_all('th')\n",
    "print(data2)\n",
    "for d2 in data2:\n",
    "    print(d2.get_text())"
   ]
  },
  {
   "cell_type": "code",
   "execution_count": 27,
   "id": "357f09db",
   "metadata": {},
   "outputs": [
    {
     "name": "stdout",
     "output_type": "stream",
     "text": [
      "['이름', '나이']\n"
     ]
    }
   ],
   "source": [
    "list2 = []\n",
    "for d2 in data2:\n",
    "    list2.append(d2.get_text())\n",
    "print(list2)"
   ]
  },
  {
   "cell_type": "code",
   "execution_count": 52,
   "id": "b514a563",
   "metadata": {
    "scrolled": true
   },
   "outputs": [
    {
     "name": "stdout",
     "output_type": "stream",
     "text": [
      "{'이름': '이몽룡', '나이': '34'}\n"
     ]
    }
   ],
   "source": [
    "ziped = zip(list2, list1)\n",
    "ziped = dict(ziped)\n",
    "print(ziped)"
   ]
  },
  {
   "cell_type": "code",
   "execution_count": 56,
   "id": "5ab87cd6",
   "metadata": {},
   "outputs": [
    {
     "name": "stdout",
     "output_type": "stream",
     "text": [
      "[{'이름': '이몽룡', '나이': '34'}, {'이름': '홍길동', '나이': '23'}]\n"
     ]
    }
   ],
   "source": [
    "key = []\n",
    "value = []\n",
    "\n",
    "for element in soup.find('table').find_all('th'):\n",
    "    key.append(element.text)\n",
    "    \n",
    "for element in soup.find('table').find('tbody').find_all('tr'):\n",
    "    temp = []\n",
    "    for td_element in element.find_all('td'):\n",
    "        temp.append(td_element.text)\n",
    "    value.append(dict(zip(key, temp)))\n",
    "    \n",
    "print(value)"
   ]
  },
  {
   "cell_type": "code",
   "execution_count": 60,
   "id": "8aa7d029",
   "metadata": {},
   "outputs": [],
   "source": [
    "# import requests\n",
    "# from bs4 import BeautifulSoup\n",
    "\n",
    "# url = \"https://crawlingstudy-dd3c9.web.app/03/\"\n",
    "# response = requests.get(url)\n",
    "# soup = BeautifulSoup(response.text, 'html.parser')"
   ]
  },
  {
   "cell_type": "code",
   "execution_count": 59,
   "id": "9680bff4",
   "metadata": {},
   "outputs": [
    {
     "data": {
      "text/plain": [
       "<!DOCTYPE html>\n",
       "\n",
       "<html>\n",
       "<head>\n",
       "<meta charset=\"utf-8\"/>\n",
       "<link href=\"mystyle.css\" rel=\"stylesheet\" type=\"text/css\"/>\n",
       "<title>크롤링 연습사이트 03</title>\n",
       "</head>\n",
       "<body>\n",
       "<div class=\"title\">\n",
       "        인기검색종목\n",
       "    </div>\n",
       "<ul class=\"lst_pop\" id=\"popularItemList\">\n",
       "<li class=\"up\"><em>1.</em><a href=\"https://finance.naver.com/item/main.nhn?code=004770\">써니전자</a><span>5,000</span><img alt=\"상한\" height=\"11\" src=\"https://ssl.pstatic.net/static/nfinance/ico_up2.gif\" width=\"7\"/></li>\n",
       "<li class=\"dn\"><em>2.</em><a href=\"https://finance.naver.com/item/main.nhn?code=005930\">삼성전자</a><span>55,200</span><img alt=\"하락\" height=\"6\" src=\"https://ssl.pstatic.net/static/nfinance/ico_down.gif\" width=\"7\"/></li>\n",
       "<li class=\"up\"><em>3.</em><a href=\"https://finance.naver.com/item/main.nhn?code=053800\">안랩</a><span>81,000</span><img alt=\"상승\" height=\"6\" src=\"https://ssl.pstatic.net/static/nfinance/ico_up.gif\" width=\"7\"/></li>\n",
       "<li class=\"up\"><em>4.</em><a href=\"https://finance.naver.com/item/main.nhn?code=032500\">케이엠더블..</a><span>57,300</span><img alt=\"상승\" height=\"6\" src=\"https://ssl.pstatic.net/static/nfinance/ico_up.gif\" width=\"7\"/></li>\n",
       "<li class=\"up\"><em>5.</em><a href=\"https://finance.naver.com/item/main.nhn?code=062970\">피피아이</a><span>12,600</span><img alt=\"상한\" height=\"11\" src=\"https://ssl.pstatic.net/static/nfinance/ico_up2.gif\" width=\"7\"/></li>\n",
       "<li class=\"dn\"><em>6.</em><a href=\"https://finance.naver.com/item/main.nhn?code=033780\">KT&amp;G</a><span>92,500</span><img alt=\"하락\" height=\"6\" src=\"https://ssl.pstatic.net/static/nfinance/ico_down.gif\" width=\"7\"/></li>\n",
       "<li class=\"up\"><em>7.</em><a href=\"https://finance.naver.com/item/main.nhn?code=005935\">삼성전자우</a><span>45,600</span><img alt=\"상승\" height=\"6\" src=\"https://ssl.pstatic.net/static/nfinance/ico_up.gif\" width=\"7\"/></li>\n",
       "<li class=\"dn\"><em>8.</em><a href=\"https://finance.naver.com/item/main.nhn?code=009190\">대양금속</a><span>10,550</span><img alt=\"하한\" height=\"11\" src=\"https://ssl.pstatic.net/static/nfinance/ico_down2.gif\" width=\"7\"/></li>\n",
       "<li class=\"up\"><em>9.</em><a href=\"https://finance.naver.com/item/main.nhn?code=000660\">SK하이닉스</a><span>94,700</span><img alt=\"상승\" height=\"6\" src=\"https://ssl.pstatic.net/static/nfinance/ico_up.gif\" width=\"7\"/></li>\n",
       "<li class=\"dn\"><em>10.</em><a href=\"https://finance.naver.com/item/main.nhn?code=017670\">SK텔레콤</a><span>234,000</span><img alt=\"하락\" height=\"6\" src=\"https://ssl.pstatic.net/static/nfinance/ico_down.gif\" width=\"7\"/></li>\n",
       "</ul>\n",
       "<div class=\"title\">\n",
       "        주요해외지수\n",
       "    </div>\n",
       "<ul class=\"lst_major\">\n",
       "<li class=\"up\"><a href=\"https://finance.naver.com/world/sise.nhn?symbol=DJI@DJI&amp;fdtc=0\">다우산업</a><span>28,647.43</span><img alt=\"상한\" height=\"11\" src=\"https://ssl.pstatic.net/static/nfinance/ico_up2.gif\" width=\"7\"/></li>\n",
       "<li class=\"up\"><a href=\"https://finance.naver.com/world/sise.nhn?symbol=NAS@IXIC&amp;fdtc=0\">나스닥</a><span>9,015.03</span><img alt=\"상한\" height=\"11\" src=\"https://ssl.pstatic.net/static/nfinance/ico_up2.gif\" width=\"7\"/></li>\n",
       "<li class=\"up\"><a href=\"https://finance.naver.com/world/sise.nhn?symbol=HSI@HSCE&amp;fdtc=0\">홍콩H</a><span>11,320.56</span><img alt=\"상한\" height=\"11\" src=\"https://ssl.pstatic.net/static/nfinance/ico_up2.gif\" width=\"7\"/></li>\n",
       "<li class=\"up\"><a href=\"https://finance.naver.com/world/sise.nhn?symbol=SHS@000001&amp;fdtc=0\">상해종합</a><span>3,085.20</span><img alt=\"상한\" height=\"11\" src=\"https://ssl.pstatic.net/static/nfinance/ico_up2.gif\" width=\"7\"/></li>\n",
       "<li class=\"dn\"><a href=\"https://finance.naver.com/world/sise.nhn?symbol=NII@NI225&amp;fdtc=0\">니케이225</a><span>23,656.62</span><img alt=\"하락\" height=\"6\" src=\"https://ssl.pstatic.net/static/nfinance/ico_down.gif\" width=\"7\"/></li>\n",
       "</ul>\n",
       "<div class=\"title\">\n",
       "        분양중\n",
       "    </div>\n",
       "<ul class=\"sale_list _sale_list\">\n",
       "<li class=\"sale_item\">\n",
       "<div class=\"sale_box\">\n",
       "<div class=\"sale_tit\">\n",
       "<a href=\"#\" target=\"_blank\">H하우스장위</a>\n",
       "</div>\n",
       "<div class=\"sale_desc\">\n",
       "<img alt=\"\" class=\"thumb_img\" height=\"82\" src=\"https://search.pstatic.net/common/?src=https%3A%2F%2Flandthumb-phinf.pstatic.net%2F20200102_216%2Fisale_complex_1577947561833Uclja_JPEG%2Fuploadfile_202001025582218.jpg%3Ftype%3Dm232&amp;type=f82_82_q75\" width=\"82\"/>\n",
       "</div>\n",
       "<div class=\"sale_detail\">\n",
       "<dl class=\"detail_info\">\n",
       "<dt class=\"tit\">보증금</dt><dd class=\"txt\"><strong class=\"point\">16,000</strong> 만원</dd>\n",
       "<dt class=\"tit\">유형</dt><dd class=\"txt\">아파트<span class=\"bar\">|</span>일반민간임대</dd>\n",
       "<dt class=\"tit\">규모/면적</dt><dd class=\"txt\">분양 134세대<span class=\"bar\">|</span>45㎡~65㎡</dd>\n",
       "<dt class=\"tit\">위치</dt> <dd class=\"txt\">서울시 성북구 장위동</dd>\n",
       "</dl>\n",
       "</div>\n",
       "</div>\n",
       "</li>\n",
       "<li class=\"sale_item\">\n",
       "<div class=\"sale_box\">\n",
       "<div class=\"sale_tit\">\n",
       "<a href=\"#\" target=\"_blank\">고덕리엔파크2단지 장기전세</a>\n",
       "</div>\n",
       "<div class=\"sale_desc\">\n",
       "<img alt=\"\" class=\"thumb_img\" height=\"82\" src=\"https://search.pstatic.net/common/?src=https%3A%2F%2Flandthumb-phinf.pstatic.net%2F20110810_136%2Fisale_complex_1312968580369Yxsk9_JPEG%2Fuploadfile_201103075773845.jpg%3Ftype%3Dm232&amp;type=f82_82_q75\" width=\"82\"/>\n",
       "</div>\n",
       "<div class=\"sale_detail\">\n",
       "<dl class=\"detail_info\">\n",
       "<dt class=\"tit\">보증금</dt><dd class=\"txt\"><strong class=\"point\">38,400</strong> 만원</dd>\n",
       "<dt class=\"tit\">유형</dt><dd class=\"txt\">아파트<span class=\"bar\">|</span>장기전세주택</dd>\n",
       "<dt class=\"tit\">규모/면적</dt><dd class=\"txt\">분양 1세대<span class=\"bar\">|</span>149㎡</dd>\n",
       "<dt class=\"tit\">위치</dt> <dd class=\"txt\">서울시 강동구 강일동</dd>\n",
       "</dl>\n",
       "</div>\n",
       "</div>\n",
       "</li>\n",
       "<li class=\"sale_item\">\n",
       "<div class=\"sale_box\">\n",
       "<div class=\"sale_tit\">\n",
       "<a href=\"#\" target=\"_blank\">신정이펜하우스3단지 장기전세</a>\n",
       "</div>\n",
       "<div class=\"sale_desc\">\n",
       "<img alt=\"\" class=\"thumb_img\" height=\"82\" src=\"https://search.pstatic.net/common/?src=https%3A%2F%2Flandthumb-phinf.pstatic.net%2F20110810_260%2Fisale_complex_1312968335794i6pKe_JPEG%2Fuploadfile_201102243825127.jpg%3Ftype%3Dm232&amp;type=f82_82_q75\" width=\"82\"/>\n",
       "</div>\n",
       "<div class=\"sale_detail\">\n",
       "<dl class=\"detail_info\">\n",
       "<dt class=\"tit\">보증금</dt><dd class=\"txt\"><strong class=\"point\">39,040</strong> 만원</dd>\n",
       "<dt class=\"tit\">유형</dt><dd class=\"txt\">아파트<span class=\"bar\">|</span>장기전세주택</dd>\n",
       "<dt class=\"tit\">규모/면적</dt><dd class=\"txt\">분양 1세대<span class=\"bar\">|</span>148㎡</dd>\n",
       "<dt class=\"tit\">위치</dt> <dd class=\"txt\">서울시 양천구 신정동</dd>\n",
       "</dl>\n",
       "</div>\n",
       "</div>\n",
       "</li>\n",
       "<li class=\"sale_item\">\n",
       "<div class=\"sale_box\">\n",
       "<div class=\"sale_tit\">\n",
       "<a href=\"#\" target=\"_blank\">천왕이펜하우스2단지 장기전세</a>\n",
       "</div>\n",
       "<div class=\"sale_desc\">\n",
       "<img alt=\"\" class=\"thumb_img\" height=\"82\" src=\"https://search.pstatic.net/common/?src=https%3A%2F%2Flandthumb-phinf.pstatic.net%2F20110810_35%2Fisale_complex_1312968350479SO2pI_JPEG%2Fuploadfile_201102244996257.jpg%3Ftype%3Dm232&amp;type=f82_82_q75\" width=\"82\"/>\n",
       "</div>\n",
       "<div class=\"sale_detail\">\n",
       "<dl class=\"detail_info\">\n",
       "<dt class=\"tit\">보증금</dt><dd class=\"txt\"><strong class=\"point\">38,240</strong> 만원</dd>\n",
       "<dt class=\"tit\">유형</dt><dd class=\"txt\">아파트<span class=\"bar\">|</span>장기전세주택</dd>\n",
       "<dt class=\"tit\">규모/면적</dt><dd class=\"txt\">분양 1세대<span class=\"bar\">|</span>142㎡</dd>\n",
       "<dt class=\"tit\">위치</dt> <dd class=\"txt\">서울시 구로구 오류동</dd>\n",
       "</dl>\n",
       "</div>\n",
       "</div>\n",
       "</li>\n",
       "<li class=\"sale_item\">\n",
       "<div class=\"sale_box\">\n",
       "<div class=\"sale_tit\">\n",
       "<a href=\"#\" target=\"_blank\">송파파크데일2단지 장기전세</a>\n",
       "</div>\n",
       "<div class=\"sale_desc\">\n",
       "<img alt=\"\" class=\"thumb_img\" height=\"82\" src=\"https://search.pstatic.net/common/?src=https%3A%2F%2Flandthumb-phinf.pstatic.net%2F20110810_211%2Fisale_complex_1312968571650Iusoz_JPEG%2Fuploadfile_201103074989552.jpg%3Ftype%3Dm232&amp;type=f82_82_q75\" width=\"82\"/>\n",
       "</div>\n",
       "<div class=\"sale_detail\">\n",
       "<dl class=\"detail_info\">\n",
       "<dt class=\"tit\">보증금</dt><dd class=\"txt\"><strong class=\"point\">45,600</strong> 만원</dd>\n",
       "<dt class=\"tit\">유형</dt><dd class=\"txt\">아파트<span class=\"bar\">|</span>장기전세주택</dd>\n",
       "<dt class=\"tit\">규모/면적</dt><dd class=\"txt\">분양 1세대<span class=\"bar\">|</span>150㎡</dd>\n",
       "<dt class=\"tit\">위치</dt> <dd class=\"txt\">서울시 송파구 마천동</dd>\n",
       "</dl>\n",
       "</div>\n",
       "</div>\n",
       "</li>\n",
       "</ul></body>\n",
       "</html>"
      ]
     },
     "execution_count": 59,
     "metadata": {},
     "output_type": "execute_result"
    }
   ],
   "source": [
    "soup"
   ]
  }
 ],
 "metadata": {
  "kernelspec": {
   "display_name": "Python 3 (ipykernel)",
   "language": "python",
   "name": "python3"
  },
  "language_info": {
   "codemirror_mode": {
    "name": "ipython",
    "version": 3
   },
   "file_extension": ".py",
   "mimetype": "text/x-python",
   "name": "python",
   "nbconvert_exporter": "python",
   "pygments_lexer": "ipython3",
   "version": "3.8.7"
  }
 },
 "nbformat": 4,
 "nbformat_minor": 5
}
