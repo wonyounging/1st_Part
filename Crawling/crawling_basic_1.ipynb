{
 "cells": [
  {
   "cell_type": "code",
   "execution_count": 1,
   "id": "c692e551",
   "metadata": {},
   "outputs": [],
   "source": [
    "from bs4 import BeautifulSoup"
   ]
  },
  {
   "cell_type": "code",
   "execution_count": 41,
   "id": "cd148aac",
   "metadata": {},
   "outputs": [],
   "source": [
    "with open('html/00.Example.html', encoding='utf8')as f:\n",
    "  soup = BeautifulSoup(f, 'html.parser')"
   ]
  },
  {
   "cell_type": "code",
   "execution_count": 42,
   "id": "a1e5518b",
   "metadata": {},
   "outputs": [
    {
     "data": {
      "text/plain": [
       "<!DOCTYPE html>\n",
       "\n",
       "<html lang=\"en\">\n",
       "<head>\n",
       "<meta charset=\"utf-8\"/>\n",
       "<meta content=\"IE=edge\" http-equiv=\"X-UA-Compatible\"/>\n",
       "<meta content=\"width=device-width, initial-scale=1.0\" name=\"viewport\"/>\n",
       "<title>Web Crawling Example</title>\n",
       "</head>\n",
       "<body>\n",
       "<div>\n",
       "<p>a</p><p>b</p><p>c</p>\n",
       "</div>\n",
       "<div class=\"ex_class sample\">\n",
       "<p>X</p><p>Y</p><p>Z</p>\n",
       "</div>\n",
       "<div id=\"ex_id\">\n",
       "<p>1</p><p>2</p><p>3</p>\n",
       "</div>\n",
       "<h1>This is a heading.</h1>\n",
       "<p>This is a paragraph.</p>\n",
       "<p>This is another paragraph.</p>\n",
       "<a class=\"a sample\" href=\"www.naver.com\">네이버</a>\n",
       "<table border=\"1\">\n",
       "<tr>\n",
       "<td>A</td>\n",
       "<td>B</td>\n",
       "<td>C</td>\n",
       "</tr>\n",
       "<tr>\n",
       "<td>x</td>\n",
       "<td>y</td>\n",
       "<td>z</td>\n",
       "</tr>\n",
       "</table>\n",
       "<ul>\n",
       "<li>삼겹살</li>\n",
       "<li>치킨</li>\n",
       "<li>비빕밥</li>\n",
       "</ul>\n",
       "</body>\n",
       "</html>"
      ]
     },
     "execution_count": 42,
     "metadata": {},
     "output_type": "execute_result"
    }
   ],
   "source": [
    "soup"
   ]
  },
  {
   "cell_type": "markdown",
   "id": "f93681c5",
   "metadata": {},
   "source": [
    "# 1. find(), find_all()"
   ]
  },
  {
   "cell_type": "code",
   "execution_count": 43,
   "id": "e93e7e8a",
   "metadata": {},
   "outputs": [],
   "source": [
    "# 첫번째 div 태그의 내용을 가져오기\n",
    "first_div = soup.find('div')"
   ]
  },
  {
   "cell_type": "code",
   "execution_count": 44,
   "id": "4c7a7d60",
   "metadata": {},
   "outputs": [
    {
     "name": "stdout",
     "output_type": "stream",
     "text": [
      "<div>\n",
      "<p>a</p><p>b</p><p>c</p>\n",
      "</div>\n"
     ]
    }
   ],
   "source": [
    "print(first_div)"
   ]
  },
  {
   "cell_type": "code",
   "execution_count": 45,
   "id": "21e4ebfa",
   "metadata": {},
   "outputs": [
    {
     "name": "stdout",
     "output_type": "stream",
     "text": [
      "[<p>a</p>, <p>b</p>, <p>c</p>]\n"
     ]
    }
   ],
   "source": [
    "ps = first_div.find_all('p')\n",
    "print(ps)"
   ]
  },
  {
   "cell_type": "code",
   "execution_count": 46,
   "id": "bbcf6186",
   "metadata": {},
   "outputs": [
    {
     "name": "stdout",
     "output_type": "stream",
     "text": [
      "<p>a</p>\n",
      "<p>b</p>\n",
      "<p>c</p>\n"
     ]
    }
   ],
   "source": [
    "for ptag in ps:\n",
    "    print(ptag)"
   ]
  },
  {
   "cell_type": "code",
   "execution_count": 47,
   "id": "db3278ab",
   "metadata": {},
   "outputs": [
    {
     "data": {
      "text/plain": [
       "<p>b</p>"
      ]
     },
     "execution_count": 47,
     "metadata": {},
     "output_type": "execute_result"
    }
   ],
   "source": [
    "ps[1]"
   ]
  },
  {
   "cell_type": "markdown",
   "id": "14111e4c",
   "metadata": {},
   "source": [
    "# 2. CSS selector : select_one(), select()"
   ]
  },
  {
   "cell_type": "code",
   "execution_count": 48,
   "id": "c6899336",
   "metadata": {},
   "outputs": [
    {
     "name": "stdout",
     "output_type": "stream",
     "text": [
      "<div class=\"ex_class sample\">\n",
      "<p>X</p><p>Y</p><p>Z</p>\n",
      "</div>\n"
     ]
    }
   ],
   "source": [
    "# class 명이 ex_class인 태그 정보 가져오기\n",
    "second_div = soup.select_one('.ex_class')    # 공백이 있으면 안됨 / 공백이 있을시 . 으로 연결\n",
    "print(second_div)"
   ]
  },
  {
   "cell_type": "code",
   "execution_count": 49,
   "id": "881c54c6",
   "metadata": {},
   "outputs": [
    {
     "name": "stdout",
     "output_type": "stream",
     "text": [
      "[<div class=\"ex_class sample\">\n",
      "<p>X</p><p>Y</p><p>Z</p>\n",
      "</div>]\n"
     ]
    }
   ],
   "source": [
    "# 여러개의 class 명 가져오기\n",
    "second_div = soup.select('.ex_class.sample')    # 공백이 있으면 안됨 / 공백이 있을시 . 으로 연결\n",
    "print(second_div)"
   ]
  },
  {
   "cell_type": "code",
   "execution_count": 50,
   "id": "720d37d6",
   "metadata": {},
   "outputs": [
    {
     "name": "stdout",
     "output_type": "stream",
     "text": [
      "[<div class=\"ex_class sample\">\n",
      "<p>X</p><p>Y</p><p>Z</p>\n",
      "</div>, <a class=\"a sample\" href=\"www.naver.com\">네이버</a>]\n"
     ]
    }
   ],
   "source": [
    "third_div = soup.select('.sample')\n",
    "print(third_div)"
   ]
  },
  {
   "cell_type": "code",
   "execution_count": 51,
   "id": "dd1e273b",
   "metadata": {},
   "outputs": [
    {
     "name": "stdout",
     "output_type": "stream",
     "text": [
      "<div id=\"ex_id\">\n",
      "<p>1</p><p>2</p><p>3</p>\n",
      "</div>\n"
     ]
    }
   ],
   "source": [
    "third_div_id = soup.select_one('#ex_id')\n",
    "print(third_div_id)"
   ]
  },
  {
   "cell_type": "code",
   "execution_count": 52,
   "id": "ef00b1cc",
   "metadata": {},
   "outputs": [
    {
     "data": {
      "text/plain": [
       "3"
      ]
     },
     "execution_count": 52,
     "metadata": {},
     "output_type": "execute_result"
    }
   ],
   "source": [
    "# div 태그 전부 가져오기\n",
    "all_div = soup.select('div')\n",
    "len(all_div)"
   ]
  },
  {
   "cell_type": "code",
   "execution_count": 53,
   "id": "d8208dbb",
   "metadata": {},
   "outputs": [
    {
     "data": {
      "text/plain": [
       "11"
      ]
     },
     "execution_count": 53,
     "metadata": {},
     "output_type": "execute_result"
    }
   ],
   "source": [
    "# p 태그 전부 가져오기\n",
    "all_p = soup.select('p')\n",
    "len(all_p)"
   ]
  },
  {
   "cell_type": "code",
   "execution_count": 55,
   "id": "9035748c",
   "metadata": {},
   "outputs": [
    {
     "data": {
      "text/plain": [
       "<a class=\"a sample\" href=\"www.naver.com\">네이버</a>"
      ]
     },
     "execution_count": 55,
     "metadata": {},
     "output_type": "execute_result"
    }
   ],
   "source": [
    "# 태그가 a이고 class 이름도 a인 정보 가져오기\n",
    "soup.select_one('a.a')"
   ]
  },
  {
   "cell_type": "code",
   "execution_count": 56,
   "id": "24ee17bd",
   "metadata": {},
   "outputs": [
    {
     "data": {
      "text/plain": [
       "<div id=\"ex_id\">\n",
       "<p>1</p><p>2</p><p>3</p>\n",
       "</div>"
      ]
     },
     "execution_count": 56,
     "metadata": {},
     "output_type": "execute_result"
    }
   ],
   "source": [
    "# 태그가 div이고 id가 ex_id인 정보 가져오기\n",
    "soup.select_one('div#ex_id')"
   ]
  },
  {
   "cell_type": "markdown",
   "id": "fc0aa2b6",
   "metadata": {},
   "source": [
    "# 결과"
   ]
  },
  {
   "cell_type": "code",
   "execution_count": 63,
   "id": "61573b9b",
   "metadata": {},
   "outputs": [
    {
     "data": {
      "text/plain": [
       "'This is a heading.'"
      ]
     },
     "execution_count": 63,
     "metadata": {},
     "output_type": "execute_result"
    }
   ],
   "source": [
    "# 태그 안의 내용\n",
    "soup.find('h1').get_text()"
   ]
  },
  {
   "cell_type": "code",
   "execution_count": 64,
   "id": "4f3c7c1a",
   "metadata": {},
   "outputs": [
    {
     "data": {
      "text/plain": [
       "'This is a heading.'"
      ]
     },
     "execution_count": 64,
     "metadata": {},
     "output_type": "execute_result"
    }
   ],
   "source": [
    "soup.find('h1').string"
   ]
  },
  {
   "cell_type": "code",
   "execution_count": 79,
   "id": "0f296637",
   "metadata": {},
   "outputs": [
    {
     "data": {
      "text/plain": [
       "'네이버'"
      ]
     },
     "execution_count": 79,
     "metadata": {},
     "output_type": "execute_result"
    }
   ],
   "source": [
    "soup.find('a').string"
   ]
  },
  {
   "cell_type": "code",
   "execution_count": 83,
   "id": "2067c12b",
   "metadata": {},
   "outputs": [
    {
     "data": {
      "text/plain": [
       "'www.naver.com'"
      ]
     },
     "execution_count": 83,
     "metadata": {},
     "output_type": "execute_result"
    }
   ],
   "source": [
    "soup.find('a')['href']"
   ]
  },
  {
   "cell_type": "code",
   "execution_count": 84,
   "id": "e0245a0b",
   "metadata": {},
   "outputs": [
    {
     "data": {
      "text/plain": [
       "<!DOCTYPE html>\n",
       "\n",
       "<html lang=\"en\">\n",
       "<head>\n",
       "<meta charset=\"utf-8\"/>\n",
       "<meta content=\"IE=edge\" http-equiv=\"X-UA-Compatible\"/>\n",
       "<meta content=\"width=device-width, initial-scale=1.0\" name=\"viewport\"/>\n",
       "<title>Web Crawling Example</title>\n",
       "</head>\n",
       "<body>\n",
       "<div>\n",
       "<p>a</p><p>b</p><p>c</p>\n",
       "</div>\n",
       "<div class=\"ex_class sample\">\n",
       "<p>X</p><p>Y</p><p>Z</p>\n",
       "</div>\n",
       "<div id=\"ex_id\">\n",
       "<p>1</p><p>2</p><p>3</p>\n",
       "</div>\n",
       "<h1>This is a heading.</h1>\n",
       "<p>This is a paragraph.</p>\n",
       "<p>This is another paragraph.</p>\n",
       "<a class=\"a sample\" href=\"www.naver.com\">네이버</a>\n",
       "<table border=\"1\">\n",
       "<tr>\n",
       "<td>A</td>\n",
       "<td>B</td>\n",
       "<td>C</td>\n",
       "</tr>\n",
       "<tr>\n",
       "<td>x</td>\n",
       "<td>y</td>\n",
       "<td>z</td>\n",
       "</tr>\n",
       "</table>\n",
       "<ul>\n",
       "<li>삼겹살</li>\n",
       "<li>치킨</li>\n",
       "<li>비빕밥</li>\n",
       "</ul>\n",
       "</body>\n",
       "</html>"
      ]
     },
     "execution_count": 84,
     "metadata": {},
     "output_type": "execute_result"
    }
   ],
   "source": [
    "soup"
   ]
  },
  {
   "cell_type": "code",
   "execution_count": 85,
   "id": "81d91b5c",
   "metadata": {},
   "outputs": [
    {
     "data": {
      "text/plain": [
       "[<li>삼겹살</li>, <li>치킨</li>, <li>비빕밥</li>]"
      ]
     },
     "execution_count": 85,
     "metadata": {},
     "output_type": "execute_result"
    }
   ],
   "source": [
    "soup('li')"
   ]
  },
  {
   "cell_type": "code",
   "execution_count": 92,
   "id": "22c6fea4",
   "metadata": {},
   "outputs": [
    {
     "data": {
      "text/plain": [
       "[<li>삼겹살</li>, <li>치킨</li>, <li>비빕밥</li>]"
      ]
     },
     "execution_count": 92,
     "metadata": {},
     "output_type": "execute_result"
    }
   ],
   "source": [
    "lis = soup.find_all('li')\n",
    "lis"
   ]
  },
  {
   "cell_type": "code",
   "execution_count": 93,
   "id": "4dc0e52b",
   "metadata": {},
   "outputs": [
    {
     "name": "stdout",
     "output_type": "stream",
     "text": [
      "삼겹살\n",
      "치킨\n",
      "비빕밥\n"
     ]
    }
   ],
   "source": [
    "for li in lis:\n",
    "    print(li.get_text())"
   ]
  },
  {
   "cell_type": "code",
   "execution_count": 94,
   "id": "92c695ea",
   "metadata": {},
   "outputs": [
    {
     "name": "stdout",
     "output_type": "stream",
     "text": [
      "['삼겹살', '치킨', '비빕밥']\n"
     ]
    }
   ],
   "source": [
    "menu = []\n",
    "for li in lis:\n",
    "    menu.append(li.get_text())\n",
    "print(menu)"
   ]
  },
  {
   "cell_type": "code",
   "execution_count": 106,
   "id": "d513a9af",
   "metadata": {},
   "outputs": [
    {
     "name": "stdout",
     "output_type": "stream",
     "text": [
      "A B C \n",
      "x y z \n"
     ]
    }
   ],
   "source": [
    "trs = soup.find('table').find_all('tr')\n",
    "\n",
    "for tr in trs:\n",
    "    tds = tr.find_all('td')\n",
    "    for td in tds:\n",
    "        print(td.get_text(), end=' ')\n",
    "    print()"
   ]
  }
 ],
 "metadata": {
  "kernelspec": {
   "display_name": "Python 3 (ipykernel)",
   "language": "python",
   "name": "python3"
  },
  "language_info": {
   "codemirror_mode": {
    "name": "ipython",
    "version": 3
   },
   "file_extension": ".py",
   "mimetype": "text/x-python",
   "name": "python",
   "nbconvert_exporter": "python",
   "pygments_lexer": "ipython3",
   "version": "3.8.7"
  }
 },
 "nbformat": 4,
 "nbformat_minor": 5
}
