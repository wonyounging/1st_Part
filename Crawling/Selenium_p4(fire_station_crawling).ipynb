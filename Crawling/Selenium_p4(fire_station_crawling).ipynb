{
 "cells": [
  {
   "cell_type": "markdown",
   "id": "4bac4fae",
   "metadata": {},
   "source": [
    "# 서울시 소방서 크롤링"
   ]
  },
  {
   "cell_type": "code",
   "execution_count": 1,
   "id": "ddade9d8",
   "metadata": {},
   "outputs": [],
   "source": [
    "# 관서명 주소 전화번호\n",
    "# csv 파일로 저장"
   ]
  },
  {
   "cell_type": "code",
   "execution_count": 2,
   "id": "009428d8",
   "metadata": {},
   "outputs": [],
   "source": [
    "from selenium import webdriver\n",
    "from selenium.webdriver.common.keys import Keys\n",
    "from selenium.webdriver.common.by import By\n",
    "from bs4 import BeautifulSoup\n",
    "import time\n",
    "import pandas as pd"
   ]
  },
  {
   "cell_type": "code",
   "execution_count": 50,
   "id": "4ceba00f",
   "metadata": {},
   "outputs": [],
   "source": [
    "base_url = 'https://www.nfa.go.kr/nfa/introduce/status/firestationidfo/?searchDistance=10&searchMode=distance&myX=37.5382842&myY=126.9213649&searchKeyword='\n",
    "# sub_url = '&pageIndex=' + str(1)\n",
    "# url = base_url + sub_url\n",
    "driver = webdriver.Chrome()\n",
    "driver.get(base_url)\n",
    "search_box = driver.find_element(by=By.NAME, value='searchKeyword')\n",
    "search_box.send_keys('서울')\n",
    "search_box.send_keys(Keys.ENTER)\n",
    "time.sleep(2)"
   ]
  },
  {
   "cell_type": "markdown",
   "id": "b3ea6533",
   "metadata": {},
   "source": [
    "# 첫번째 페이지"
   ]
  },
  {
   "cell_type": "code",
   "execution_count": 51,
   "id": "5dcb2d65",
   "metadata": {
    "scrolled": true
   },
   "outputs": [
    {
     "data": {
      "text/plain": [
       "[<li id=\"0\" style=\"height: 172px;\">\n",
       " <img class=\"marker\" src=\"/resources/img/firestation/map_ic_station.png\"/>\n",
       " <span class=\"title\">동작소방서</span>\n",
       " <address>서울특별시 동작구 여의대방로16길 55(신대방동)</address>\n",
       " <span class=\"tel\">02-847-1190</span>\n",
       " <span class=\"info\">서울소방재난본부</span>\n",
       " </li>,\n",
       " <li id=\"1\" style=\"height: 172px;\">\n",
       " <img class=\"marker\" src=\"/resources/img/firestation/map_ic_station.png\"/>\n",
       " <span class=\"title\">서대문소방서</span>\n",
       " <address>서울특별시 서대문구 연희로 182(연희동)</address>\n",
       " <span class=\"tel\">02-3144-1190</span>\n",
       " <span class=\"info\">서울소방재난본부</span>\n",
       " </li>,\n",
       " <li id=\"2\" style=\"height: 172px;\">\n",
       " <img class=\"marker\" src=\"/resources/img/firestation/map_ic_station.png\"/>\n",
       " <span class=\"title\">광진소방서</span>\n",
       " <address>서울특별시 광진구 광나루로 480(구의동)</address>\n",
       " <span class=\"tel\">02-457-0119</span>\n",
       " <span class=\"info\">서울소방재난본부</span>\n",
       " </li>,\n",
       " <li id=\"3\" style=\"height: 172px;\">\n",
       " <img class=\"marker\" src=\"/resources/img/firestation/map_ic_station.png\"/>\n",
       " <span class=\"title\">송파소방서</span>\n",
       " <address>서울특별시 송파구 오금로51길 56(마천동)</address>\n",
       " <span class=\"tel\">02-403-2119</span>\n",
       " <span class=\"info\">서울소방재난본부</span>\n",
       " </li>,\n",
       " <li id=\"4\" style=\"height: 172px;\">\n",
       " <img class=\"marker\" src=\"/resources/img/firestation/map_ic_station.png\"/>\n",
       " <span class=\"title\">양천소방서</span>\n",
       " <address>서울특별시 양천구 목동서로 180(목동)</address>\n",
       " <span class=\"tel\">02-2655-1119</span>\n",
       " <span class=\"info\">서울소방재난본부</span>\n",
       " </li>,\n",
       " <li id=\"5\" style=\"height: 172px;\">\n",
       " <img class=\"marker\" src=\"/resources/img/firestation/map_ic_station.png\"/>\n",
       " <span class=\"title\">은평소방서</span>\n",
       " <address>서울특별시 은평구 통일로 962(진관동)</address>\n",
       " <span class=\"tel\">02-355-0119</span>\n",
       " <span class=\"info\">서울소방재난본부</span>\n",
       " </li>,\n",
       " <li id=\"6\" style=\"height: 172px;\">\n",
       " <img class=\"marker\" src=\"/resources/img/firestation/map_ic_station.png\"/>\n",
       " <span class=\"title\">노원소방서</span>\n",
       " <address>서울특별시 노원구 한글비석로 1길 8(하계동)</address>\n",
       " <span class=\"tel\">02-977-0119</span>\n",
       " <span class=\"info\">서울소방재난본부</span>\n",
       " </li>,\n",
       " <li id=\"7\" style=\"height: 172px;\">\n",
       " <img class=\"marker\" src=\"/resources/img/firestation/map_ic_station.png\"/>\n",
       " <span class=\"title\">종로소방서</span>\n",
       " <address>서울특별시 종로구 종로1길 28(수송동)</address>\n",
       " <span class=\"tel\">02-735-6119</span>\n",
       " <span class=\"info\">서울소방재난본부</span>\n",
       " </li>,\n",
       " <li id=\"8\" style=\"height: 172px;\">\n",
       " <img class=\"marker\" src=\"/resources/img/firestation/map_ic_station.png\"/>\n",
       " <span class=\"title\">도봉소방서</span>\n",
       " <address>서울특별시 도봉구 도봉로 666(방학동)</address>\n",
       " <span class=\"tel\">02-3492-3437</span>\n",
       " <span class=\"info\">서울소방재난본부</span>\n",
       " </li>,\n",
       " <li id=\"9\" style=\"height: 172px;\">\n",
       " <img class=\"marker\" src=\"/resources/img/firestation/map_ic_station.png\"/>\n",
       " <span class=\"title\">용산소방서</span>\n",
       " <address>서울특별시 용산구 한강대로 167(한강로2가)</address>\n",
       " <span class=\"tel\">02-794-0119</span>\n",
       " <span class=\"info\">서울소방재난본부</span>\n",
       " </li>]"
      ]
     },
     "execution_count": 51,
     "metadata": {},
     "output_type": "execute_result"
    }
   ],
   "source": [
    "# 관서명 주소 전화번호\n",
    "# soup\n",
    "html = driver.page_source\n",
    "soup = BeautifulSoup(html, 'html.parser')\n",
    "soup\n",
    "trs = soup.select('.stations-list > li')\n",
    "trs"
   ]
  },
  {
   "cell_type": "code",
   "execution_count": 52,
   "id": "a39cd506",
   "metadata": {},
   "outputs": [
    {
     "data": {
      "text/plain": [
       "<li id=\"0\" style=\"height: 172px;\">\n",
       "<img class=\"marker\" src=\"/resources/img/firestation/map_ic_station.png\"/>\n",
       "<span class=\"title\">동작소방서</span>\n",
       "<address>서울특별시 동작구 여의대방로16길 55(신대방동)</address>\n",
       "<span class=\"tel\">02-847-1190</span>\n",
       "<span class=\"info\">서울소방재난본부</span>\n",
       "</li>"
      ]
     },
     "execution_count": 52,
     "metadata": {},
     "output_type": "execute_result"
    }
   ],
   "source": [
    "tr = trs[0]\n",
    "tr"
   ]
  },
  {
   "cell_type": "code",
   "execution_count": 53,
   "id": "a109426c",
   "metadata": {},
   "outputs": [
    {
     "data": {
      "text/plain": [
       "'동작소방서'"
      ]
     },
     "execution_count": 53,
     "metadata": {},
     "output_type": "execute_result"
    }
   ],
   "source": [
    "# 관서명\n",
    "title = tr.select_one('span').get_text().strip()\n",
    "title"
   ]
  },
  {
   "cell_type": "code",
   "execution_count": 54,
   "id": "3ef0616c",
   "metadata": {},
   "outputs": [
    {
     "data": {
      "text/plain": [
       "'서울특별시 동작구 여의대방로16길 55(신대방동)'"
      ]
     },
     "execution_count": 54,
     "metadata": {},
     "output_type": "execute_result"
    }
   ],
   "source": [
    "# 주소\n",
    "addr = tr.select_one('address').get_text().strip()\n",
    "addr"
   ]
  },
  {
   "cell_type": "code",
   "execution_count": 55,
   "id": "de59079b",
   "metadata": {},
   "outputs": [
    {
     "data": {
      "text/plain": [
       "'02-847-1190'"
      ]
     },
     "execution_count": 55,
     "metadata": {},
     "output_type": "execute_result"
    }
   ],
   "source": [
    "# 전화번호\n",
    "call = tr.select_one('.tel').get_text().strip()\n",
    "call"
   ]
  },
  {
   "cell_type": "code",
   "execution_count": 56,
   "id": "c8fe5ac9",
   "metadata": {},
   "outputs": [
    {
     "data": {
      "text/plain": [
       "[['동작소방서', '서울특별시 동작구 여의대방로16길 55(신대방동)', '02-847-1190'],\n",
       " ['서대문소방서', '서울특별시 서대문구 연희로 182(연희동)', '02-3144-1190'],\n",
       " ['광진소방서', '서울특별시 광진구 광나루로 480(구의동)', '02-457-0119'],\n",
       " ['송파소방서', '서울특별시 송파구 오금로51길 56(마천동)', '02-403-2119'],\n",
       " ['양천소방서', '서울특별시 양천구 목동서로 180(목동)', '02-2655-1119'],\n",
       " ['은평소방서', '서울특별시 은평구 통일로 962(진관동)', '02-355-0119'],\n",
       " ['노원소방서', '서울특별시 노원구 한글비석로 1길 8(하계동)', '02-977-0119'],\n",
       " ['종로소방서', '서울특별시 종로구 종로1길 28(수송동)', '02-735-6119'],\n",
       " ['도봉소방서', '서울특별시 도봉구 도봉로 666(방학동)', '02-3492-3437'],\n",
       " ['용산소방서', '서울특별시 용산구 한강대로 167(한강로2가)', '02-794-0119']]"
      ]
     },
     "execution_count": 56,
     "metadata": {},
     "output_type": "execute_result"
    }
   ],
   "source": [
    "lines = []\n",
    "for tr in trs:\n",
    "    title = tr.select_one('span').get_text().strip()\n",
    "    addr = tr.select_one('address').get_text().strip()\n",
    "    call = tr.select_one('.tel').get_text().strip()\n",
    "    \n",
    "    lines.append([title, addr, call])\n",
    "lines"
   ]
  },
  {
   "cell_type": "markdown",
   "id": "cd9559ee",
   "metadata": {},
   "source": [
    "# 2페이지 이동"
   ]
  },
  {
   "cell_type": "code",
   "execution_count": 57,
   "id": "1bc95ad1",
   "metadata": {},
   "outputs": [],
   "source": [
    "\n",
    "next_p = driver.find_element(By.XPATH, '//*[@id=\"listForm\"]/div/section/ul/li[1]/div/div/ul/li[4]/a').click()\n",
    "time.sleep(1)"
   ]
  },
  {
   "cell_type": "code",
   "execution_count": 58,
   "id": "74f57f2b",
   "metadata": {},
   "outputs": [],
   "source": [
    "html = driver.page_source\n",
    "soup = BeautifulSoup(html, 'html.parser')\n",
    "trs = soup.select('.stations-list > li')\n",
    "tr = trs[0]"
   ]
  },
  {
   "cell_type": "code",
   "execution_count": 59,
   "id": "73ab6267",
   "metadata": {},
   "outputs": [
    {
     "data": {
      "text/plain": [
       "[['동작소방서', '서울특별시 동작구 여의대방로16길 55(신대방동)', '02-847-1190'],\n",
       " ['서대문소방서', '서울특별시 서대문구 연희로 182(연희동)', '02-3144-1190'],\n",
       " ['광진소방서', '서울특별시 광진구 광나루로 480(구의동)', '02-457-0119'],\n",
       " ['송파소방서', '서울특별시 송파구 오금로51길 56(마천동)', '02-403-2119'],\n",
       " ['양천소방서', '서울특별시 양천구 목동서로 180(목동)', '02-2655-1119'],\n",
       " ['은평소방서', '서울특별시 은평구 통일로 962(진관동)', '02-355-0119'],\n",
       " ['노원소방서', '서울특별시 노원구 한글비석로 1길 8(하계동)', '02-977-0119'],\n",
       " ['종로소방서', '서울특별시 종로구 종로1길 28(수송동)', '02-735-6119'],\n",
       " ['도봉소방서', '서울특별시 도봉구 도봉로 666(방학동)', '02-3492-3437'],\n",
       " ['용산소방서', '서울특별시 용산구 한강대로 167(한강로2가)', '02-794-0119'],\n",
       " ['마포소방서', '서울특별시 마포구 창전로 76(신수동)', '02-716-0604'],\n",
       " ['강서소방서', '서울특별시 강서구 양천로 550(등촌동)', '02-3663-0119'],\n",
       " ['구로소방서', '서울특별시 구로구 경인로 408(고척동)', '02-2618-0119'],\n",
       " ['성동소방서', '서울특별시 성동구 살곶이길 331(행당동)', '02-2622-1777'],\n",
       " ['관악소방서', '서울특별시 관악구 관악로 97(봉천동)', '02-874-8119'],\n",
       " ['서초소방서', '서울특별시 서초구 사평대로 67(반포동)', '02-537-0119'],\n",
       " ['중부소방서', '서울특별시 중구 퇴계로 394(무학동)', '02-2234-0119'],\n",
       " ['강동소방서', '서울특별시 강동구 성내로 39(성내동)', '02-470-0119'],\n",
       " ['강북소방서', '서울특별시 강북구 한천로 911', '02-6946-0119'],\n",
       " ['성북소방서', '서울특별시 성북구 종암로 27길 3(종암동)', '02-921-0119']]"
      ]
     },
     "execution_count": 59,
     "metadata": {},
     "output_type": "execute_result"
    }
   ],
   "source": [
    "for tr in trs:\n",
    "    title = tr.select_one('span').get_text().strip()\n",
    "    addr = tr.select_one('address').get_text().strip()\n",
    "    call = tr.select_one('.tel').get_text().strip()\n",
    "    \n",
    "    lines.append([title, addr, call])\n",
    "lines"
   ]
  },
  {
   "cell_type": "markdown",
   "id": "42d40a1d",
   "metadata": {},
   "source": [
    "# 3페이지 이동"
   ]
  },
  {
   "cell_type": "code",
   "execution_count": 60,
   "id": "39247be1",
   "metadata": {},
   "outputs": [],
   "source": [
    "next_p = driver.find_element(By.XPATH, '//*[@id=\"listForm\"]/div/section/ul/li[1]/div/div/ul/li[5]/a').click()\n",
    "time.sleep(1)"
   ]
  },
  {
   "cell_type": "code",
   "execution_count": 61,
   "id": "7c3f4ebf",
   "metadata": {},
   "outputs": [],
   "source": [
    "html = driver.page_source\n",
    "soup = BeautifulSoup(html, 'html.parser')\n",
    "trs = soup.select('.stations-list > li')\n",
    "tr = trs[0]"
   ]
  },
  {
   "cell_type": "code",
   "execution_count": 62,
   "id": "c3bf7157",
   "metadata": {},
   "outputs": [
    {
     "data": {
      "text/plain": [
       "[['동작소방서', '서울특별시 동작구 여의대방로16길 55(신대방동)', '02-847-1190'],\n",
       " ['서대문소방서', '서울특별시 서대문구 연희로 182(연희동)', '02-3144-1190'],\n",
       " ['광진소방서', '서울특별시 광진구 광나루로 480(구의동)', '02-457-0119'],\n",
       " ['송파소방서', '서울특별시 송파구 오금로51길 56(마천동)', '02-403-2119'],\n",
       " ['양천소방서', '서울특별시 양천구 목동서로 180(목동)', '02-2655-1119'],\n",
       " ['은평소방서', '서울특별시 은평구 통일로 962(진관동)', '02-355-0119'],\n",
       " ['노원소방서', '서울특별시 노원구 한글비석로 1길 8(하계동)', '02-977-0119'],\n",
       " ['종로소방서', '서울특별시 종로구 종로1길 28(수송동)', '02-735-6119'],\n",
       " ['도봉소방서', '서울특별시 도봉구 도봉로 666(방학동)', '02-3492-3437'],\n",
       " ['용산소방서', '서울특별시 용산구 한강대로 167(한강로2가)', '02-794-0119'],\n",
       " ['마포소방서', '서울특별시 마포구 창전로 76(신수동)', '02-716-0604'],\n",
       " ['강서소방서', '서울특별시 강서구 양천로 550(등촌동)', '02-3663-0119'],\n",
       " ['구로소방서', '서울특별시 구로구 경인로 408(고척동)', '02-2618-0119'],\n",
       " ['성동소방서', '서울특별시 성동구 살곶이길 331(행당동)', '02-2622-1777'],\n",
       " ['관악소방서', '서울특별시 관악구 관악로 97(봉천동)', '02-874-8119'],\n",
       " ['서초소방서', '서울특별시 서초구 사평대로 67(반포동)', '02-537-0119'],\n",
       " ['중부소방서', '서울특별시 중구 퇴계로 394(무학동)', '02-2234-0119'],\n",
       " ['강동소방서', '서울특별시 강동구 성내로 39(성내동)', '02-470-0119'],\n",
       " ['강북소방서', '서울특별시 강북구 한천로 911', '02-6946-0119'],\n",
       " ['성북소방서', '서울특별시 성북구 종암로 27길 3(종암동)', '02-921-0119'],\n",
       " ['동대문소방서', '서울특별시 동대문구 장한로 34(장안동)', '02-2249-0119'],\n",
       " ['영등포소방서', '서울특별시 영등포구 문래로 197(영등포동4가)', '02-2675-0119'],\n",
       " ['중랑소방서', '서울특별시 중랑구 신내로 183(신내동)', '02-3423-0119'],\n",
       " ['강남소방서', '서울특별시 강남구 테헤란로 629(삼성동)', '02-553-3315'],\n",
       " ['마포소방서-염리-119 안전센터', '서울특별시 마포구 토정로 37길 27 (염리동)', '02-713-0965'],\n",
       " ['마포소방서-신수-119 안전센터', '서울특별시 마포구 창전로 76 (신수동)', '02-716--9121'],\n",
       " ['서대문소방서-미근-119 안전센터', '서울특별시 서대문구 통일로 113 (미근동)', '02-3147-0119'],\n",
       " ['서대문소방서-홍은-119 안전센터', '서울특별시 서대문구 홍은중앙로 83 (홍은동)', '02-379-9119'],\n",
       " ['서대문소방서-북가좌-119 안전센터', '서울특별시 서대문구 증가로 242 (북가좌동)', '02-372-0119'],\n",
       " ['서대문소방서-서대문_연희-119 안전센터', '서울특별시 서대문구 연희로 182 (연희동)', '02-336-0119']]"
      ]
     },
     "execution_count": 62,
     "metadata": {},
     "output_type": "execute_result"
    }
   ],
   "source": [
    "for tr in trs:\n",
    "    title = tr.select_one('span').get_text().strip()\n",
    "    addr = tr.select_one('address').get_text().strip()\n",
    "    call = tr.select_one('.tel').get_text().strip()\n",
    "    \n",
    "    lines.append([title, addr, call])\n",
    "lines"
   ]
  },
  {
   "cell_type": "markdown",
   "id": "9861999c",
   "metadata": {},
   "source": [
    "# 합치기(처음-끝까지)"
   ]
  },
  {
   "cell_type": "code",
   "execution_count": 103,
   "id": "d5fc3f23",
   "metadata": {},
   "outputs": [
    {
     "name": "stdout",
     "output_type": "stream",
     "text": [
      "1페이지 완료\n",
      "2페이지 완료\n",
      "3페이지 완료\n",
      "4페이지 완료\n",
      "5페이지 완료\n",
      "6페이지 완료\n",
      "7페이지 완료\n",
      "8페이지 완료\n",
      "9페이지 완료\n",
      "10페이지 완료\n"
     ]
    }
   ],
   "source": [
    "base_url = 'https://www.nfa.go.kr/nfa/introduce/status/firestationidfo/?searchDistance=10&searchMode=distance&myX=37.5382842&myY=126.9213649&searchKeyword='\n",
    "# sub_url = '&pageIndex=' + str(1)\n",
    "# url = base_url + sub_url\n",
    "driver = webdriver.Chrome()\n",
    "driver.get(base_url)\n",
    "search_box = driver.find_element(by=By.NAME, value='searchKeyword')\n",
    "search_box.send_keys('서울')\n",
    "search_box.send_keys(Keys.ENTER)\n",
    "time.sleep(2)\n",
    "\n",
    "num = int(soup.select('.title strong')[1].get_text().replace('건',''))\n",
    "num = int(num/20)\n",
    "lines = []\n",
    "cnt = 0\n",
    "\n",
    "for j in range(num):\n",
    "    for i in range(3,5):\n",
    "        cnt += 1\n",
    "        next_p = driver.find_element(By.XPATH, f'//*[@id=\"listForm\"]/div/section/ul/li[1]/div/div/ul/li[{i}]/a').click()\n",
    "        time.sleep(3)\n",
    "\n",
    "        html = driver.page_source\n",
    "        soup = BeautifulSoup(html, 'html.parser')\n",
    "        trs = soup.select('.stations-list > li')\n",
    "        tr = trs[0]\n",
    "\n",
    "        for tr in trs:\n",
    "            title = tr.select_one('span').get_text().strip()\n",
    "            addr = tr.select_one('address').get_text().strip()\n",
    "            call = tr.select_one('.tel').get_text().strip()\n",
    "\n",
    "            lines.append([title, addr, call])\n",
    "        print(f'{cnt}페이지 완료')\n",
    "    next_p = driver.find_element(By.XPATH, f'//*[@id=\"listForm\"]/div/section/ul/li[1]/div/div/ul/li[{5}]/a').click()"
   ]
  },
  {
   "cell_type": "code",
   "execution_count": 104,
   "id": "f64e7328",
   "metadata": {},
   "outputs": [
    {
     "data": {
      "text/plain": [
       "100"
      ]
     },
     "execution_count": 104,
     "metadata": {},
     "output_type": "execute_result"
    }
   ],
   "source": [
    "len(lines)"
   ]
  },
  {
   "cell_type": "code",
   "execution_count": 106,
   "id": "2802c921",
   "metadata": {},
   "outputs": [
    {
     "data": {
      "text/plain": [
       "[['동작소방서', '서울특별시 동작구 여의대방로16길 55(신대방동)', '02-847-1190'],\n",
       " ['서대문소방서', '서울특별시 서대문구 연희로 182(연희동)', '02-3144-1190'],\n",
       " ['광진소방서', '서울특별시 광진구 광나루로 480(구의동)', '02-457-0119'],\n",
       " ['송파소방서', '서울특별시 송파구 오금로51길 56(마천동)', '02-403-2119'],\n",
       " ['양천소방서', '서울특별시 양천구 목동서로 180(목동)', '02-2655-1119'],\n",
       " ['은평소방서', '서울특별시 은평구 통일로 962(진관동)', '02-355-0119'],\n",
       " ['노원소방서', '서울특별시 노원구 한글비석로 1길 8(하계동)', '02-977-0119'],\n",
       " ['종로소방서', '서울특별시 종로구 종로1길 28(수송동)', '02-735-6119'],\n",
       " ['도봉소방서', '서울특별시 도봉구 도봉로 666(방학동)', '02-3492-3437'],\n",
       " ['용산소방서', '서울특별시 용산구 한강대로 167(한강로2가)', '02-794-0119'],\n",
       " ['마포소방서', '서울특별시 마포구 창전로 76(신수동)', '02-716-0604'],\n",
       " ['강서소방서', '서울특별시 강서구 양천로 550(등촌동)', '02-3663-0119'],\n",
       " ['구로소방서', '서울특별시 구로구 경인로 408(고척동)', '02-2618-0119'],\n",
       " ['성동소방서', '서울특별시 성동구 살곶이길 331(행당동)', '02-2622-1777'],\n",
       " ['관악소방서', '서울특별시 관악구 관악로 97(봉천동)', '02-874-8119'],\n",
       " ['서초소방서', '서울특별시 서초구 사평대로 67(반포동)', '02-537-0119'],\n",
       " ['중부소방서', '서울특별시 중구 퇴계로 394(무학동)', '02-2234-0119'],\n",
       " ['강동소방서', '서울특별시 강동구 성내로 39(성내동)', '02-470-0119'],\n",
       " ['강북소방서', '서울특별시 강북구 한천로 911', '02-6946-0119'],\n",
       " ['성북소방서', '서울특별시 성북구 종암로 27길 3(종암동)', '02-921-0119'],\n",
       " ['동대문소방서', '서울특별시 동대문구 장한로 34(장안동)', '02-2249-0119'],\n",
       " ['영등포소방서', '서울특별시 영등포구 문래로 197(영등포동4가)', '02-2675-0119'],\n",
       " ['중랑소방서', '서울특별시 중랑구 신내로 183(신내동)', '02-3423-0119'],\n",
       " ['강남소방서', '서울특별시 강남구 테헤란로 629(삼성동)', '02-553-3315'],\n",
       " ['마포소방서-염리-119 안전센터', '서울특별시 마포구 토정로 37길 27 (염리동)', '02-713-0965'],\n",
       " ['마포소방서-신수-119 안전센터', '서울특별시 마포구 창전로 76 (신수동)', '02-716--9121'],\n",
       " ['서대문소방서-미근-119 안전센터', '서울특별시 서대문구 통일로 113 (미근동)', '02-3147-0119'],\n",
       " ['서대문소방서-홍은-119 안전센터', '서울특별시 서대문구 홍은중앙로 83 (홍은동)', '02-379-9119'],\n",
       " ['서대문소방서-북가좌-119 안전센터', '서울특별시 서대문구 증가로 242 (북가좌동)', '02-372-0119'],\n",
       " ['서대문소방서-서대문_연희-119 안전센터', '서울특별시 서대문구 연희로 182 (연희동)', '02-336-0119'],\n",
       " ['은평소방서-수색-119 안전센터', '서울특별시 은평구 수색로 294 (수색동)', '02-376-0119'],\n",
       " ['은평소방서-역촌-119 안전센터', '서울특별시 은평구 갈현로 80 (역촌동)', '02-352-2119'],\n",
       " ['은평소방서-녹번-119 안전센터', '서울특별시 은평구 은평로 245 (녹번동)', '02-387-0119'],\n",
       " ['은평소방서-진관-119 안전센터', '서울특별시 은평구 통일로 962(진관동)', '02-354-0119'],\n",
       " ['노원소방서-수락-119 안전센터', '서울특별시 노원구 동일로 1694 (상계동)', '02-937-6119'],\n",
       " ['노원소방서-월계-119 안전센터', '서울특별시 노원구 월계로 323 (월계동)', '02-907-0119'],\n",
       " ['노원소방서-공릉-119 안전센터', '서울특별시 노원구 화랑로 482 (공릉동)', '02-976-0119'],\n",
       " ['노원소방서-상계-119 안전센터', '서울특별시 노원구 노원로26길 111 (상계동)', '02-936-0119'],\n",
       " ['노원소방서-하계-119 안전센터', '서울특별시 노원구 한글비석로1길 8 (하계동)', '02-972-1119'],\n",
       " ['도봉소방서-쌍문-119 안전센터', '서울특별시 도봉구 노해로 152 (쌍문동)', '02-996-0119'],\n",
       " ['도봉소방서-창동-119 안전센터', '서울특별시 도봉구 해등로 25 (창동)', '02-998-9117'],\n",
       " ['도봉소방서-도봉-119 안전센터', '서울특별시 도봉구 도봉로 721 (방학동)', '02-3492-0119'],\n",
       " ['도봉소방서-방학-119 안전센터', '서울특별시 도봉구 도봉로 666 (방학동)', '02-3492-9113'],\n",
       " ['성북소방서-장위-119 안전센터', '서울특별시 성북구 한천로 640 (장위동)', '02-917-0344'],\n",
       " ['성북소방서-길음-119 안전센터', '서울특별시 성북구 정릉로 321 (길음동)', '02-987-0272'],\n",
       " ['성북소방서-돈암-119 안전센터', '서울특별시 성북구 보문로 192 (삼선동4가)', '02-925-1158'],\n",
       " ['성북소방서-종암-119 안전센터', '서울특별시 성북구 종암로27길 3 (종암동)', '02-925-1119'],\n",
       " ['영등포소방서-신길-119 안전센터', '서울특별시 영등포구 영등포로84길 31 (신길동)', '02-834-0119'],\n",
       " ['영등포소방서-대림-119 안전센터', '서울특별시 영등포구 도림로 212 (신길동)', '02-846-0119'],\n",
       " ['영등포소방서-당산-119 안전센터', '서울특별시 영등포구 양평로 70-1 (당산동6가)', '02-2633-0119'],\n",
       " ['영등포소방서-여의도-119 안전센터', '서울특별시 영등포구 의사당대로 162 (여의도동)', '02-783-0119'],\n",
       " ['영등포소방서-영등포-119 안전센터', '서울특별시 영등포구 문래로 197 (영등포동4가)', '02-2676-0119'],\n",
       " ['중랑소방서-중화-119 안전센터', '서울특별시 중랑구 동일로 783 (중화동)', '02-496-1191'],\n",
       " ['중랑소방서-망우-119 안전센터', '서울특별시 중랑구 용마산로 524 (망우동)', '02-493-7119'],\n",
       " ['중랑소방서-면목-119 안전센터', '서울특별시 중랑구 동일로 475 (면목동)', '02-491-5119'],\n",
       " ['중랑소방서-신내-119 안전센터', '서울특별시 중랑구 신내로 183 (신내동)', '02-3422-1196'],\n",
       " ['동대문소방서-휘경-119 안전센터', '서울특별시 동대문구 망우로 106 (휘경동)', '02-2213-0119'],\n",
       " ['동대문소방서-용두-119 안전센터', '서울특별시 동대문구 왕산로 76 (용두동)', '02-928-0119'],\n",
       " ['동대문소방서-전농-119 안전센터', '서울특별시 동대문구 황물로 3 (전농동)', '02-2215-0119'],\n",
       " ['동대문소방서-청량리-119 안전센터', '서울특별시 동대문구 왕산로 299 (청량리동)', '02-962-0119'],\n",
       " ['동대문소방서-동대문_장안-119 안전센터', '서울특별시 동대문구 장한로 34 (장안동)', '02-2245-0119'],\n",
       " ['용산소방서-서빙고-119 안전센터', '서울특별시 용산구 서빙고로67길 7(서빙고동)', '02-795-7119'],\n",
       " ['용산소방서-후암-119 안전센터', '서울특별시 용산구 후암로 34 (후암동)', '02-754-0119'],\n",
       " ['용산소방서-이태원-119 안전센터', '서울특별시 용산구 이태원로 196 (이태원동)', '02-798-0119'],\n",
       " ['용산소방서-한강로-119 안전센터', '서울특별시 용산구 한강대로 167 (한강로2가)', '02-793-0119'],\n",
       " ['성동소방서-성수-119 안전센터', '서울특별시 성동구 뚝섬로 452 (성수동2가)', '02-2622-1751'],\n",
       " ['성동소방서-성동_금호-119 안전센터', '서울특별시 성동구 난계로 19 (금호동1가)', '02-2622-1771'],\n",
       " ['성동소방서-왕십리(구 행당)-119 안전센터', '서울특별시 성동구 고산자로 249 (도선동)', '02-2622-1761'],\n",
       " ['성동소방서-행당(구 송정)-119 안전센터', '서울특별시 성동구 살곶이길 331(행당동)', '02-2622-1605'],\n",
       " ['광진소방서-중곡-119 안전센터', '서울특별시 광진구 용마산로 150 (중곡동)', '02-453-2119'],\n",
       " ['광진소방서-능동-119 안전센터', '서울특별시 광진구 능동로 242 (능동)', '02-447-0119'],\n",
       " ['광진소방서-구의-119 안전센터', '서울특별시 광진구 광나루로 480 (구의동)', '02-447-1194'],\n",
       " ['중부소방서_서울-신당-119 안전센터', '서울특별시 중구 다산로8길 2 (신당동)', '02-2238-0698'],\n",
       " ['중부소방서_서울-회현-119 안전센터', '서울특별시 중구 소공로 30 (회현동2가)', '02-775-0119'],\n",
       " ['중부소방서_서울-충무로-119 안전센터', '서울특별시 중구 충무로 11 (충무로3가)', '02-2265-0119'],\n",
       " ['중부소방서_서울-을지로-119 안전센터', '서울특별시 중구 을지로45길 43 (신당동)', '02-2235-0119'],\n",
       " ['중부소방서_서울-무학-119 안전센터', '서울특별시 중구 퇴계로 394 (무학동)', '02-2252-3311'],\n",
       " ['종로소방서-숭인-119 안전센터', '서울특별시 종로구 숭인동길 63 (숭인동)', '02-929-0921'],\n",
       " ['종로소방서-신영-119 안전센터', '서울특별시 종로구 진흥로 477 (신영동)', '02-391-0119'],\n",
       " ['종로소방서-연건-119 안전센터', '서울특별시 종로구 대학로 91 (연건동)', '02-762-0119'],\n",
       " ['종로소방서-종로-119 안전센터', '서울특별시 종로구 돈화문로 30 (묘동)', '02-764-0119'],\n",
       " ['종로소방서-신교-119 안전센터', '서울특별시 종로구 자하문로 93 (신교동)', '02-736-0119'],\n",
       " ['종로소방서-세종로-119 안전센터', '서울특별시 종로구 종로1길 28 (수송동)', '02-734-0119'],\n",
       " ['강북소방서_서울-삼각산-119 안전센터', '서울특별시 강북구 솔샘로 208 (미아동)', '02-983-5119'],\n",
       " ['강북소방서_서울-미아-119 안전센터', '서울특별시 강북구 도봉로 125 (미아동)', '02-983-9111'],\n",
       " ['강북소방서_서울-우이-119 안전센터', '서울특별시 강북구 삼각산로 111 (수유동)', '02-998-9116'],\n",
       " ['구로소방서-구로_공단-119 안전센터', '서울특별시 구로구 디지털로34길 56 (구로동)', '02-855-0119'],\n",
       " ['구로소방서-신도림-119 안전센터', '서울특별시 구로구 경인로59길 57 (신도림동)', '02-2671-8119'],\n",
       " ['구로소방서-구로_시흥-119 안전센터', '서울특별시 금천구 시흥대로45길 31 (시흥동)', '02-806-1119'],\n",
       " ['구로소방서-독산-119 안전센터', '서울특별시 금천구 시흥대로 386 (독산동)', '02-869-1119'],\n",
       " ['구로소방서-구로-119 안전센터', '서울특별시 구로구 구로동로 175 (구로동)', '02-855-1119'],\n",
       " ['구로소방서-고척-119 안전센터', '서울특별시 구로구 고척로 195 (고척동)', '02-2618-3104'],\n",
       " ['구로소방서-수궁-119 안전센터', '서울특별시 구로구 오리로 1285 (궁동)', '02-2685-6119'],\n",
       " ['구로소방서-고일-119 안전센터', '서울특별시 구로구 경인로 408 (고척동)', '02-2619-0119'],\n",
       " ['송파소방서-가락-119 안전센터', '서울특별시 송파구 양재대로 932 (가락동)', '02-409-0045'],\n",
       " ['송파소방서-운동장-119 안전센터', '서울특별시 송파구 올림픽로 25 (잠실동)', '02-2203-2380'],\n",
       " ['송파소방서-잠실-119 안전센터', '서울특별시 송파구 석촌호수로 151 (잠실동)', '02-422-0119'],\n",
       " ['송파소방서-방이-119 안전센터', '서울특별시 송파구 강동대로 286 (방이동)', '02-409-0059'],\n",
       " ['송파소방서-거여-119 안전센터', '서울특별시 송파구 마천로 329 (마천동)', '02-400-0119'],\n",
       " ['송파소방서-마천-119 안전센터', '서울특별시 송파구 오금로51길 56 (마천동)', '02-3401-2119']]"
      ]
     },
     "execution_count": 106,
     "metadata": {},
     "output_type": "execute_result"
    }
   ],
   "source": [
    "lines"
   ]
  },
  {
   "cell_type": "markdown",
   "id": "f6bc6269",
   "metadata": {},
   "source": [
    "# CSV 데이터 저장"
   ]
  },
  {
   "cell_type": "code",
   "execution_count": 107,
   "id": "a6595c36",
   "metadata": {},
   "outputs": [
    {
     "data": {
      "text/html": [
       "<div>\n",
       "<style scoped>\n",
       "    .dataframe tbody tr th:only-of-type {\n",
       "        vertical-align: middle;\n",
       "    }\n",
       "\n",
       "    .dataframe tbody tr th {\n",
       "        vertical-align: top;\n",
       "    }\n",
       "\n",
       "    .dataframe thead th {\n",
       "        text-align: right;\n",
       "    }\n",
       "</style>\n",
       "<table border=\"1\" class=\"dataframe\">\n",
       "  <thead>\n",
       "    <tr style=\"text-align: right;\">\n",
       "      <th></th>\n",
       "      <th>관서명</th>\n",
       "      <th>주소</th>\n",
       "      <th>전화번호</th>\n",
       "    </tr>\n",
       "  </thead>\n",
       "  <tbody>\n",
       "    <tr>\n",
       "      <th>0</th>\n",
       "      <td>동작소방서</td>\n",
       "      <td>서울특별시 동작구 여의대방로16길 55(신대방동)</td>\n",
       "      <td>02-847-1190</td>\n",
       "    </tr>\n",
       "    <tr>\n",
       "      <th>1</th>\n",
       "      <td>서대문소방서</td>\n",
       "      <td>서울특별시 서대문구 연희로 182(연희동)</td>\n",
       "      <td>02-3144-1190</td>\n",
       "    </tr>\n",
       "    <tr>\n",
       "      <th>2</th>\n",
       "      <td>광진소방서</td>\n",
       "      <td>서울특별시 광진구 광나루로 480(구의동)</td>\n",
       "      <td>02-457-0119</td>\n",
       "    </tr>\n",
       "    <tr>\n",
       "      <th>3</th>\n",
       "      <td>송파소방서</td>\n",
       "      <td>서울특별시 송파구 오금로51길 56(마천동)</td>\n",
       "      <td>02-403-2119</td>\n",
       "    </tr>\n",
       "    <tr>\n",
       "      <th>4</th>\n",
       "      <td>양천소방서</td>\n",
       "      <td>서울특별시 양천구 목동서로 180(목동)</td>\n",
       "      <td>02-2655-1119</td>\n",
       "    </tr>\n",
       "    <tr>\n",
       "      <th>...</th>\n",
       "      <td>...</td>\n",
       "      <td>...</td>\n",
       "      <td>...</td>\n",
       "    </tr>\n",
       "    <tr>\n",
       "      <th>95</th>\n",
       "      <td>송파소방서-운동장-119 안전센터</td>\n",
       "      <td>서울특별시 송파구 올림픽로 25 (잠실동)</td>\n",
       "      <td>02-2203-2380</td>\n",
       "    </tr>\n",
       "    <tr>\n",
       "      <th>96</th>\n",
       "      <td>송파소방서-잠실-119 안전센터</td>\n",
       "      <td>서울특별시 송파구 석촌호수로 151 (잠실동)</td>\n",
       "      <td>02-422-0119</td>\n",
       "    </tr>\n",
       "    <tr>\n",
       "      <th>97</th>\n",
       "      <td>송파소방서-방이-119 안전센터</td>\n",
       "      <td>서울특별시 송파구 강동대로 286 (방이동)</td>\n",
       "      <td>02-409-0059</td>\n",
       "    </tr>\n",
       "    <tr>\n",
       "      <th>98</th>\n",
       "      <td>송파소방서-거여-119 안전센터</td>\n",
       "      <td>서울특별시 송파구 마천로 329 (마천동)</td>\n",
       "      <td>02-400-0119</td>\n",
       "    </tr>\n",
       "    <tr>\n",
       "      <th>99</th>\n",
       "      <td>송파소방서-마천-119 안전센터</td>\n",
       "      <td>서울특별시 송파구 오금로51길 56 (마천동)</td>\n",
       "      <td>02-3401-2119</td>\n",
       "    </tr>\n",
       "  </tbody>\n",
       "</table>\n",
       "<p>100 rows × 3 columns</p>\n",
       "</div>"
      ],
      "text/plain": [
       "                   관서명                           주소          전화번호\n",
       "0                동작소방서  서울특별시 동작구 여의대방로16길 55(신대방동)   02-847-1190\n",
       "1               서대문소방서      서울특별시 서대문구 연희로 182(연희동)  02-3144-1190\n",
       "2                광진소방서      서울특별시 광진구 광나루로 480(구의동)   02-457-0119\n",
       "3                송파소방서     서울특별시 송파구 오금로51길 56(마천동)   02-403-2119\n",
       "4                양천소방서       서울특별시 양천구 목동서로 180(목동)  02-2655-1119\n",
       "..                 ...                          ...           ...\n",
       "95  송파소방서-운동장-119 안전센터      서울특별시 송파구 올림픽로 25 (잠실동)  02-2203-2380\n",
       "96   송파소방서-잠실-119 안전센터    서울특별시 송파구 석촌호수로 151 (잠실동)   02-422-0119\n",
       "97   송파소방서-방이-119 안전센터     서울특별시 송파구 강동대로 286 (방이동)   02-409-0059\n",
       "98   송파소방서-거여-119 안전센터      서울특별시 송파구 마천로 329 (마천동)   02-400-0119\n",
       "99   송파소방서-마천-119 안전센터    서울특별시 송파구 오금로51길 56 (마천동)  02-3401-2119\n",
       "\n",
       "[100 rows x 3 columns]"
      ]
     },
     "execution_count": 107,
     "metadata": {},
     "output_type": "execute_result"
    }
   ],
   "source": [
    "df = pd.DataFrame(lines, columns=['관서명', '주소', '전화번호'])\n",
    "df"
   ]
  },
  {
   "cell_type": "code",
   "execution_count": 109,
   "id": "aed81695",
   "metadata": {},
   "outputs": [],
   "source": [
    "df.to_csv(\"./csv/Seoul_Fire_Station.csv\", index=False)"
   ]
  },
  {
   "cell_type": "code",
   "execution_count": null,
   "id": "d4d18188",
   "metadata": {},
   "outputs": [],
   "source": []
  }
 ],
 "metadata": {
  "kernelspec": {
   "display_name": "Python 3 (ipykernel)",
   "language": "python",
   "name": "python3"
  },
  "language_info": {
   "codemirror_mode": {
    "name": "ipython",
    "version": 3
   },
   "file_extension": ".py",
   "mimetype": "text/x-python",
   "name": "python",
   "nbconvert_exporter": "python",
   "pygments_lexer": "ipython3",
   "version": "3.8.7"
  }
 },
 "nbformat": 4,
 "nbformat_minor": 5
}
