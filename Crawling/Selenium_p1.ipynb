{
 "cells": [
  {
   "cell_type": "code",
   "execution_count": 1,
   "id": "af79ee8a",
   "metadata": {
    "collapsed": true
   },
   "outputs": [
    {
     "name": "stdout",
     "output_type": "stream",
     "text": [
      "Requirement already satisfied: selenium in c:\\python38\\lib\\site-packages (4.8.3)\n",
      "Requirement already satisfied: urllib3[socks]~=1.26 in c:\\python38\\lib\\site-packages (from selenium) (1.26.15)\n",
      "Requirement already satisfied: certifi>=2021.10.8 in c:\\python38\\lib\\site-packages (from selenium) (2022.12.7)\n",
      "Requirement already satisfied: trio~=0.17 in c:\\python38\\lib\\site-packages (from selenium) (0.22.0)\n",
      "Requirement already satisfied: trio-websocket~=0.9 in c:\\python38\\lib\\site-packages (from selenium) (0.10.2)\n",
      "Requirement already satisfied: idna in c:\\python38\\lib\\site-packages (from trio~=0.17->selenium) (3.4)\n",
      "Requirement already satisfied: outcome in c:\\python38\\lib\\site-packages (from trio~=0.17->selenium) (1.2.0)\n",
      "Requirement already satisfied: async-generator>=1.9 in c:\\python38\\lib\\site-packages (from trio~=0.17->selenium) (1.10)\n",
      "Requirement already satisfied: sniffio in c:\\python38\\lib\\site-packages (from trio~=0.17->selenium) (1.3.0)\n",
      "Requirement already satisfied: cffi>=1.14 in c:\\python38\\lib\\site-packages (from trio~=0.17->selenium) (1.15.1)\n",
      "Requirement already satisfied: sortedcontainers in c:\\python38\\lib\\site-packages (from trio~=0.17->selenium) (2.4.0)\n",
      "Requirement already satisfied: exceptiongroup>=1.0.0rc9 in c:\\python38\\lib\\site-packages (from trio~=0.17->selenium) (1.1.1)\n",
      "Requirement already satisfied: attrs>=19.2.0 in c:\\python38\\lib\\site-packages (from trio~=0.17->selenium) (22.2.0)\n",
      "Requirement already satisfied: wsproto>=0.14 in c:\\python38\\lib\\site-packages (from trio-websocket~=0.9->selenium) (1.2.0)\n",
      "Requirement already satisfied: PySocks!=1.5.7,<2.0,>=1.5.6 in c:\\python38\\lib\\site-packages (from urllib3[socks]~=1.26->selenium) (1.7.1)\n",
      "Requirement already satisfied: pycparser in c:\\python38\\lib\\site-packages (from cffi>=1.14->trio~=0.17->selenium) (2.21)\n",
      "Requirement already satisfied: h11<1,>=0.9.0 in c:\\python38\\lib\\site-packages (from wsproto>=0.14->trio-websocket~=0.9->selenium) (0.14.0)\n"
     ]
    },
    {
     "name": "stderr",
     "output_type": "stream",
     "text": [
      "\n",
      "[notice] A new release of pip is available: 23.0.1 -> 23.1\n",
      "[notice] To update, run: python.exe -m pip install --upgrade pip\n"
     ]
    }
   ],
   "source": [
    "# 크롬 드라이버 버전 111.0.5563.64\n",
    "!pip install selenium"
   ]
  },
  {
   "cell_type": "markdown",
   "id": "4f19c50f",
   "metadata": {},
   "source": [
    "# Google 크롤링 -chromDriver 검색"
   ]
  },
  {
   "cell_type": "code",
   "execution_count": 25,
   "id": "4e9d5563",
   "metadata": {},
   "outputs": [],
   "source": [
    "import requests\n",
    "from bs4 import BeautifulSoup"
   ]
  },
  {
   "cell_type": "code",
   "execution_count": 7,
   "id": "94d45aa9",
   "metadata": {},
   "outputs": [],
   "source": [
    "# 동적인 데이터를 입력하고 결과를 얻기 힘듦\n",
    "url = 'https://www.google.co.kr'\n",
    "req = requests.get(url)\n",
    "soup = BeautifulSoup(req.text, 'html.parser')"
   ]
  },
  {
   "cell_type": "markdown",
   "id": "ccf843cd",
   "metadata": {},
   "source": [
    "# Selenium 활용"
   ]
  },
  {
   "cell_type": "code",
   "execution_count": 8,
   "id": "ce1c0e15",
   "metadata": {},
   "outputs": [],
   "source": [
    "import time\n",
    "from selenium import webdriver\n",
    "from selenium.webdriver.common.keys import Keys\n",
    "from selenium.webdriver.common.by import By"
   ]
  },
  {
   "cell_type": "code",
   "execution_count": 29,
   "id": "0030fe0e",
   "metadata": {},
   "outputs": [],
   "source": [
    "# driver = webdriver.Chrome('/chromedriver_win32/chromedriver.exe')\n",
    "driver = webdriver.Chrome()\n",
    "driver.get(url)"
   ]
  },
  {
   "cell_type": "code",
   "execution_count": 14,
   "id": "b357234c",
   "metadata": {},
   "outputs": [],
   "source": [
    "driver = webdriver.Chrome()\n",
    "driver.get(url)\n",
    "search_box = driver.find_element(by=By.NAME, value='q')\n",
    "search_box.send_keys('chromdriver')\n",
    "search_box.send_keys(Keys.ENTER)\n",
    "time.sleep(2)"
   ]
  },
  {
   "cell_type": "code",
   "execution_count": 15,
   "id": "b3145bb0",
   "metadata": {},
   "outputs": [
    {
     "data": {
      "text/plain": [
       "9"
      ]
     },
     "execution_count": 15,
     "metadata": {},
     "output_type": "execute_result"
    }
   ],
   "source": [
    "divs = driver.find_elements(by=By.CSS_SELECTOR, value=\"#search .g\")\n",
    "len(divs)"
   ]
  },
  {
   "cell_type": "code",
   "execution_count": 16,
   "id": "96423ab2",
   "metadata": {},
   "outputs": [
    {
     "name": "stdout",
     "output_type": "stream",
     "text": [
      "<selenium.webdriver.remote.webelement.WebElement (session=\"05cb953bc9c71ec569f9211c6e6b30ac\", element=\"6104ee8a-c9e0-4732-abfe-b9a1fac6dd05\")>\n"
     ]
    }
   ],
   "source": [
    "div = divs[0]\n",
    "print(div)"
   ]
  },
  {
   "cell_type": "code",
   "execution_count": 21,
   "id": "6a9b2f59",
   "metadata": {},
   "outputs": [
    {
     "data": {
      "text/plain": [
       "'WebDriver for Chrome - Downloads'"
      ]
     },
     "execution_count": 21,
     "metadata": {},
     "output_type": "execute_result"
    }
   ],
   "source": [
    "title = div.find_element(By.CSS_SELECTOR, \".LC20lb.MBeuO.DKV0Md\").text\n",
    "title"
   ]
  },
  {
   "cell_type": "code",
   "execution_count": 23,
   "id": "461ad3c9",
   "metadata": {},
   "outputs": [
    {
     "data": {
      "text/plain": [
       "'If you are using Chrome version 111, please download ChromeDriver 111.0.5563.64. For older version of Chrome, please see below for the version of ...'"
      ]
     },
     "execution_count": 23,
     "metadata": {},
     "output_type": "execute_result"
    }
   ],
   "source": [
    "content = div.find_element(By.CSS_SELECTOR, '.VwiC3b.yXK7lf.MUxGbd').text.strip()\n",
    "content"
   ]
  },
  {
   "cell_type": "code",
   "execution_count": 24,
   "id": "0be1fe77",
   "metadata": {},
   "outputs": [],
   "source": [
    "lines = []\n",
    "for div in divs:\n",
    "    try:\n",
    "        title = div.find_element(By.CSS_SELECTOR, \".LC20lb.MBeuO.DKV0Md\").text\n",
    "        content = div.find_element(By.CSS_SELECTOR, '.VwiC3b.yXK7lf.MUxGbd').text.strip()\n",
    "    except:\n",
    "        continue\n",
    "    lines.append([title, content])"
   ]
  },
  {
   "cell_type": "code",
   "execution_count": 27,
   "id": "ae5ac249",
   "metadata": {},
   "outputs": [
    {
     "data": {
      "text/html": [
       "<div>\n",
       "<style scoped>\n",
       "    .dataframe tbody tr th:only-of-type {\n",
       "        vertical-align: middle;\n",
       "    }\n",
       "\n",
       "    .dataframe tbody tr th {\n",
       "        vertical-align: top;\n",
       "    }\n",
       "\n",
       "    .dataframe thead th {\n",
       "        text-align: right;\n",
       "    }\n",
       "</style>\n",
       "<table border=\"1\" class=\"dataframe\">\n",
       "  <thead>\n",
       "    <tr style=\"text-align: right;\">\n",
       "      <th></th>\n",
       "      <th>제목</th>\n",
       "      <th>내용</th>\n",
       "    </tr>\n",
       "  </thead>\n",
       "  <tbody>\n",
       "    <tr>\n",
       "      <th>0</th>\n",
       "      <td>WebDriver for Chrome - Downloads</td>\n",
       "      <td>If you are using Chrome version 111, please do...</td>\n",
       "    </tr>\n",
       "    <tr>\n",
       "      <th>1</th>\n",
       "      <td>Chromedriver 다운로드 및 설치하는 법 - 코딩으로 자아실현</td>\n",
       "      <td>2021. 9. 25. — 여기서는 Chrome의 Webdriver인 Chromed...</td>\n",
       "    </tr>\n",
       "    <tr>\n",
       "      <th>2</th>\n",
       "      <td>Selenium으로 무적 크롤러 만들기</td>\n",
       "      <td>2017. 2. 27. — zip파일을 받고 풀어주면 chromedriver 라는 ...</td>\n",
       "    </tr>\n",
       "    <tr>\n",
       "      <th>3</th>\n",
       "      <td>selenium) 설치하기! chromedriver 버전 오류 해결하기</td>\n",
       "      <td>2019. 5. 17. — 압축을 푸시면 chromedriver.exe (맥의 경우...</td>\n",
       "    </tr>\n",
       "    <tr>\n",
       "      <th>4</th>\n",
       "      <td>[Python] Selenium 사용법, ChromeDriver 설치 방법 - ia...</td>\n",
       "      <td>2020. 2. 22. — Selenium이란?! · = 즉 자동화를 이용해서 여러...</td>\n",
       "    </tr>\n",
       "    <tr>\n",
       "      <th>5</th>\n",
       "      <td>크롬드라이버(Chrome Driver) 설치, 다운로드 - 시골쥐의 공부생활</td>\n",
       "      <td>2021. 7. 6. — 크롬드라이버 다운로드 사이트 접속 https://chrom...</td>\n",
       "    </tr>\n",
       "    <tr>\n",
       "      <th>6</th>\n",
       "      <td>ChromeDriver</td>\n",
       "      <td>chromedriver false 100.0.4896.20/chromedriver_...</td>\n",
       "    </tr>\n",
       "    <tr>\n",
       "      <th>7</th>\n",
       "      <td>3분 안에 해결하는 크롬 드라이버 버전 오류 - Unlimited</td>\n",
       "      <td>2022. 5. 18. — SessionNotCreatedException: Mes...</td>\n",
       "    </tr>\n",
       "    <tr>\n",
       "      <th>8</th>\n",
       "      <td>How to run Selenium tests on Chrome using Chro...</td>\n",
       "      <td>2023. 3. 20. — To execute tests in the Chrome ...</td>\n",
       "    </tr>\n",
       "  </tbody>\n",
       "</table>\n",
       "</div>"
      ],
      "text/plain": [
       "                                                  제목  \\\n",
       "0                   WebDriver for Chrome - Downloads   \n",
       "1             Chromedriver 다운로드 및 설치하는 법 - 코딩으로 자아실현   \n",
       "2                              Selenium으로 무적 크롤러 만들기   \n",
       "3            selenium) 설치하기! chromedriver 버전 오류 해결하기   \n",
       "4  [Python] Selenium 사용법, ChromeDriver 설치 방법 - ia...   \n",
       "5         크롬드라이버(Chrome Driver) 설치, 다운로드 - 시골쥐의 공부생활   \n",
       "6                                       ChromeDriver   \n",
       "7               3분 안에 해결하는 크롬 드라이버 버전 오류 - Unlimited   \n",
       "8  How to run Selenium tests on Chrome using Chro...   \n",
       "\n",
       "                                                  내용  \n",
       "0  If you are using Chrome version 111, please do...  \n",
       "1  2021. 9. 25. — 여기서는 Chrome의 Webdriver인 Chromed...  \n",
       "2  2017. 2. 27. — zip파일을 받고 풀어주면 chromedriver 라는 ...  \n",
       "3  2019. 5. 17. — 압축을 푸시면 chromedriver.exe (맥의 경우...  \n",
       "4  2020. 2. 22. — Selenium이란?! · = 즉 자동화를 이용해서 여러...  \n",
       "5  2021. 7. 6. — 크롬드라이버 다운로드 사이트 접속 https://chrom...  \n",
       "6  chromedriver false 100.0.4896.20/chromedriver_...  \n",
       "7  2022. 5. 18. — SessionNotCreatedException: Mes...  \n",
       "8  2023. 3. 20. — To execute tests in the Chrome ...  "
      ]
     },
     "execution_count": 27,
     "metadata": {},
     "output_type": "execute_result"
    }
   ],
   "source": [
    "import pandas as pd\n",
    "df = pd.DataFrame(lines, columns=['제목', '내용'])\n",
    "df"
   ]
  },
  {
   "cell_type": "code",
   "execution_count": 28,
   "id": "99b026b2",
   "metadata": {},
   "outputs": [],
   "source": [
    "driver.close()"
   ]
  },
  {
   "cell_type": "code",
   "execution_count": null,
   "id": "40dca873",
   "metadata": {},
   "outputs": [],
   "source": []
  }
 ],
 "metadata": {
  "kernelspec": {
   "display_name": "Python 3 (ipykernel)",
   "language": "python",
   "name": "python3"
  },
  "language_info": {
   "codemirror_mode": {
    "name": "ipython",
    "version": 3
   },
   "file_extension": ".py",
   "mimetype": "text/x-python",
   "name": "python",
   "nbconvert_exporter": "python",
   "pygments_lexer": "ipython3",
   "version": "3.8.7"
  }
 },
 "nbformat": 4,
 "nbformat_minor": 5
}
