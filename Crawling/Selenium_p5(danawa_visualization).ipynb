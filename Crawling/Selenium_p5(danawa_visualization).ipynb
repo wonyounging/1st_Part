{
 "cells": [
  {
   "cell_type": "markdown",
   "id": "99850672",
   "metadata": {},
   "source": [
    "# 다나와 크롤링 데이터 전처리"
   ]
  },
  {
   "cell_type": "code",
   "execution_count": 2,
   "id": "750a1aa0",
   "metadata": {},
   "outputs": [],
   "source": [
    "import pandas as pd\n",
    "import matplotlib.pyplot as plt\n",
    "import seaborn as sns"
   ]
  },
  {
   "cell_type": "code",
   "execution_count": 3,
   "id": "e4f87fdc",
   "metadata": {},
   "outputs": [
    {
     "data": {
      "text/html": [
       "<div>\n",
       "<style scoped>\n",
       "    .dataframe tbody tr th:only-of-type {\n",
       "        vertical-align: middle;\n",
       "    }\n",
       "\n",
       "    .dataframe tbody tr th {\n",
       "        vertical-align: top;\n",
       "    }\n",
       "\n",
       "    .dataframe thead th {\n",
       "        text-align: right;\n",
       "    }\n",
       "</style>\n",
       "<table border=\"1\" class=\"dataframe\">\n",
       "  <thead>\n",
       "    <tr style=\"text-align: right;\">\n",
       "      <th></th>\n",
       "      <th>상품명</th>\n",
       "      <th>스펙</th>\n",
       "      <th>가격</th>\n",
       "    </tr>\n",
       "  </thead>\n",
       "  <tbody>\n",
       "    <tr>\n",
       "      <th>0</th>\n",
       "      <td>베이스어스 차량용 청소기 A3 (해외구매)</td>\n",
       "      <td>차량용청소기 / 무선 / 흡입력: 15,000Pa / 최대출력: 135W / 헤파필...</td>\n",
       "      <td>47510</td>\n",
       "    </tr>\n",
       "    <tr>\n",
       "      <th>1</th>\n",
       "      <td>LG전자 오브제컬렉션 코드제로 A9S AU9982</td>\n",
       "      <td>핸디스틱청소기 / 무선형 / 흡입+물걸레겸용 / 흡입력: 220W / [구성] 와이...</td>\n",
       "      <td>1019160</td>\n",
       "    </tr>\n",
       "    <tr>\n",
       "      <th>2</th>\n",
       "      <td>샤오미 미지아 차량용 핸디 무선 청소기 (해외구매)</td>\n",
       "      <td>차량용청소기 / 무선 / 흡입력: 13,000Pa / 최대출력: 120W / 헤파필...</td>\n",
       "      <td>38990</td>\n",
       "    </tr>\n",
       "    <tr>\n",
       "      <th>3</th>\n",
       "      <td>LG전자 오브제컬렉션 코드제로 A9S AU9882</td>\n",
       "      <td>핸디스틱청소기 / 무선형 / 흡입+물걸레겸용 / 흡입력: 220W / [구성] 와이...</td>\n",
       "      <td>894400</td>\n",
       "    </tr>\n",
       "    <tr>\n",
       "      <th>4</th>\n",
       "      <td>삼성전자 비스포크 제트 VS20A956A3</td>\n",
       "      <td>핸디스틱청소기 / 무선형 / 흡입전용 / 흡입력: 210W / [구성] 바닥 / 솔...</td>\n",
       "      <td>492190</td>\n",
       "    </tr>\n",
       "  </tbody>\n",
       "</table>\n",
       "</div>"
      ],
      "text/plain": [
       "                            상품명  \\\n",
       "0       베이스어스 차량용 청소기 A3 (해외구매)   \n",
       "1   LG전자 오브제컬렉션 코드제로 A9S AU9982   \n",
       "2  샤오미 미지아 차량용 핸디 무선 청소기 (해외구매)   \n",
       "3   LG전자 오브제컬렉션 코드제로 A9S AU9882   \n",
       "4       삼성전자 비스포크 제트 VS20A956A3   \n",
       "\n",
       "                                                  스펙       가격  \n",
       "0  차량용청소기 / 무선 / 흡입력: 15,000Pa / 최대출력: 135W / 헤파필...    47510  \n",
       "1  핸디스틱청소기 / 무선형 / 흡입+물걸레겸용 / 흡입력: 220W / [구성] 와이...  1019160  \n",
       "2  차량용청소기 / 무선 / 흡입력: 13,000Pa / 최대출력: 120W / 헤파필...    38990  \n",
       "3  핸디스틱청소기 / 무선형 / 흡입+물걸레겸용 / 흡입력: 220W / [구성] 와이...   894400  \n",
       "4  핸디스틱청소기 / 무선형 / 흡입전용 / 흡입력: 210W / [구성] 바닥 / 솔...   492190  "
      ]
     },
     "execution_count": 3,
     "metadata": {},
     "output_type": "execute_result"
    }
   ],
   "source": [
    "df = pd.read_csv('./csv/danawa_crawling.csv')\n",
    "df.head()"
   ]
  },
  {
   "cell_type": "code",
   "execution_count": 4,
   "id": "30bdebd7",
   "metadata": {},
   "outputs": [
    {
     "data": {
      "text/html": [
       "<div>\n",
       "<style scoped>\n",
       "    .dataframe tbody tr th:only-of-type {\n",
       "        vertical-align: middle;\n",
       "    }\n",
       "\n",
       "    .dataframe tbody tr th {\n",
       "        vertical-align: top;\n",
       "    }\n",
       "\n",
       "    .dataframe thead th {\n",
       "        text-align: right;\n",
       "    }\n",
       "</style>\n",
       "<table border=\"1\" class=\"dataframe\">\n",
       "  <thead>\n",
       "    <tr style=\"text-align: right;\">\n",
       "      <th></th>\n",
       "      <th>상품명</th>\n",
       "      <th>스펙</th>\n",
       "      <th>가격</th>\n",
       "    </tr>\n",
       "  </thead>\n",
       "  <tbody>\n",
       "    <tr>\n",
       "      <th>395</th>\n",
       "      <td>유피 무선 차량 청소기 H20</td>\n",
       "      <td>차량용청소기 / 무선 / 흡입력: 14,000Pa / 추가노즐: 틈새, 솔브러쉬 /...</td>\n",
       "      <td>125390</td>\n",
       "    </tr>\n",
       "    <tr>\n",
       "      <th>396</th>\n",
       "      <td>삼성전자 비스포크 제트 VS20A957E2</td>\n",
       "      <td>핸디스틱청소기 / 무선형 / 흡입+물걸레겸용 / 흡입력: 210W / [구성] 바닥...</td>\n",
       "      <td>708990</td>\n",
       "    </tr>\n",
       "    <tr>\n",
       "      <th>397</th>\n",
       "      <td>삼성전자 제트 VS20T9253QD</td>\n",
       "      <td>핸디스틱청소기 / 무선형 / 흡입전용 / 흡입력: 200W / [구성] 바닥 / 솔...</td>\n",
       "      <td>417600</td>\n",
       "    </tr>\n",
       "    <tr>\n",
       "      <th>398</th>\n",
       "      <td>샤오미 미홀 H17 Pro</td>\n",
       "      <td>물걸레청소기 / 롤러식 / 물걸레+진공 / 무선형 / [배터리] 리튬이온 (분리형)...</td>\n",
       "      <td>215100</td>\n",
       "    </tr>\n",
       "    <tr>\n",
       "      <th>399</th>\n",
       "      <td>LG전자 오브제컬렉션 코드제로 A9S AT9271</td>\n",
       "      <td>핸디스틱청소기 / 무선형 / 흡입+물걸레겸용 / 흡입력: 210W / [구성] 바닥...</td>\n",
       "      <td>875970</td>\n",
       "    </tr>\n",
       "  </tbody>\n",
       "</table>\n",
       "</div>"
      ],
      "text/plain": [
       "                             상품명  \\\n",
       "395             유피 무선 차량 청소기 H20   \n",
       "396      삼성전자 비스포크 제트 VS20A957E2   \n",
       "397          삼성전자 제트 VS20T9253QD   \n",
       "398               샤오미 미홀 H17 Pro   \n",
       "399  LG전자 오브제컬렉션 코드제로 A9S AT9271   \n",
       "\n",
       "                                                    스펙      가격  \n",
       "395  차량용청소기 / 무선 / 흡입력: 14,000Pa / 추가노즐: 틈새, 솔브러쉬 /...  125390  \n",
       "396  핸디스틱청소기 / 무선형 / 흡입+물걸레겸용 / 흡입력: 210W / [구성] 바닥...  708990  \n",
       "397  핸디스틱청소기 / 무선형 / 흡입전용 / 흡입력: 200W / [구성] 바닥 / 솔...  417600  \n",
       "398  물걸레청소기 / 롤러식 / 물걸레+진공 / 무선형 / [배터리] 리튬이온 (분리형)...  215100  \n",
       "399  핸디스틱청소기 / 무선형 / 흡입+물걸레겸용 / 흡입력: 210W / [구성] 바닥...  875970  "
      ]
     },
     "execution_count": 4,
     "metadata": {},
     "output_type": "execute_result"
    }
   ],
   "source": [
    "df.tail()"
   ]
  },
  {
   "cell_type": "code",
   "execution_count": 5,
   "id": "648acd8c",
   "metadata": {},
   "outputs": [
    {
     "name": "stdout",
     "output_type": "stream",
     "text": [
      "<class 'pandas.core.frame.DataFrame'>\n",
      "RangeIndex: 400 entries, 0 to 399\n",
      "Data columns (total 3 columns):\n",
      " #   Column  Non-Null Count  Dtype \n",
      "---  ------  --------------  ----- \n",
      " 0   상품명     400 non-null    object\n",
      " 1   스펙      400 non-null    object\n",
      " 2   가격      400 non-null    int64 \n",
      "dtypes: int64(1), object(2)\n",
      "memory usage: 9.5+ KB\n"
     ]
    }
   ],
   "source": [
    "df.info()"
   ]
  },
  {
   "cell_type": "markdown",
   "id": "288b8641",
   "metadata": {},
   "source": [
    "# 1. 회사명 / 모델명 분리"
   ]
  },
  {
   "cell_type": "code",
   "execution_count": 6,
   "id": "cd8ce6e9",
   "metadata": {},
   "outputs": [
    {
     "data": {
      "text/plain": [
       "'차량용 청소기 A3 (해외구매)'"
      ]
     },
     "execution_count": 6,
     "metadata": {},
     "output_type": "execute_result"
    }
   ],
   "source": [
    "df['상품명'][0].split(' ', 1)[1]"
   ]
  },
  {
   "cell_type": "code",
   "execution_count": 7,
   "id": "51339240",
   "metadata": {},
   "outputs": [],
   "source": [
    "company_list = []\n",
    "product_list = []\n",
    "\n",
    "for title in df['상품명']:\n",
    "    title_info = title.split(' ',1)\n",
    "    company_name = title_info[0]\n",
    "    product_name = title_info[1]\n",
    "    \n",
    "    company_list.append(company_name)\n",
    "    product_list.append(product_name)"
   ]
  },
  {
   "cell_type": "markdown",
   "id": "63af0c2a",
   "metadata": {},
   "source": [
    "# 2. 스펙에서 카테고리 / 사용시간 / 흡입력 추출"
   ]
  },
  {
   "cell_type": "code",
   "execution_count": 8,
   "id": "7f337adf",
   "metadata": {},
   "outputs": [
    {
     "data": {
      "text/plain": [
       "['차량용청소기',\n",
       " '무선',\n",
       " '흡입력: 15,000Pa',\n",
       " '최대출력: 135W',\n",
       " '헤파필터',\n",
       " '추가노즐: 틈새, 솔브러쉬',\n",
       " 'LED라이트',\n",
       " '사용시간: 45분',\n",
       " '배터리 잔량표시',\n",
       " '소음: 75dB',\n",
       " '충전방식: USB C타입',\n",
       " '충전시간: 3~5시간',\n",
       " '색상: 블랙, 실버',\n",
       " '크기: 296x56.5mm']"
      ]
     },
     "execution_count": 8,
     "metadata": {},
     "output_type": "execute_result"
    }
   ],
   "source": [
    "spec_list = df['스펙'][0].split(' / ')\n",
    "spec_list"
   ]
  },
  {
   "cell_type": "code",
   "execution_count": 9,
   "id": "e5078f41",
   "metadata": {},
   "outputs": [
    {
     "data": {
      "text/plain": [
       "'차량용청소기'"
      ]
     },
     "execution_count": 9,
     "metadata": {},
     "output_type": "execute_result"
    }
   ],
   "source": [
    "# 카테고리 정보 추출\n",
    "category = spec_list[0]\n",
    "category"
   ]
  },
  {
   "cell_type": "code",
   "execution_count": 10,
   "id": "a5a26b15",
   "metadata": {},
   "outputs": [
    {
     "name": "stdout",
     "output_type": "stream",
     "text": [
      "차량용청소기\n",
      "무선\n",
      "흡입력: 15,000Pa\n",
      "최대출력: 135W\n",
      "헤파필터\n",
      "추가노즐: 틈새, 솔브러쉬\n",
      "LED라이트\n",
      "사용시간: 45분\n",
      "배터리 잔량표시\n",
      "소음: 75dB\n",
      "충전방식: USB C타입\n",
      "충전시간: 3~5시간\n",
      "색상: 블랙, 실버\n",
      "크기: 296x56.5mm\n",
      "--------------------------\n",
      "--------------------------\n",
      "사용시간: 45분 흡입력: 15,000Pa\n"
     ]
    }
   ],
   "source": [
    "# 사용시간 / 흡입력 추출\n",
    "for spec in spec_list:\n",
    "    print(spec)\n",
    "    if \"사용시간\" in spec:\n",
    "        use_time_spec = spec\n",
    "    elif \"흡입력\" in spec:\n",
    "        suction_spec = spec\n",
    "        \n",
    "print(\"--------------------------\")        \n",
    "print(\"--------------------------\")\n",
    "print(use_time_spec, suction_spec)"
   ]
  },
  {
   "cell_type": "code",
   "execution_count": 11,
   "id": "785ef2c6",
   "metadata": {},
   "outputs": [
    {
     "data": {
      "text/plain": [
       "'45분'"
      ]
     },
     "execution_count": 11,
     "metadata": {},
     "output_type": "execute_result"
    }
   ],
   "source": [
    "use_time_value = use_time_spec.split(' ')[1].strip()\n",
    "use_time_value"
   ]
  },
  {
   "cell_type": "code",
   "execution_count": 12,
   "id": "78da11ba",
   "metadata": {},
   "outputs": [
    {
     "data": {
      "text/plain": [
       "'15,000Pa'"
      ]
     },
     "execution_count": 12,
     "metadata": {},
     "output_type": "execute_result"
    }
   ],
   "source": [
    "suction_value = suction_spec.split(' ')[1].strip()\n",
    "suction_value"
   ]
  },
  {
   "cell_type": "code",
   "execution_count": 13,
   "id": "750df835",
   "metadata": {},
   "outputs": [],
   "source": [
    "category_list = []\n",
    "use_time_list = []\n",
    "suction_list = []\n",
    "\n",
    "for spec_df in df['스펙']:\n",
    "    spec_list = spec_df.split(' / ')\n",
    "    category = spec_list[0]\n",
    "    category_list.append(category)\n",
    "    \n",
    "    use_time_value = None\n",
    "    suction_value = None\n",
    "    for spec in spec_list:\n",
    "        if \"사용시간\" in spec:\n",
    "            use_time_value = spec.split(' ')[1].strip()\n",
    "        elif \"흡입력\" in spec:\n",
    "            suction_value = spec.split(' ')[1].strip()\n",
    "    use_time_list.append(use_time_value)\n",
    "    suction_list.append(suction_value)    \n"
   ]
  },
  {
   "cell_type": "code",
   "execution_count": 14,
   "id": "3423b01c",
   "metadata": {},
   "outputs": [
    {
     "name": "stdout",
     "output_type": "stream",
     "text": [
      "카테고리: 400 ['차량용청소기', '핸디스틱청소기', '차량용청소기', '핸디스틱청소기', '핸디스틱청소기']\n",
      "사용시간: 400 ['45분', '1시간', '9~30분', '1시간', '1시간']\n",
      "흡입력: 400 ['15,000Pa', '220W', '13,000Pa', '220W', '210W']\n"
     ]
    }
   ],
   "source": [
    "print('카테고리:', len(category_list), category_list[0:5])\n",
    "print('사용시간:', len(use_time_list), use_time_list[0:5])\n",
    "print('흡입력:', len(suction_list), suction_list[0:5])"
   ]
  },
  {
   "cell_type": "markdown",
   "id": "e288dead",
   "metadata": {},
   "source": [
    "# 3. 무선 청소기 사용시간 통일"
   ]
  },
  {
   "cell_type": "code",
   "execution_count": 15,
   "id": "16f58362",
   "metadata": {
    "scrolled": true
   },
   "outputs": [
    {
     "name": "stdout",
     "output_type": "stream",
     "text": [
      "['45분', '1시간', '9~30분', '1시간', '1시간', '45분', '1시간', '35분', '1시간', '1시간', '1시간30분', '30분', '1시간', '9~30분', '1시간', '1시간', '1시간', '1시간', '1시간', '1시간', '1시간', '50분', ':', '1시간', None, '12분(고속),25분(저속)', '1시간', '3시간', '1시간', '1시간', '50분', '1시간', '1시간5분', '1시간', '20분', '1시간', '1시간', '20분', '3시간', None, '1시간', '1시간', None, '1시간', '45분', '53분', '25분', '18~50분', '40분', '사용시간:', '15~28분', '1시간', '1시간', '1시간10분', '32분', '53분', '1시간', '최대', None, '50분', '15분', '1시간', '1시간', '1시간', '20분', '1시간10분', '50분', '1시간', '1시간', '30분', '48분', '25분', '20분', '1시간', '20분', '~30분', '50분', '15분', '25분', '1시간', '1시간', '15분', '50분', '1시간', '1시간', '17분', '1시간', '40분', '13분', '30분', '10분', '~30분', '1시간', '20분', '1시간', '8분', '45분', '1시간', '1시간', '45분', '50분', '45분', '9분', '1시간', '30분', '48분', '1시간', '40분', '35분', '20분', '1시간', '1시간20분', '23분', '25분', None, '15분', '20분', None, '40분', '40분', '30~50분', None, '20분', '35분', '1시간', None, '50분', '1시간30분', '20분', '28분', '1시간', '30분', '1시간', '1시간', '42분', '1시간', '1시간', '30분', '50분', '25분', '1시간', '1시간', '45분', '4시간', '1시간', '25~30분', '45분', '33분', '35분', '24분', '40분', '20분', '20~28분', '20분', '30분', '20분', '1시간', '25분', '12분', None, '40분', '1시간', None, '15분', None, '20분', '30분', '40분', '10분', '50분', '28분', '35분', '~30분', None, '9분', '35분', '40분', '40분', '~25분', '12분', '24분', '50분', '1시간', '38분', '28분', '50분', None, '1시간', '18분', '30분', '1시간20분', '1시간', '4시간', '20분', '60분', '42분', '1시간', '사용시간:', '25분', '15분', None, None, '1시간', '1시간', '사용시간:', '1시간10분', '사용시간:', None, '40분', None, None, '45분', '12분(고속),25분(저속)', '40분', '12분', '30분', '40분', '20분', '1시간', '20분', '1시간', '40분', '33분', '사용시간:', '33분', None, '1시간', '1시간10분', '48분', '30분', '1시간20분', '1시간5분', None, '15분', '40분', '50분', '50분', '12~20분', '1시간', '25분', '30분', '1시간20분', '1시간20분', '12분', '1시간20분', '15분', '30분', '1시간', '40분', '35분', '45분', '8분', '50분', '8~12분', '35분', None, '사용시간:', '10분', '7분', '35분', '25분', '45분', '30분', '1시간10분', '30분', '1시간', '40분', '53분', None, '53분', '1시간', '40분', '25분', '1시간', '40분', '13분', '1시간', '12분', '30분', '20분', '1시간', '35분', '40분', None, '16분', '1시간40분', '28분', '9분', '20분', '1시간30분', '10~17분', None, '25분', '20분', '20분', '42분', '11분', '15분', '30분', '1시간20분', '35분', '28분', '13분29초', '2시간', '1시간', '1시간', None, '15분', '20~30분', '40분', '45분', None, '1시간', '20분', '30분', '40분', '30분', '24분', None, '30분', '30분', '48분', '25분', '50분', '1시간', '30분', '80분', '30분', '20분', None, '20분', '1시간', '1시간10분', '35분', '16분', '사용시간:', '45분', '1시간', '50분', '40분', '40분', '40분', '30분', None, '50분', '53분', '45분', None, '2시간', '40분', '1시간', '사용시간:', '20분', '40분', None, '1시간', None, '40분', '30분', '1시간', '1시간', '1시간', '10~15분', '1시간5분', '35분', None, '22분', '28분', '1시간', '53분', '~40분', '사용시간:', '11분', '35분', '30분', '40분', '40분', '30분', None, '48분', '30분', '25분', '1시간', '30분', '50분', '35분', '1시간', None, '42분', '30분', None, '22분', '20~30분', '30분', '50분', '~30분', '1시간', '1시간', '30분', '1시간']\n"
     ]
    }
   ],
   "source": [
    "print(use_time_list)"
   ]
  },
  {
   "cell_type": "code",
   "execution_count": 16,
   "id": "92a4c7fb",
   "metadata": {},
   "outputs": [],
   "source": [
    "def convert_time_minute(time):\n",
    "    try:\n",
    "        if \"시간\" in time:\n",
    "            hour = time.split('시간')[0]\n",
    "            if \"분\" in time:\n",
    "                minute = time.split('시간')[-1].split('분')[0]\n",
    "            else:\n",
    "                minute = 0\n",
    "        else:\n",
    "            hour = 0\n",
    "            minute = time.split('분')[0]\n",
    "        return int(hour) * 60 + int(minute)\n",
    "    except:\n",
    "        return None"
   ]
  },
  {
   "cell_type": "code",
   "execution_count": 17,
   "id": "51b5fcb8",
   "metadata": {},
   "outputs": [
    {
     "name": "stdout",
     "output_type": "stream",
     "text": [
      "45분 = 45\n",
      "1시간 = 60\n",
      "9~30분 = None\n",
      "1시간 = 60\n",
      "1시간 = 60\n"
     ]
    }
   ],
   "source": [
    "# 시간 함수 동작 테스트\n",
    "times = ['45분', '1시간', '9~30분', '1시간', '1시간']\n",
    "for time in times:\n",
    "    time_value = convert_time_minute(time)\n",
    "    print(time, '=', time_value)"
   ]
  },
  {
   "cell_type": "code",
   "execution_count": 18,
   "id": "a1f5f09c",
   "metadata": {},
   "outputs": [],
   "source": [
    "# def convert_time_minute(time):\n",
    "#     return time * 1 / 60\n",
    "    \n",
    "# for use_m in use_time_list:\n",
    "#     if \"분\" in use_m:\n",
    "#         if \"~\" not in use_m:\n",
    "#             time = int(use_m.split(\"분\")[0])\n",
    "#             print(f'{convert_time_minute(time)}시간')\n",
    "#         else:\n",
    "#             time = int(use_m.split(\"분\")[0].split(\"~\")[0])\n",
    "#             t1 = convert_time_minute(time)\n",
    "#             time = int(use_m.split(\"분\")[0].split(\"~\")[1])\n",
    "#             t2 = convert_time_minute(time)\n",
    "#             print(f'{t1}~{t2}시간')\n",
    "#     else:\n",
    "#         print(use_m)"
   ]
  },
  {
   "cell_type": "code",
   "execution_count": 19,
   "id": "4236aa14",
   "metadata": {},
   "outputs": [
    {
     "name": "stdout",
     "output_type": "stream",
     "text": [
      "400\n",
      "[45, 60, None, 60, 60, 45, 60, 35, 60, 60]\n"
     ]
    }
   ],
   "source": [
    "new_use_time_list = []\n",
    "for time in use_time_list:\n",
    "    value = convert_time_minute(time)\n",
    "    new_use_time_list.append(value)\n",
    "print(len(new_use_time_list))\n",
    "print(new_use_time_list[:10])"
   ]
  },
  {
   "cell_type": "markdown",
   "id": "c4ab8eb0",
   "metadata": {},
   "source": [
    "# 4. 무선 청소기 흡입력 단위 통일"
   ]
  },
  {
   "cell_type": "code",
   "execution_count": 20,
   "id": "075962ee",
   "metadata": {},
   "outputs": [],
   "source": [
    "# W는 지우고 pa는 100으로 나눠서 단위를 통일\n",
    "def get_suction(value):\n",
    "    try:\n",
    "        value = value.upper()\n",
    "        if \"AW\" in value or \"W\" in value:\n",
    "            result = value.replace('A', '').replace('W', '')\n",
    "            result = int(result.replace(',', ''))\n",
    "        elif \"PA\" in value:\n",
    "            result = value.replace('PA', '')\n",
    "            result = int(int(result.replace(',', '')) / 100)\n",
    "        else:\n",
    "            result = None\n",
    "        return result       \n",
    "    except:\n",
    "        return None"
   ]
  },
  {
   "cell_type": "code",
   "execution_count": 21,
   "id": "f7e46a99",
   "metadata": {},
   "outputs": [
    {
     "name": "stdout",
     "output_type": "stream",
     "text": [
      "150\n",
      "220\n",
      "130\n",
      "220\n",
      "210\n"
     ]
    }
   ],
   "source": [
    "# 흡입력 함수 동작 테스트\n",
    "suc = ['15,000Pa', '220W', '13,000Pa', '220W', '210W']\n",
    "for su in suc:\n",
    "    suc_va = get_suction(su)\n",
    "    print(suc_va)"
   ]
  },
  {
   "cell_type": "code",
   "execution_count": 22,
   "id": "763d796f",
   "metadata": {},
   "outputs": [
    {
     "name": "stdout",
     "output_type": "stream",
     "text": [
      "400\n",
      "[150, 220, 130, 220, 210, 100, 210, None, 220, 210]\n"
     ]
    }
   ],
   "source": [
    "new_suction_list = []\n",
    "for power in suction_list:\n",
    "    value = get_suction(power)\n",
    "    new_suction_list.append(value)\n",
    "print(len(new_suction_list))\n",
    "print(new_suction_list[:10])"
   ]
  },
  {
   "cell_type": "markdown",
   "id": "48b5a478",
   "metadata": {},
   "source": [
    "# 5. 전처리 결과를 엑셀로 저장"
   ]
  },
  {
   "cell_type": "code",
   "execution_count": 23,
   "id": "405c4232",
   "metadata": {},
   "outputs": [
    {
     "data": {
      "text/html": [
       "<div>\n",
       "<style scoped>\n",
       "    .dataframe tbody tr th:only-of-type {\n",
       "        vertical-align: middle;\n",
       "    }\n",
       "\n",
       "    .dataframe tbody tr th {\n",
       "        vertical-align: top;\n",
       "    }\n",
       "\n",
       "    .dataframe thead th {\n",
       "        text-align: right;\n",
       "    }\n",
       "</style>\n",
       "<table border=\"1\" class=\"dataframe\">\n",
       "  <thead>\n",
       "    <tr style=\"text-align: right;\">\n",
       "      <th></th>\n",
       "      <th>카테고리</th>\n",
       "      <th>회사명</th>\n",
       "      <th>제품명</th>\n",
       "      <th>가격</th>\n",
       "      <th>사용시간</th>\n",
       "      <th>흡입력</th>\n",
       "    </tr>\n",
       "  </thead>\n",
       "  <tbody>\n",
       "    <tr>\n",
       "      <th>0</th>\n",
       "      <td>차량용청소기</td>\n",
       "      <td>베이스어스</td>\n",
       "      <td>차량용 청소기 A3 (해외구매)</td>\n",
       "      <td>47510</td>\n",
       "      <td>45.0</td>\n",
       "      <td>150.0</td>\n",
       "    </tr>\n",
       "    <tr>\n",
       "      <th>1</th>\n",
       "      <td>핸디스틱청소기</td>\n",
       "      <td>LG전자</td>\n",
       "      <td>오브제컬렉션 코드제로 A9S AU9982</td>\n",
       "      <td>1019160</td>\n",
       "      <td>60.0</td>\n",
       "      <td>220.0</td>\n",
       "    </tr>\n",
       "    <tr>\n",
       "      <th>2</th>\n",
       "      <td>차량용청소기</td>\n",
       "      <td>샤오미</td>\n",
       "      <td>미지아 차량용 핸디 무선 청소기 (해외구매)</td>\n",
       "      <td>38990</td>\n",
       "      <td>NaN</td>\n",
       "      <td>130.0</td>\n",
       "    </tr>\n",
       "    <tr>\n",
       "      <th>3</th>\n",
       "      <td>핸디스틱청소기</td>\n",
       "      <td>LG전자</td>\n",
       "      <td>오브제컬렉션 코드제로 A9S AU9882</td>\n",
       "      <td>894400</td>\n",
       "      <td>60.0</td>\n",
       "      <td>220.0</td>\n",
       "    </tr>\n",
       "    <tr>\n",
       "      <th>4</th>\n",
       "      <td>핸디스틱청소기</td>\n",
       "      <td>삼성전자</td>\n",
       "      <td>비스포크 제트 VS20A956A3</td>\n",
       "      <td>492190</td>\n",
       "      <td>60.0</td>\n",
       "      <td>210.0</td>\n",
       "    </tr>\n",
       "  </tbody>\n",
       "</table>\n",
       "</div>"
      ],
      "text/plain": [
       "      카테고리    회사명                       제품명       가격  사용시간    흡입력\n",
       "0   차량용청소기  베이스어스         차량용 청소기 A3 (해외구매)    47510  45.0  150.0\n",
       "1  핸디스틱청소기   LG전자    오브제컬렉션 코드제로 A9S AU9982  1019160  60.0  220.0\n",
       "2   차량용청소기    샤오미  미지아 차량용 핸디 무선 청소기 (해외구매)    38990   NaN  130.0\n",
       "3  핸디스틱청소기   LG전자    오브제컬렉션 코드제로 A9S AU9882   894400  60.0  220.0\n",
       "4  핸디스틱청소기   삼성전자        비스포크 제트 VS20A956A3   492190  60.0  210.0"
      ]
     },
     "execution_count": 23,
     "metadata": {},
     "output_type": "execute_result"
    }
   ],
   "source": [
    "pd_data = pd.DataFrame()\n",
    "pd_data['카테고리'] = category_list\n",
    "pd_data['회사명'] = company_list\n",
    "pd_data['제품명'] = product_list\n",
    "pd_data['가격'] = df['가격']\n",
    "pd_data['사용시간'] = new_use_time_list\n",
    "pd_data['흡입력'] = new_suction_list\n",
    "\n",
    "pd_data.head()"
   ]
  },
  {
   "cell_type": "code",
   "execution_count": 24,
   "id": "43de3089",
   "metadata": {},
   "outputs": [],
   "source": [
    "pd_data.to_csv('./csv/danawa_preprocessing.csv', index=False)"
   ]
  },
  {
   "cell_type": "code",
   "execution_count": 25,
   "id": "4f4d0b20",
   "metadata": {
    "scrolled": true
   },
   "outputs": [
    {
     "data": {
      "text/plain": [
       "핸디스틱청소기             214\n",
       "차량용청소기               92\n",
       "핸디청소기                39\n",
       "물걸레청소기               30\n",
       "욕실청소기                 8\n",
       "업소용청소기                6\n",
       "스틱청소기                 4\n",
       "핸디/스틱청소기+로봇청소기세트      4\n",
       "침구청소기                 2\n",
       "물걸레청소기+스팀청소기          1\n",
       "Name: 카테고리, dtype: int64"
      ]
     },
     "execution_count": 25,
     "metadata": {},
     "output_type": "execute_result"
    }
   ],
   "source": [
    "pd_data['카테고리'].value_counts()"
   ]
  },
  {
   "cell_type": "code",
   "execution_count": 26,
   "id": "819202ba",
   "metadata": {
    "scrolled": true
   },
   "outputs": [
    {
     "data": {
      "text/html": [
       "<div>\n",
       "<style scoped>\n",
       "    .dataframe tbody tr th:only-of-type {\n",
       "        vertical-align: middle;\n",
       "    }\n",
       "\n",
       "    .dataframe tbody tr th {\n",
       "        vertical-align: top;\n",
       "    }\n",
       "\n",
       "    .dataframe thead th {\n",
       "        text-align: right;\n",
       "    }\n",
       "</style>\n",
       "<table border=\"1\" class=\"dataframe\">\n",
       "  <thead>\n",
       "    <tr style=\"text-align: right;\">\n",
       "      <th></th>\n",
       "      <th>카테고리</th>\n",
       "      <th>회사명</th>\n",
       "      <th>제품명</th>\n",
       "      <th>가격</th>\n",
       "      <th>사용시간</th>\n",
       "      <th>흡입력</th>\n",
       "    </tr>\n",
       "  </thead>\n",
       "  <tbody>\n",
       "    <tr>\n",
       "      <th>1</th>\n",
       "      <td>핸디스틱청소기</td>\n",
       "      <td>LG전자</td>\n",
       "      <td>오브제컬렉션 코드제로 A9S AU9982</td>\n",
       "      <td>1019160</td>\n",
       "      <td>60.0</td>\n",
       "      <td>220.0</td>\n",
       "    </tr>\n",
       "    <tr>\n",
       "      <th>3</th>\n",
       "      <td>핸디스틱청소기</td>\n",
       "      <td>LG전자</td>\n",
       "      <td>오브제컬렉션 코드제로 A9S AU9882</td>\n",
       "      <td>894400</td>\n",
       "      <td>60.0</td>\n",
       "      <td>220.0</td>\n",
       "    </tr>\n",
       "    <tr>\n",
       "      <th>4</th>\n",
       "      <td>핸디스틱청소기</td>\n",
       "      <td>삼성전자</td>\n",
       "      <td>비스포크 제트 VS20A956A3</td>\n",
       "      <td>492190</td>\n",
       "      <td>60.0</td>\n",
       "      <td>210.0</td>\n",
       "    </tr>\n",
       "    <tr>\n",
       "      <th>6</th>\n",
       "      <td>핸디스틱청소기</td>\n",
       "      <td>LG전자</td>\n",
       "      <td>코드제로 A9S AT9271</td>\n",
       "      <td>633330</td>\n",
       "      <td>60.0</td>\n",
       "      <td>210.0</td>\n",
       "    </tr>\n",
       "    <tr>\n",
       "      <th>7</th>\n",
       "      <td>핸디스틱청소기</td>\n",
       "      <td>일렉트로룩스</td>\n",
       "      <td>에르고라피도 ZB3512IG</td>\n",
       "      <td>184270</td>\n",
       "      <td>35.0</td>\n",
       "      <td>NaN</td>\n",
       "    </tr>\n",
       "    <tr>\n",
       "      <th>...</th>\n",
       "      <td>...</td>\n",
       "      <td>...</td>\n",
       "      <td>...</td>\n",
       "      <td>...</td>\n",
       "      <td>...</td>\n",
       "      <td>...</td>\n",
       "    </tr>\n",
       "    <tr>\n",
       "      <th>388</th>\n",
       "      <td>핸디스틱청소기</td>\n",
       "      <td>일렉트로룩스</td>\n",
       "      <td>ZB3302AK</td>\n",
       "      <td>189000</td>\n",
       "      <td>42.0</td>\n",
       "      <td>NaN</td>\n",
       "    </tr>\n",
       "    <tr>\n",
       "      <th>394</th>\n",
       "      <td>핸디스틱청소기</td>\n",
       "      <td>로헨</td>\n",
       "      <td>L30</td>\n",
       "      <td>169000</td>\n",
       "      <td>50.0</td>\n",
       "      <td>350.0</td>\n",
       "    </tr>\n",
       "    <tr>\n",
       "      <th>396</th>\n",
       "      <td>핸디스틱청소기</td>\n",
       "      <td>삼성전자</td>\n",
       "      <td>비스포크 제트 VS20A957E2</td>\n",
       "      <td>708990</td>\n",
       "      <td>60.0</td>\n",
       "      <td>210.0</td>\n",
       "    </tr>\n",
       "    <tr>\n",
       "      <th>397</th>\n",
       "      <td>핸디스틱청소기</td>\n",
       "      <td>삼성전자</td>\n",
       "      <td>제트 VS20T9253QD</td>\n",
       "      <td>417600</td>\n",
       "      <td>60.0</td>\n",
       "      <td>200.0</td>\n",
       "    </tr>\n",
       "    <tr>\n",
       "      <th>399</th>\n",
       "      <td>핸디스틱청소기</td>\n",
       "      <td>LG전자</td>\n",
       "      <td>오브제컬렉션 코드제로 A9S AT9271</td>\n",
       "      <td>875970</td>\n",
       "      <td>60.0</td>\n",
       "      <td>210.0</td>\n",
       "    </tr>\n",
       "  </tbody>\n",
       "</table>\n",
       "<p>214 rows × 6 columns</p>\n",
       "</div>"
      ],
      "text/plain": [
       "        카테고리     회사명                     제품명       가격  사용시간    흡입력\n",
       "1    핸디스틱청소기    LG전자  오브제컬렉션 코드제로 A9S AU9982  1019160  60.0  220.0\n",
       "3    핸디스틱청소기    LG전자  오브제컬렉션 코드제로 A9S AU9882   894400  60.0  220.0\n",
       "4    핸디스틱청소기    삼성전자      비스포크 제트 VS20A956A3   492190  60.0  210.0\n",
       "6    핸디스틱청소기    LG전자         코드제로 A9S AT9271   633330  60.0  210.0\n",
       "7    핸디스틱청소기  일렉트로룩스         에르고라피도 ZB3512IG   184270  35.0    NaN\n",
       "..       ...     ...                     ...      ...   ...    ...\n",
       "388  핸디스틱청소기  일렉트로룩스                ZB3302AK   189000  42.0    NaN\n",
       "394  핸디스틱청소기      로헨                     L30   169000  50.0  350.0\n",
       "396  핸디스틱청소기    삼성전자      비스포크 제트 VS20A957E2   708990  60.0  210.0\n",
       "397  핸디스틱청소기    삼성전자          제트 VS20T9253QD   417600  60.0  200.0\n",
       "399  핸디스틱청소기    LG전자  오브제컬렉션 코드제로 A9S AT9271   875970  60.0  210.0\n",
       "\n",
       "[214 rows x 6 columns]"
      ]
     },
     "execution_count": 26,
     "metadata": {},
     "output_type": "execute_result"
    }
   ],
   "source": [
    "pd_data_final = pd_data[pd_data['카테고리'].isin(['핸디스틱청소기'])]\n",
    "pd_data_final"
   ]
  },
  {
   "cell_type": "code",
   "execution_count": 27,
   "id": "561bc1f0",
   "metadata": {},
   "outputs": [
    {
     "data": {
      "text/plain": [
       "199000     4\n",
       "169000     4\n",
       "195000     3\n",
       "299000     3\n",
       "179000     2\n",
       "          ..\n",
       "375967     1\n",
       "1135240    1\n",
       "800020     1\n",
       "569990     1\n",
       "875970     1\n",
       "Name: 가격, Length: 202, dtype: int64"
      ]
     },
     "execution_count": 27,
     "metadata": {},
     "output_type": "execute_result"
    }
   ],
   "source": [
    "pd_data_final['가격'].value_counts()"
   ]
  },
  {
   "cell_type": "code",
   "execution_count": 28,
   "id": "d7c3cc59",
   "metadata": {},
   "outputs": [
    {
     "data": {
      "text/plain": [
       "array([1019160,  894400,  492190,  633330,  184270,  605950,  756710,\n",
       "        183710,  381650,  525990,  595850,  478710,  520830,  556980,\n",
       "        805450,  766110,  169000,  592050,  571000,  807700,  378900,\n",
       "        269000,  394740,  166230,  785570,  897380,  575840,  446220,\n",
       "        165710,  156860,  663980,  636970,  182860,  305290,  197490,\n",
       "        552360,  299000, 1225460,  234170,  587910,  168290,  751600,\n",
       "       1179960,  599430,  305970,  179000,  735980,  615670,  196570,\n",
       "        703870, 1185790,  584620,  791930,  933000,  109960,  706200,\n",
       "        221790,  518850,  368110,  199440,  139000,  199000,  349000,\n",
       "        248000,  601130,  583860,  195000,   75800, 1515400,   46650,\n",
       "         41900,   87900,  730800,  375967, 1135240,  800020,  569990,\n",
       "         74970,  668900,  482460,  745610,  730080,  227190,  695110,\n",
       "        139410,  245100,  217500,   79000,   48070,  170100,   93980,\n",
       "        595660,  409380,  299990,   78970,  258990,  421000,  232310,\n",
       "        454090,  294590,  179050, 1499990,  953950,  134850,  217600,\n",
       "        214320,   74240,  898990,  616250,   81890,   75270,  109000,\n",
       "        164250,  198000,  177100,  125120,  636500,   40790,  319000,\n",
       "        129912,  649350,  159930,  399000,  248310,  278060,  235030,\n",
       "       1439910,  241930,   67350,  232390,  338000,  699470, 1230620,\n",
       "         57010,  115640,  235900,   93930,  429140,  521750,  852210,\n",
       "        298880,  366820,  168370,  392700,  855590, 1002430,  161670,\n",
       "        429890,  172950,  442860,   88290,  135270,  159000,  128000,\n",
       "       1579990,   91170,  114000, 1054750,  122380,   54050,  153930,\n",
       "        538490,  137990,   89000,  182350,  184990,   74900,  567970,\n",
       "         81490,   89100,   49760,  506540,  138220,  186470,   34270,\n",
       "        129630,  178000,  344420,  280200,  145000,  117900,  548870,\n",
       "        138000,  271810, 1101950,  699390,   49790,  348990,  107000,\n",
       "        249000,  569860,   62800,  125400,  127980,  238990,  427800,\n",
       "       1190000,  240870,  189000,  708990,  417600,  875970], dtype=int64)"
      ]
     },
     "execution_count": 28,
     "metadata": {},
     "output_type": "execute_result"
    }
   ],
   "source": [
    "pd_data_final['가격'].unique()"
   ]
  },
  {
   "cell_type": "code",
   "execution_count": 30,
   "id": "e468d230",
   "metadata": {},
   "outputs": [],
   "source": [
    "pd_data_final.to_csv('./csv/danawa_preprocessing_2.csv', index=False)"
   ]
  },
  {
   "cell_type": "code",
   "execution_count": 32,
   "id": "4e5a85cb",
   "metadata": {},
   "outputs": [],
   "source": [
    "pd_data_final = pd.read_csv('./csv/danawa_preprocessing_2.csv')"
   ]
  },
  {
   "cell_type": "markdown",
   "id": "6ad27c28",
   "metadata": {},
   "source": [
    "# 6. 흡입력 기준 정렬"
   ]
  },
  {
   "cell_type": "code",
   "execution_count": 33,
   "id": "39982873",
   "metadata": {},
   "outputs": [
    {
     "data": {
      "text/plain": [
       "카테고리     0\n",
       "회사명      0\n",
       "제품명      0\n",
       "가격       0\n",
       "사용시간    10\n",
       "흡입력     64\n",
       "dtype: int64"
      ]
     },
     "execution_count": 33,
     "metadata": {},
     "output_type": "execute_result"
    }
   ],
   "source": [
    "pd_data_final.isnull().sum()"
   ]
  },
  {
   "cell_type": "code",
   "execution_count": 35,
   "id": "0a3bbe93",
   "metadata": {},
   "outputs": [
    {
     "data": {
      "text/html": [
       "<div>\n",
       "<style scoped>\n",
       "    .dataframe tbody tr th:only-of-type {\n",
       "        vertical-align: middle;\n",
       "    }\n",
       "\n",
       "    .dataframe tbody tr th {\n",
       "        vertical-align: top;\n",
       "    }\n",
       "\n",
       "    .dataframe thead th {\n",
       "        text-align: right;\n",
       "    }\n",
       "</style>\n",
       "<table border=\"1\" class=\"dataframe\">\n",
       "  <thead>\n",
       "    <tr style=\"text-align: right;\">\n",
       "      <th></th>\n",
       "      <th>카테고리</th>\n",
       "      <th>회사명</th>\n",
       "      <th>제품명</th>\n",
       "      <th>가격</th>\n",
       "      <th>사용시간</th>\n",
       "      <th>흡입력</th>\n",
       "    </tr>\n",
       "  </thead>\n",
       "  <tbody>\n",
       "    <tr>\n",
       "      <th>34</th>\n",
       "      <td>핸디스틱청소기</td>\n",
       "      <td>DIBEA</td>\n",
       "      <td>차이슨 ALLNEW22000 스노우화이트</td>\n",
       "      <td>197490</td>\n",
       "      <td>40.0</td>\n",
       "      <td>400.0</td>\n",
       "    </tr>\n",
       "    <tr>\n",
       "      <th>64</th>\n",
       "      <td>핸디스틱청소기</td>\n",
       "      <td>DIBEA</td>\n",
       "      <td>차이슨 ALLNEW29000</td>\n",
       "      <td>248000</td>\n",
       "      <td>48.0</td>\n",
       "      <td>390.0</td>\n",
       "    </tr>\n",
       "    <tr>\n",
       "      <th>93</th>\n",
       "      <td>핸디스틱청소기</td>\n",
       "      <td>행커</td>\n",
       "      <td>400W</td>\n",
       "      <td>170100</td>\n",
       "      <td>60.0</td>\n",
       "      <td>390.0</td>\n",
       "    </tr>\n",
       "    <tr>\n",
       "      <th>62</th>\n",
       "      <td>핸디스틱청소기</td>\n",
       "      <td>에어메이드</td>\n",
       "      <td>스마트포스 AMC-3500</td>\n",
       "      <td>199000</td>\n",
       "      <td>45.0</td>\n",
       "      <td>370.0</td>\n",
       "    </tr>\n",
       "    <tr>\n",
       "      <th>210</th>\n",
       "      <td>핸디스틱청소기</td>\n",
       "      <td>로헨</td>\n",
       "      <td>L30</td>\n",
       "      <td>169000</td>\n",
       "      <td>50.0</td>\n",
       "      <td>350.0</td>\n",
       "    </tr>\n",
       "    <tr>\n",
       "      <th>...</th>\n",
       "      <td>...</td>\n",
       "      <td>...</td>\n",
       "      <td>...</td>\n",
       "      <td>...</td>\n",
       "      <td>...</td>\n",
       "      <td>...</td>\n",
       "    </tr>\n",
       "    <tr>\n",
       "      <th>198</th>\n",
       "      <td>핸디스틱청소기</td>\n",
       "      <td>일렉트로룩스</td>\n",
       "      <td>얼티밋홈 700 EFS71423</td>\n",
       "      <td>569860</td>\n",
       "      <td>53.0</td>\n",
       "      <td>NaN</td>\n",
       "    </tr>\n",
       "    <tr>\n",
       "      <th>199</th>\n",
       "      <td>핸디스틱청소기</td>\n",
       "      <td>보랄</td>\n",
       "      <td>큐텐 BR-Q390RV</td>\n",
       "      <td>62800</td>\n",
       "      <td>NaN</td>\n",
       "      <td>NaN</td>\n",
       "    </tr>\n",
       "    <tr>\n",
       "      <th>200</th>\n",
       "      <td>핸디스틱청소기</td>\n",
       "      <td>신일전자</td>\n",
       "      <td>SVC-DC2200SK</td>\n",
       "      <td>125400</td>\n",
       "      <td>35.0</td>\n",
       "      <td>NaN</td>\n",
       "    </tr>\n",
       "    <tr>\n",
       "      <th>202</th>\n",
       "      <td>핸디스틱청소기</td>\n",
       "      <td>일렉트로룩스</td>\n",
       "      <td>에르고라피도 ZB3311</td>\n",
       "      <td>238990</td>\n",
       "      <td>48.0</td>\n",
       "      <td>NaN</td>\n",
       "    </tr>\n",
       "    <tr>\n",
       "      <th>209</th>\n",
       "      <td>핸디스틱청소기</td>\n",
       "      <td>일렉트로룩스</td>\n",
       "      <td>ZB3302AK</td>\n",
       "      <td>189000</td>\n",
       "      <td>42.0</td>\n",
       "      <td>NaN</td>\n",
       "    </tr>\n",
       "  </tbody>\n",
       "</table>\n",
       "<p>214 rows × 6 columns</p>\n",
       "</div>"
      ],
      "text/plain": [
       "        카테고리     회사명                     제품명      가격  사용시간    흡입력\n",
       "34   핸디스틱청소기   DIBEA  차이슨 ALLNEW22000 스노우화이트  197490  40.0  400.0\n",
       "64   핸디스틱청소기   DIBEA         차이슨 ALLNEW29000  248000  48.0  390.0\n",
       "93   핸디스틱청소기      행커                    400W  170100  60.0  390.0\n",
       "62   핸디스틱청소기   에어메이드          스마트포스 AMC-3500  199000  45.0  370.0\n",
       "210  핸디스틱청소기      로헨                     L30  169000  50.0  350.0\n",
       "..       ...     ...                     ...     ...   ...    ...\n",
       "198  핸디스틱청소기  일렉트로룩스       얼티밋홈 700 EFS71423  569860  53.0    NaN\n",
       "199  핸디스틱청소기      보랄            큐텐 BR-Q390RV   62800   NaN    NaN\n",
       "200  핸디스틱청소기    신일전자            SVC-DC2200SK  125400  35.0    NaN\n",
       "202  핸디스틱청소기  일렉트로룩스           에르고라피도 ZB3311  238990  48.0    NaN\n",
       "209  핸디스틱청소기  일렉트로룩스                ZB3302AK  189000  42.0    NaN\n",
       "\n",
       "[214 rows x 6 columns]"
      ]
     },
     "execution_count": 35,
     "metadata": {},
     "output_type": "execute_result"
    }
   ],
   "source": [
    "top_list = pd_data_final.sort_values(['흡입력'], ascending=False)\n",
    "top_list"
   ]
  },
  {
   "cell_type": "code",
   "execution_count": 37,
   "id": "6a23e0f5",
   "metadata": {},
   "outputs": [
    {
     "data": {
      "text/html": [
       "<div>\n",
       "<style scoped>\n",
       "    .dataframe tbody tr th:only-of-type {\n",
       "        vertical-align: middle;\n",
       "    }\n",
       "\n",
       "    .dataframe tbody tr th {\n",
       "        vertical-align: top;\n",
       "    }\n",
       "\n",
       "    .dataframe thead th {\n",
       "        text-align: right;\n",
       "    }\n",
       "</style>\n",
       "<table border=\"1\" class=\"dataframe\">\n",
       "  <thead>\n",
       "    <tr style=\"text-align: right;\">\n",
       "      <th></th>\n",
       "      <th>카테고리</th>\n",
       "      <th>회사명</th>\n",
       "      <th>제품명</th>\n",
       "      <th>가격</th>\n",
       "      <th>사용시간</th>\n",
       "      <th>흡입력</th>\n",
       "    </tr>\n",
       "  </thead>\n",
       "  <tbody>\n",
       "    <tr>\n",
       "      <th>76</th>\n",
       "      <td>핸디스틱청소기</td>\n",
       "      <td>샤오미</td>\n",
       "      <td>드리미 V12</td>\n",
       "      <td>375967</td>\n",
       "      <td>90.0</td>\n",
       "      <td>270.0</td>\n",
       "    </tr>\n",
       "    <tr>\n",
       "      <th>7</th>\n",
       "      <td>핸디스틱청소기</td>\n",
       "      <td>샤오미</td>\n",
       "      <td>드리미 V11</td>\n",
       "      <td>183710</td>\n",
       "      <td>90.0</td>\n",
       "      <td>250.0</td>\n",
       "    </tr>\n",
       "    <tr>\n",
       "      <th>131</th>\n",
       "      <td>핸디스틱청소기</td>\n",
       "      <td>삼성전자</td>\n",
       "      <td>비스포크 제트 AI VS25C972DR</td>\n",
       "      <td>1439910</td>\n",
       "      <td>80.0</td>\n",
       "      <td>250.0</td>\n",
       "    </tr>\n",
       "    <tr>\n",
       "      <th>69</th>\n",
       "      <td>핸디스틱청소기</td>\n",
       "      <td>삼성전자</td>\n",
       "      <td>비스포크 제트 AI VS28C973ES</td>\n",
       "      <td>1515400</td>\n",
       "      <td>80.0</td>\n",
       "      <td>280.0</td>\n",
       "    </tr>\n",
       "    <tr>\n",
       "      <th>106</th>\n",
       "      <td>핸디스틱청소기</td>\n",
       "      <td>삼성전자</td>\n",
       "      <td>비스포크 제트 AI VS28C973DR</td>\n",
       "      <td>1499990</td>\n",
       "      <td>80.0</td>\n",
       "      <td>280.0</td>\n",
       "    </tr>\n",
       "    <tr>\n",
       "      <th>...</th>\n",
       "      <td>...</td>\n",
       "      <td>...</td>\n",
       "      <td>...</td>\n",
       "      <td>...</td>\n",
       "      <td>...</td>\n",
       "      <td>...</td>\n",
       "    </tr>\n",
       "    <tr>\n",
       "      <th>127</th>\n",
       "      <td>핸디스틱청소기</td>\n",
       "      <td>샤오미</td>\n",
       "      <td>드리미 T30</td>\n",
       "      <td>399000</td>\n",
       "      <td>NaN</td>\n",
       "      <td>270.0</td>\n",
       "    </tr>\n",
       "    <tr>\n",
       "      <th>169</th>\n",
       "      <td>핸디스틱청소기</td>\n",
       "      <td>코슬리</td>\n",
       "      <td>스위트 KV-17IV</td>\n",
       "      <td>89000</td>\n",
       "      <td>NaN</td>\n",
       "      <td>170.0</td>\n",
       "    </tr>\n",
       "    <tr>\n",
       "      <th>187</th>\n",
       "      <td>핸디스틱청소기</td>\n",
       "      <td>아이룸</td>\n",
       "      <td>트윈파워 MAX</td>\n",
       "      <td>145000</td>\n",
       "      <td>NaN</td>\n",
       "      <td>NaN</td>\n",
       "    </tr>\n",
       "    <tr>\n",
       "      <th>194</th>\n",
       "      <td>핸디스틱청소기</td>\n",
       "      <td>보만</td>\n",
       "      <td>VC7210</td>\n",
       "      <td>49790</td>\n",
       "      <td>NaN</td>\n",
       "      <td>NaN</td>\n",
       "    </tr>\n",
       "    <tr>\n",
       "      <th>199</th>\n",
       "      <td>핸디스틱청소기</td>\n",
       "      <td>보랄</td>\n",
       "      <td>큐텐 BR-Q390RV</td>\n",
       "      <td>62800</td>\n",
       "      <td>NaN</td>\n",
       "      <td>NaN</td>\n",
       "    </tr>\n",
       "  </tbody>\n",
       "</table>\n",
       "<p>214 rows × 6 columns</p>\n",
       "</div>"
      ],
      "text/plain": [
       "        카테고리   회사명                    제품명       가격  사용시간    흡입력\n",
       "76   핸디스틱청소기   샤오미                드리미 V12   375967  90.0  270.0\n",
       "7    핸디스틱청소기   샤오미                드리미 V11   183710  90.0  250.0\n",
       "131  핸디스틱청소기  삼성전자  비스포크 제트 AI VS25C972DR  1439910  80.0  250.0\n",
       "69   핸디스틱청소기  삼성전자  비스포크 제트 AI VS28C973ES  1515400  80.0  280.0\n",
       "106  핸디스틱청소기  삼성전자  비스포크 제트 AI VS28C973DR  1499990  80.0  280.0\n",
       "..       ...   ...                    ...      ...   ...    ...\n",
       "127  핸디스틱청소기   샤오미                드리미 T30   399000   NaN  270.0\n",
       "169  핸디스틱청소기   코슬리            스위트 KV-17IV    89000   NaN  170.0\n",
       "187  핸디스틱청소기   아이룸               트윈파워 MAX   145000   NaN    NaN\n",
       "194  핸디스틱청소기    보만                 VC7210    49790   NaN    NaN\n",
       "199  핸디스틱청소기    보랄           큐텐 BR-Q390RV    62800   NaN    NaN\n",
       "\n",
       "[214 rows x 6 columns]"
      ]
     },
     "execution_count": 37,
     "metadata": {},
     "output_type": "execute_result"
    }
   ],
   "source": [
    "top_list2 = pd_data_final.sort_values(['사용시간'], ascending=False)\n",
    "top_list2"
   ]
  },
  {
   "cell_type": "code",
   "execution_count": 38,
   "id": "5c260684",
   "metadata": {},
   "outputs": [
    {
     "data": {
      "text/html": [
       "<div>\n",
       "<style scoped>\n",
       "    .dataframe tbody tr th:only-of-type {\n",
       "        vertical-align: middle;\n",
       "    }\n",
       "\n",
       "    .dataframe tbody tr th {\n",
       "        vertical-align: top;\n",
       "    }\n",
       "\n",
       "    .dataframe thead th {\n",
       "        text-align: right;\n",
       "    }\n",
       "</style>\n",
       "<table border=\"1\" class=\"dataframe\">\n",
       "  <thead>\n",
       "    <tr style=\"text-align: right;\">\n",
       "      <th></th>\n",
       "      <th>카테고리</th>\n",
       "      <th>회사명</th>\n",
       "      <th>제품명</th>\n",
       "      <th>가격</th>\n",
       "      <th>사용시간</th>\n",
       "      <th>흡입력</th>\n",
       "    </tr>\n",
       "  </thead>\n",
       "  <tbody>\n",
       "    <tr>\n",
       "      <th>76</th>\n",
       "      <td>핸디스틱청소기</td>\n",
       "      <td>샤오미</td>\n",
       "      <td>드리미 V12</td>\n",
       "      <td>375967</td>\n",
       "      <td>90.0</td>\n",
       "      <td>270.0</td>\n",
       "    </tr>\n",
       "    <tr>\n",
       "      <th>7</th>\n",
       "      <td>핸디스틱청소기</td>\n",
       "      <td>샤오미</td>\n",
       "      <td>드리미 V11</td>\n",
       "      <td>183710</td>\n",
       "      <td>90.0</td>\n",
       "      <td>250.0</td>\n",
       "    </tr>\n",
       "    <tr>\n",
       "      <th>69</th>\n",
       "      <td>핸디스틱청소기</td>\n",
       "      <td>삼성전자</td>\n",
       "      <td>비스포크 제트 AI VS28C973ES</td>\n",
       "      <td>1515400</td>\n",
       "      <td>80.0</td>\n",
       "      <td>280.0</td>\n",
       "    </tr>\n",
       "    <tr>\n",
       "      <th>106</th>\n",
       "      <td>핸디스틱청소기</td>\n",
       "      <td>삼성전자</td>\n",
       "      <td>비스포크 제트 AI VS28C973DR</td>\n",
       "      <td>1499990</td>\n",
       "      <td>80.0</td>\n",
       "      <td>280.0</td>\n",
       "    </tr>\n",
       "    <tr>\n",
       "      <th>159</th>\n",
       "      <td>핸디스틱청소기</td>\n",
       "      <td>삼성전자</td>\n",
       "      <td>비스포크 제트 AI VS28C973GSK</td>\n",
       "      <td>1579990</td>\n",
       "      <td>80.0</td>\n",
       "      <td>280.0</td>\n",
       "    </tr>\n",
       "  </tbody>\n",
       "</table>\n",
       "</div>"
      ],
      "text/plain": [
       "        카테고리   회사명                     제품명       가격  사용시간    흡입력\n",
       "76   핸디스틱청소기   샤오미                 드리미 V12   375967  90.0  270.0\n",
       "7    핸디스틱청소기   샤오미                 드리미 V11   183710  90.0  250.0\n",
       "69   핸디스틱청소기  삼성전자   비스포크 제트 AI VS28C973ES  1515400  80.0  280.0\n",
       "106  핸디스틱청소기  삼성전자   비스포크 제트 AI VS28C973DR  1499990  80.0  280.0\n",
       "159  핸디스틱청소기  삼성전자  비스포크 제트 AI VS28C973GSK  1579990  80.0  280.0"
      ]
     },
     "execution_count": 38,
     "metadata": {},
     "output_type": "execute_result"
    }
   ],
   "source": [
    "top_list3 = pd_data_final.sort_values(['사용시간', '흡입력'], ascending=False)\n",
    "top_list3.head()"
   ]
  },
  {
   "cell_type": "code",
   "execution_count": 40,
   "id": "ca29e75d",
   "metadata": {},
   "outputs": [
    {
     "name": "stdout",
     "output_type": "stream",
     "text": [
      "400167.6121495327\n",
      "203.94666666666666\n",
      "49.61274509803921\n"
     ]
    }
   ],
   "source": [
    "# 평균값 정리\n",
    "price_mean_value = pd_data_final['가격'].mean()\n",
    "suction_mean_value = pd_data_final['흡입력'].mean()\n",
    "use_time_mean_value = pd_data_final['사용시간'].mean()\n",
    "print(price_mean_value)\n",
    "print(suction_mean_value)\n",
    "print(use_time_mean_value)"
   ]
  },
  {
   "cell_type": "code",
   "execution_count": 52,
   "id": "dcc38c56",
   "metadata": {},
   "outputs": [
    {
     "data": {
      "text/html": [
       "<div>\n",
       "<style scoped>\n",
       "    .dataframe tbody tr th:only-of-type {\n",
       "        vertical-align: middle;\n",
       "    }\n",
       "\n",
       "    .dataframe tbody tr th {\n",
       "        vertical-align: top;\n",
       "    }\n",
       "\n",
       "    .dataframe thead th {\n",
       "        text-align: right;\n",
       "    }\n",
       "</style>\n",
       "<table border=\"1\" class=\"dataframe\">\n",
       "  <thead>\n",
       "    <tr style=\"text-align: right;\">\n",
       "      <th></th>\n",
       "      <th>카테고리</th>\n",
       "      <th>회사명</th>\n",
       "      <th>제품명</th>\n",
       "      <th>가격</th>\n",
       "      <th>사용시간</th>\n",
       "      <th>흡입력</th>\n",
       "    </tr>\n",
       "  </thead>\n",
       "  <tbody>\n",
       "    <tr>\n",
       "      <th>7</th>\n",
       "      <td>핸디스틱청소기</td>\n",
       "      <td>샤오미</td>\n",
       "      <td>드리미 V11</td>\n",
       "      <td>183710</td>\n",
       "      <td>90.0</td>\n",
       "      <td>250.0</td>\n",
       "    </tr>\n",
       "    <tr>\n",
       "      <th>16</th>\n",
       "      <td>핸디스틱청소기</td>\n",
       "      <td>아이닉</td>\n",
       "      <td>NEW i20</td>\n",
       "      <td>169000</td>\n",
       "      <td>50.0</td>\n",
       "      <td>300.0</td>\n",
       "    </tr>\n",
       "    <tr>\n",
       "      <th>21</th>\n",
       "      <td>핸디스틱청소기</td>\n",
       "      <td>아이닉</td>\n",
       "      <td>i30 아이타워</td>\n",
       "      <td>269000</td>\n",
       "      <td>50.0</td>\n",
       "      <td>350.0</td>\n",
       "    </tr>\n",
       "    <tr>\n",
       "      <th>29</th>\n",
       "      <td>핸디스틱청소기</td>\n",
       "      <td>샤오미</td>\n",
       "      <td>드리미 V10</td>\n",
       "      <td>156860</td>\n",
       "      <td>60.0</td>\n",
       "      <td>220.0</td>\n",
       "    </tr>\n",
       "    <tr>\n",
       "      <th>44</th>\n",
       "      <td>핸디스틱청소기</td>\n",
       "      <td>샤오미</td>\n",
       "      <td>드리미 T20</td>\n",
       "      <td>305970</td>\n",
       "      <td>70.0</td>\n",
       "      <td>250.0</td>\n",
       "    </tr>\n",
       "    <tr>\n",
       "      <th>76</th>\n",
       "      <td>핸디스틱청소기</td>\n",
       "      <td>샤오미</td>\n",
       "      <td>드리미 V12</td>\n",
       "      <td>375967</td>\n",
       "      <td>90.0</td>\n",
       "      <td>270.0</td>\n",
       "    </tr>\n",
       "    <tr>\n",
       "      <th>93</th>\n",
       "      <td>핸디스틱청소기</td>\n",
       "      <td>행커</td>\n",
       "      <td>400W</td>\n",
       "      <td>170100</td>\n",
       "      <td>60.0</td>\n",
       "      <td>390.0</td>\n",
       "    </tr>\n",
       "    <tr>\n",
       "      <th>102</th>\n",
       "      <td>핸디스틱청소기</td>\n",
       "      <td>DIBEA</td>\n",
       "      <td>올인원 UV</td>\n",
       "      <td>169000</td>\n",
       "      <td>50.0</td>\n",
       "      <td>250.0</td>\n",
       "    </tr>\n",
       "    <tr>\n",
       "      <th>105</th>\n",
       "      <td>핸디스틱청소기</td>\n",
       "      <td>샤오미</td>\n",
       "      <td>SHUNZAO Z11 MAX</td>\n",
       "      <td>179050</td>\n",
       "      <td>60.0</td>\n",
       "      <td>260.0</td>\n",
       "    </tr>\n",
       "    <tr>\n",
       "      <th>114</th>\n",
       "      <td>핸디스틱청소기</td>\n",
       "      <td>델로라</td>\n",
       "      <td>V11 파워 300W</td>\n",
       "      <td>81890</td>\n",
       "      <td>70.0</td>\n",
       "      <td>220.0</td>\n",
       "    </tr>\n",
       "    <tr>\n",
       "      <th>124</th>\n",
       "      <td>핸디스틱청소기</td>\n",
       "      <td>샤오미</td>\n",
       "      <td>COCLEAN V30</td>\n",
       "      <td>129912</td>\n",
       "      <td>60.0</td>\n",
       "      <td>250.0</td>\n",
       "    </tr>\n",
       "    <tr>\n",
       "      <th>129</th>\n",
       "      <td>핸디스틱청소기</td>\n",
       "      <td>샤오미</td>\n",
       "      <td>로이드미 X30 프로</td>\n",
       "      <td>278060</td>\n",
       "      <td>70.0</td>\n",
       "      <td>265.0</td>\n",
       "    </tr>\n",
       "    <tr>\n",
       "      <th>132</th>\n",
       "      <td>핸디스틱청소기</td>\n",
       "      <td>샤오미</td>\n",
       "      <td>G10</td>\n",
       "      <td>241930</td>\n",
       "      <td>65.0</td>\n",
       "      <td>250.0</td>\n",
       "    </tr>\n",
       "    <tr>\n",
       "      <th>147</th>\n",
       "      <td>핸디스틱청소기</td>\n",
       "      <td>샤오미</td>\n",
       "      <td>TROUVER POWER 12</td>\n",
       "      <td>168370</td>\n",
       "      <td>60.0</td>\n",
       "      <td>220.0</td>\n",
       "    </tr>\n",
       "    <tr>\n",
       "      <th>178</th>\n",
       "      <td>핸디스틱청소기</td>\n",
       "      <td>샤오미</td>\n",
       "      <td>지미 JV85 프로</td>\n",
       "      <td>138220</td>\n",
       "      <td>70.0</td>\n",
       "      <td>250.0</td>\n",
       "    </tr>\n",
       "    <tr>\n",
       "      <th>206</th>\n",
       "      <td>핸디스틱청소기</td>\n",
       "      <td>아이닉</td>\n",
       "      <td>i20</td>\n",
       "      <td>199000</td>\n",
       "      <td>50.0</td>\n",
       "      <td>250.0</td>\n",
       "    </tr>\n",
       "    <tr>\n",
       "      <th>208</th>\n",
       "      <td>핸디스틱청소기</td>\n",
       "      <td>보아르</td>\n",
       "      <td>포스 B25 Pro</td>\n",
       "      <td>198000</td>\n",
       "      <td>60.0</td>\n",
       "      <td>300.0</td>\n",
       "    </tr>\n",
       "    <tr>\n",
       "      <th>210</th>\n",
       "      <td>핸디스틱청소기</td>\n",
       "      <td>로헨</td>\n",
       "      <td>L30</td>\n",
       "      <td>169000</td>\n",
       "      <td>50.0</td>\n",
       "      <td>350.0</td>\n",
       "    </tr>\n",
       "  </tbody>\n",
       "</table>\n",
       "</div>"
      ],
      "text/plain": [
       "        카테고리    회사명               제품명      가격  사용시간    흡입력\n",
       "7    핸디스틱청소기    샤오미           드리미 V11  183710  90.0  250.0\n",
       "16   핸디스틱청소기    아이닉           NEW i20  169000  50.0  300.0\n",
       "21   핸디스틱청소기    아이닉          i30 아이타워  269000  50.0  350.0\n",
       "29   핸디스틱청소기    샤오미           드리미 V10  156860  60.0  220.0\n",
       "44   핸디스틱청소기    샤오미           드리미 T20  305970  70.0  250.0\n",
       "76   핸디스틱청소기    샤오미           드리미 V12  375967  90.0  270.0\n",
       "93   핸디스틱청소기     행커              400W  170100  60.0  390.0\n",
       "102  핸디스틱청소기  DIBEA            올인원 UV  169000  50.0  250.0\n",
       "105  핸디스틱청소기    샤오미   SHUNZAO Z11 MAX  179050  60.0  260.0\n",
       "114  핸디스틱청소기    델로라       V11 파워 300W   81890  70.0  220.0\n",
       "124  핸디스틱청소기    샤오미       COCLEAN V30  129912  60.0  250.0\n",
       "129  핸디스틱청소기    샤오미       로이드미 X30 프로  278060  70.0  265.0\n",
       "132  핸디스틱청소기    샤오미               G10  241930  65.0  250.0\n",
       "147  핸디스틱청소기    샤오미  TROUVER POWER 12  168370  60.0  220.0\n",
       "178  핸디스틱청소기    샤오미        지미 JV85 프로  138220  70.0  250.0\n",
       "206  핸디스틱청소기    아이닉               i20  199000  50.0  250.0\n",
       "208  핸디스틱청소기    보아르        포스 B25 Pro  198000  60.0  300.0\n",
       "210  핸디스틱청소기     로헨               L30  169000  50.0  350.0"
      ]
     },
     "execution_count": 52,
     "metadata": {},
     "output_type": "execute_result"
    }
   ],
   "source": [
    "# 가성비 좋은 제품 선택\n",
    "# 가격이 평균 이하이고, 사용시간이 평균보다 높음\n",
    "condition_data = pd_data_final[(pd_data_final['가격'] <= price_mean_value)\n",
    "                                & (pd_data_final['흡입력'] >= suction_mean_value)\n",
    "                                & (pd_data_final['사용시간'] >= use_time_mean_value)]\n",
    "condition_data"
   ]
  },
  {
   "cell_type": "markdown",
   "id": "7c9c0d30",
   "metadata": {},
   "source": [
    "# 7. 시각화"
   ]
  },
  {
   "cell_type": "code",
   "execution_count": 55,
   "id": "1a388e79",
   "metadata": {},
   "outputs": [],
   "source": [
    "import numpy as np\n",
    "import matplotlib as mpl\n",
    "mpl.rcParams['axes.unicode_minus'] = False\n",
    "plt.rc('font', family='Malgun Gothic') "
   ]
  },
  {
   "cell_type": "code",
   "execution_count": 45,
   "id": "b46a1698",
   "metadata": {},
   "outputs": [
    {
     "data": {
      "text/plain": [
       "147"
      ]
     },
     "execution_count": 45,
     "metadata": {},
     "output_type": "execute_result"
    }
   ],
   "source": [
    "chart_data = pd_data_final.dropna(axis = 0)\n",
    "len(chart_data)"
   ]
  },
  {
   "cell_type": "code",
   "execution_count": 49,
   "id": "af02ada6",
   "metadata": {},
   "outputs": [],
   "source": [
    "# 흡입력, 사용시간의 최대값과 최소값 정리\n",
    "suction_max_value = chart_data['흡입력'].max()\n",
    "suction_min_value = chart_data['흡입력'].min()\n",
    "use_time_max_value = chart_data['사용시간'].max()\n",
    "use_time_min_value = chart_data['사용시간'].min()"
   ]
  },
  {
   "cell_type": "code",
   "execution_count": 56,
   "id": "6a094bac",
   "metadata": {
    "scrolled": false
   },
   "outputs": [
    {
     "data": {
      "text/plain": [
       "<function matplotlib.pyplot.show(close=None, block=None)>"
      ]
     },
     "execution_count": 56,
     "metadata": {},
     "output_type": "execute_result"
    },
    {
     "data": {
      "image/png": "[encoded data removed]",
      "text/plain": [
       "<Figure size 1200x800 with 1 Axes>"
      ]
     },
     "metadata": {},
     "output_type": "display_data"
    }
   ],
   "source": [
    "# 청소기 성능 시각화\n",
    "plt.figure(figsize=(12,8))\n",
    "plt.title('핸디스틱청소기 성능표')\n",
    "sns.scatterplot(x='흡입력', y='사용시간', size='가격', hue = chart_data['회사명'],\n",
    "               data=chart_data, sizes=(10, 1000), legend=False)\n",
    "plt.plot([0,suction_max_value], [use_time_mean_value, use_time_mean_value],\n",
    "        'r-', lw=1)\n",
    "plt.plot([suction_mean_value, suction_mean_value], [0, use_time_max_value],\n",
    "        'r-', lw=1)\n",
    "\n",
    "plt.show"
   ]
  },
  {
   "cell_type": "markdown",
   "id": "e45b7174",
   "metadata": {},
   "source": [
    "# 8. 인기 데이터 시각화"
   ]
  },
  {
   "cell_type": "code",
   "execution_count": 57,
   "id": "3adacf88",
   "metadata": {
    "scrolled": false
   },
   "outputs": [
    {
     "data": {
      "text/plain": [
       "<function matplotlib.pyplot.show(close=None, block=None)>"
      ]
     },
     "execution_count": 57,
     "metadata": {},
     "output_type": "execute_result"
    },
    {
     "data": {
      "image/png": "[encoded data removed]",
      "text/plain": [
       "<Figure size 1200x800 with 1 Axes>"
      ]
     },
     "metadata": {},
     "output_type": "display_data"
    }
   ],
   "source": [
    "# 청소기 성능 시각화\n",
    "plt.figure(figsize=(12,8))\n",
    "plt.title('핸디스틱청소기 성능표')\n",
    "sns.scatterplot(x='흡입력', y='사용시간', size='가격', hue = chart_data['회사명'],\n",
    "               data=chart_data, sizes=(10, 1000), legend=False)\n",
    "plt.plot([0,suction_max_value], [use_time_mean_value, use_time_mean_value],\n",
    "        'r-', lw=1)\n",
    "plt.plot([suction_mean_value, suction_mean_value], [0, use_time_max_value],\n",
    "        'r-', lw=1)\n",
    "\n",
    "for index, row in condition_data.iterrows():\n",
    "    x = row['흡입력']\n",
    "    y = row['사용시간']\n",
    "    s = row['제품명'].split(' ')[0]\n",
    "    plt.text(x, y, s, size=10)\n",
    "\n",
    "plt.show"
   ]
  },
  {
   "cell_type": "code",
   "execution_count": null,
   "id": "15e52c87",
   "metadata": {},
   "outputs": [],
   "source": []
  }
 ],
 "metadata": {
  "kernelspec": {
   "display_name": "Python 3 (ipykernel)",
   "language": "python",
   "name": "python3"
  },
  "language_info": {
   "codemirror_mode": {
    "name": "ipython",
    "version": 3
   },
   "file_extension": ".py",
   "mimetype": "text/x-python",
   "name": "python",
   "nbconvert_exporter": "python",
   "pygments_lexer": "ipython3",
   "version": "3.8.7"
  }
 },
 "nbformat": 4,
 "nbformat_minor": 5
}
