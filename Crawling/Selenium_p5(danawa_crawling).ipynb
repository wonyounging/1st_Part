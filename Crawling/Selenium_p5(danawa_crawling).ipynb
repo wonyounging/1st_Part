{
 "cells": [
  {
   "cell_type": "markdown",
   "id": "09b96605",
   "metadata": {},
   "source": [
    "# 다나와 크롤링"
   ]
  },
  {
   "cell_type": "code",
   "execution_count": 1,
   "id": "21a738e6",
   "metadata": {},
   "outputs": [],
   "source": [
    "from selenium import webdriver\n",
    "from selenium.webdriver.common.keys import Keys\n",
    "from selenium.webdriver.common.by import By\n",
    "from bs4 import BeautifulSoup\n",
    "import time\n",
    "import pandas as pd"
   ]
  },
  {
   "cell_type": "code",
   "execution_count": 113,
   "id": "20acf129",
   "metadata": {},
   "outputs": [],
   "source": [
    "base_url = 'https://www.danawa.com/'\n",
    "driver = webdriver.Chrome()\n",
    "driver.get(base_url)\n",
    "search_box = driver.find_element(By.XPATH, '//*[@id=\"AKCSearch\"]')\n",
    "search_box.send_keys('무선청소기')\n",
    "search_box.send_keys(Keys.ENTER)\n",
    "time.sleep(2)"
   ]
  },
  {
   "cell_type": "code",
   "execution_count": 114,
   "id": "20fd6f3b",
   "metadata": {},
   "outputs": [],
   "source": [
    "html = driver.page_source\n",
    "soup = BeautifulSoup(html, 'html.parser')"
   ]
  },
  {
   "cell_type": "code",
   "execution_count": 115,
   "id": "6da36e53",
   "metadata": {},
   "outputs": [
    {
     "name": "stdout",
     "output_type": "stream",
     "text": [
      "43\n"
     ]
    }
   ],
   "source": [
    "prod_items = soup.select('li.prod_item')\n",
    "print(len(prod_items))"
   ]
  },
  {
   "cell_type": "code",
   "execution_count": 116,
   "id": "55846c87",
   "metadata": {},
   "outputs": [
    {
     "data": {
      "text/plain": [
       "'베이스어스 차량용 청소기 A3 (해외구매)'"
      ]
     },
     "execution_count": 116,
     "metadata": {},
     "output_type": "execute_result"
    }
   ],
   "source": [
    "# 상품명\n",
    "name = prod_items[0].select('p.prod_name>a')[0].get_text().strip()\n",
    "name"
   ]
  },
  {
   "cell_type": "code",
   "execution_count": 117,
   "id": "7855aa52",
   "metadata": {},
   "outputs": [
    {
     "data": {
      "text/plain": [
       "'차량용청소기 / 무선 / 흡입력: 15,000Pa / 최대출력: 135W / 헤파필터 / 추가노즐: 틈새, 솔브러쉬 / LED라이트 / 사용시간: 45분 / 배터리 잔량표시 / 소음: 75dB / 충전방식: USB C타입 / 충전시간: 3~5시간 / 색상: 블랙, 실버 / 크기: 296x56.5mm'"
      ]
     },
     "execution_count": 117,
     "metadata": {},
     "output_type": "execute_result"
    }
   ],
   "source": [
    "# 스펙 목록\n",
    "spec = prod_items[0].select('.spec_list')[0].get_text().strip().replace('\\n','').replace('\\t','')\n",
    "spec"
   ]
  },
  {
   "cell_type": "code",
   "execution_count": 118,
   "id": "82d526b4",
   "metadata": {},
   "outputs": [
    {
     "data": {
      "text/plain": [
       "'47510'"
      ]
     },
     "execution_count": 118,
     "metadata": {},
     "output_type": "execute_result"
    }
   ],
   "source": [
    "# 가격\n",
    "price = prod_items[0].select('li.rank_one>p.price_sect>a>strong')[0].text.strip().replace(',', '')\n",
    "price"
   ]
  },
  {
   "cell_type": "code",
   "execution_count": 119,
   "id": "b2875059",
   "metadata": {},
   "outputs": [
    {
     "name": "stdout",
     "output_type": "stream",
     "text": [
      "40\n"
     ]
    }
   ],
   "source": [
    "# 1페이지에 대한 상품정보 추출\n",
    "prod_data = []\n",
    "for prod_item in prod_items:\n",
    "    if 'ad_nvista' in prod_item['class']:\n",
    "        continue\n",
    "    try:\n",
    "        name = prod_item.select('p.prod_name>a')[0].get_text().strip()\n",
    "        spec = prod_item.select('.spec_list')[0].get_text().strip().replace('\\n','').replace('\\t','')\n",
    "        price = prod_item.select('li.rank_one>p.price_sect>a>strong')[0].text.strip()\n",
    "        prod_data.append([name, spec, price])\n",
    "    except:\n",
    "        pass\n",
    "print(len(prod_data))"
   ]
  },
  {
   "cell_type": "code",
   "execution_count": 142,
   "id": "2e357b94",
   "metadata": {},
   "outputs": [],
   "source": [
    "# 상품 정보 태그에서 원하는 정보를 추출하는 함수\n",
    "def get_prod_items(prod_items):\n",
    "    prod_data = []\n",
    "    for prod_item in prod_items:\n",
    "        if 'ad_nvista' in prod_item['class']:\n",
    "            continue\n",
    "        try:\n",
    "            name = prod_item.select('p.prod_name>a')[0].get_text().strip()\n",
    "            spec = prod_item.select('.spec_list')[0].get_text().strip().replace('\\n','').replace('\\t','')\n",
    "            price = int(prod_item.select('li.rank_one>p.price_sect>a>strong')[0].text.strip().replace(',', ''))\n",
    "            prod_data.append([name, spec, price])\n",
    "        except:\n",
    "            pass\n",
    "    return prod_data"
   ]
  },
  {
   "cell_type": "code",
   "execution_count": 143,
   "id": "5b690d9b",
   "metadata": {},
   "outputs": [
    {
     "data": {
      "text/plain": [
       "[['LG전자 오브제컬렉션 코드제로 A9S AU9982GD + MO971GA',\n",
       "  '핸디/스틱청소기+로봇청소기세트 / 무선형 / 흡입+물걸레겸용 / 흡입력: 220W / [구성] 와이드바닥 / 스팀물걸레 / 침구 / 솔형 / 틈새 / 올인원타워 / [배터리] 분리형 (2개) / 충전시간: 4시간 / 사용시간: 1시간 / [성능] 스마트인버터모터 / 헤파필터 / 5단계여과 / [기능] IoT기능 / 디스플레이표시창 / 자동물공급 / LED라이트 / 자동먼지비움 / [부가] 색상: 카밍그린 / 무게: 2.7kg / 크기(가로x세로x깊이): 300x1120x260mm / ※ 상품 옵션 확인 후 구매',\n",
       "  1768690],\n",
       " ['LG전자 코드제로 A9S AT9300IA',\n",
       "  '핸디스틱청소기 / 무선형 / 흡입전용 / 흡입력: 200W / [구성] 바닥 / 침구 / 솔형 / 틈새 / 올인원타워 / [배터리] 분리형 (1개) / 충전시간: 4시간 / 사용시간: 1시간 / [성능] 스마트인버터모터 / 분리형배기필터 / 헤파필터 / 5단계여과 / [기능] 물걸레(별도구매) / IoT기능 / 자동물공급 / 배터리잔량표시 / 자동먼지비움 / [부가] 색상: 아이언그레이+딥그레이 / 무게: 2.6kg / 크기(가로x세로x깊이): 250x1120x260mm',\n",
       "  699390],\n",
       " ['보만 VC7210',\n",
       "  '핸디스틱청소기 / 무선형 / 흡입전용 / [구성] 바닥 / 틈새 / 연장툴 / [배터리] 충전시간: 10시간 / 사용시간: 10~15분 / 헤파필터 / [부가] 색상: 블랙+오렌지 / 무게: 0.8kg / 크기(가로x세로x깊이): 145x440x115mm',\n",
       "  49790],\n",
       " ['샤오미 미지아 K10 프로',\n",
       "  '핸디스틱청소기 / 무선형 / 흡입전용 / 흡입력: 150AW / [구성] 바닥 / 물걸레 / 침구 / 솔형 / 틈새 / 연장툴 / 거치대 / [배터리] 분리형 (1개) / 충전시간: 4시간 / 사용시간: 1시간5분 / [성능] BLDC모터 / 헤파필터 / 5단계여과 / [기능] 디스플레이표시창 / 먼지감지센서 / [부가] 먼지통용량: 0.5L / 물통용량: 0.4L',\n",
       "  348990],\n",
       " ['한샘 스톰건 V12 VC-R201',\n",
       "  '핸디스틱청소기 / 무선형 / 흡입전용 / 흡입력: 20000Pa / [구성] 바닥 / 침구 / 솔형 / 틈새 / 연장툴 / 거치대 / [배터리] 충전시간: 4~5시간 / 사용시간: 35분 / [성능] BLDC모터 / 3단계여과 / LED라이트 / [부가] 먼지통용량: 0.6L / 색상: 블루 / 무게: 2.5kg / 크기(가로x세로x깊이): 210x1040x104mm',\n",
       "  107000],\n",
       " ['카렉스 파워스톰 텀블러 차량용 무선청소기 S8A',\n",
       "  '차량용청소기 / 무선 / 흡입력: 5,500Pa / 헤파필터 / 추가노즐: 틈새, 솔브러쉬 / 충전시간: 3시간 / 크기: 270x55mm / 배터리 용량: 2,600mAh',\n",
       "  28300],\n",
       " ['블랙앤데커 리비바 REVHV8C',\n",
       "  '핸디청소기 / 무선형 / 흡입전용 / [구성] 솔형 / 틈새 / [배터리] 내장형 / 충전시간: 6시간 / 사용시간: 22분 / [부가] 먼지통용량: 0.125L',\n",
       "  79000],\n",
       " ['밀라디 MLD-VC2022',\n",
       "  '핸디청소기 / 무선형 / 흡입전용 / 흡입력: 13000Pa / [구성] 바닥 / 솔형 / 틈새 / 거치대 / [배터리] 충전시간: 5시간 / 사용시간: 28분 / [성능] BLDC모터 / 헤파필터 / 2단계여과 / [부가] 먼지통용량: 0.09L / 무게: 0.52kg',\n",
       "  77680],\n",
       " ['에어메이드 THE 500+ AMC-4500',\n",
       "  '핸디스틱청소기 / 무선형 / 흡입전용 / [구성] 바닥 / 침구 / 솔형 / 더스팅 / 틈새 / 연장툴 / 업탑어댑터 / 거치대 / [배터리] 충전시간: 4시간30분 / 사용시간: 1시간 / [성능] BLDC모터 / 헤파필터 / 4단계여과 / [기능] 프리볼트 / [부가] 색상: 화이트 / 무게: 2.3kg / 크기(가로x세로x깊이): 256x1243x133mm',\n",
       "  249000],\n",
       " ['일렉트로룩스 얼티밋홈 700 EFS71423',\n",
       "  '핸디스틱청소기 / 무선형 / 흡입+물걸레겸용 / [구성] 바닥 / 물걸레 / 솔형 / 틈새 / 긴틈새 / 연장툴 / 거치대 / [배터리] 내장형 / 충전시간: 4시간30분 / 사용시간: 53분 / [성능] 듀얼헤파필터 / 5단계여과 / [기능] 셀프스탠딩 / LED라이트 / [부가] 먼지통용량: 0.3L / 색상: 다크그레이 / 무게: 2.97kg / 크기(가로x세로x깊이): 256x1097x155mm',\n",
       "  569860],\n",
       " ['오토반 썬더 2in1 차량용 무선 청소기 AW-Z9735',\n",
       "  '차량용청소기 / 무선 / 흡입력: 15,000Pa / 최대출력: 80W / 추가노즐: 틈새 / 사용시간: ~40분 / 충전시간: ~4.5시간 / 무게: 530g / 색상: 화이트, 블랙',\n",
       "  85400],\n",
       " ['보랄 큐텐 BR-Q390RV',\n",
       "  '핸디스틱청소기 / 무선형 / 흡입전용 / [구성] 바닥 / 솔형 / 틈새 / 연장툴 / [배터리] 사용시간: 30분 / [성능] 헤파필터 / 2단계여과 / [기능] 셀프스탠딩 / LED라이트 / 프리볼트 / [부가] 색상: 블랙, 화이트 / 크기(가로x세로x깊이): 125x510x110mm',\n",
       "  62800],\n",
       " ['블랙앤데커 PV1420C',\n",
       "  '핸디청소기 / 무선형 / 흡입전용 / [구성] 거치대 / [배터리] 충전시간: 4시간 / 사용시간: 11분 / [기능] 프리볼트 / [부가] 색상: 샴페인 / 무게: 1.33kg / 피벗노즐 / 크기(가로x세로x깊이): 270x170x140mm',\n",
       "  76000],\n",
       " ['신일전자 SVC-DC2200SK',\n",
       "  '핸디스틱청소기 / 무선형 / 흡입전용 / [구성] 바닥 / 솔형 / 틈새 / 연장툴 / [배터리] 충전시간: 4~5시간 / 사용시간: 35분 / 헤파필터 / [기능] 프리볼트 / [부가] 먼지통용량: 0.5L / 무게: 1.5kg / 크기(가로x세로x깊이): 230x1040x210mm',\n",
       "  125400],\n",
       " ['샤오미 드리미 H12',\n",
       "  '물걸레청소기 / 롤러식 / 물걸레+진공 / 무선형 / [배터리] 충전시간: 5시간 / 사용시간: 30분 / [기능] 흡입력: 16000Pa / 셀프스탠딩 / 배터리잔량표시 / 걸레자동세척 / 물통용량: 정수: 0.5L, 오수: 0.9L / 무게: 4.75kg / 크기(가로x세로x깊이): 290x1100x230mm',\n",
       "  499000],\n",
       " ['코코민트 트윈파워 OP-030',\n",
       "  '핸디스틱청소기 / 무선형 / 흡입전용 / 흡입력: 200W / 흡입력: 23000Pa / [구성] 바닥 / 솔형 / 틈새 / 거치대 / [배터리] 분리형 (1개) / 충전시간: 4시간 / 사용시간: 40분 / [성능] BLDC모터 / 헤파필터 / 4단계여과 / [기능] LED라이트 / 배터리잔량표시 / [부가] 무게: 1kg / 크기(가로x세로x깊이): 200x1150x120mm',\n",
       "  127980],\n",
       " ['자이로콥 GC-510WT',\n",
       "  '물걸레청소기 / 회전식 / 물걸레전용 / 무선형 / [배터리] 리튬이온 / 충전시간: 4시간30분 / 사용시간: 40분 / [기능] DC모터 / 물분사 / LED라이트 / 각도조절 / 셀프스탠딩 / [부가] 물통용량: 0.23L / 색상: 화이트 / 무게: 2.5kg / 크기(가로x세로x깊이): 370x1200x180mm',\n",
       "  103990],\n",
       " ['리빙조이 차량용 무선청소기 H1 PLUS',\n",
       "  '차량용청소기 / 무선 / 흡입력: 13,000Pa / 최대출력: 120W / 2중필터 / 헤파필터 / 스테인리스 필터 / 추가노즐: 틈새, 솔브러쉬 / 싸이클론 / 사용시간: 30분 / 충전시간: 4~5시간 / 색상: 블랙, 화이트 / 크기: 410x70mm / 무게: 550g',\n",
       "  97000],\n",
       " ['베이스어스 차량용 무선 진공 청소기 A2 Pro (해외구매)',\n",
       "  '차량용청소기 / 무선 / 흡입력: 6,000Pa / 최대출력: 80W / 색상: 블랙, 화이트, 블루 / 120ml 먼지통 / 무게: 약 508g',\n",
       "  39970],\n",
       " ['일렉트로룩스 에르고라피도 ZB3311',\n",
       "  '핸디스틱청소기 / 무선형 / 흡입전용 / [구성] 바닥 / 틈새 / 거치대 / [배터리] 내장형 / 충전시간: 4시간 / 사용시간: 48분 / [성능] 4단계여과 / [기능] 브러쉬자동청소 / 셀프스탠딩 / LED라이트 / 배터리잔량표시 / [부가] 먼지통용량: 0.42L / 색상: 타이탄블루 / 무게: 3.01kg / 크기(가로x세로x깊이): 303x690x162mm',\n",
       "  238990],\n",
       " ['기펠 듀얼 글라이드 360 P11',\n",
       "  '핸디스틱청소기 / 무선형 / 흡입전용 / 흡입력: 23000Pa / [구성] 바닥 / 솔형 / 틈새 / 거치대 / [배터리] 분리형 (1개) / 충전시간: 4시간 / 사용시간: 30분 / [성능] BLDC모터 / 헤파필터 / 3단계여과 / [부가] 무게: 2.5kg / 크기(가로x세로x깊이): 250x1045x240mm',\n",
       "  427800],\n",
       " ['케이디와이 휴대용 미니청소기 KPV-3525',\n",
       "  '차량용청소기 / 필터 / 무선 / 흡입력: 2,700Pa / 최대출력: 45W / 헤파필터 / 추가노즐: 틈새, 솔브러쉬, 연장호스 / 사용시간: 25분 / 충전방식: USB타입 / 충전시간: 3.5시간 / 크기: 83x83x293mm / 무게: 660g',\n",
       "  27370],\n",
       " ['다이슨 V15 디텍트 앱솔루트 엑스트라',\n",
       "  '핸디스틱청소기 / 무선형 / 흡입전용 / 흡입력: 240AW / [구성] 레이저슬림플러피 / 하이토크 / 헤어스크류 / 솔형 / 더스팅 / 스터번더트 / 틈새 / 업탑어댑터 / 거치대 / 도킹스테이션 / [배터리] 분리형 (1개) / 충전시간: 4시간30분 / 사용시간: 1시간 / [성능] 헤파필터 / [기능] 디스플레이표시창 / 먼지감지센서 / [부가] 먼지통용량: 0.54L / 색상: 옐로우/아이언/니켈 / 무게: 3kg / 크기(가로x세로x깊이): 250x1086x250mm',\n",
       "  1190000],\n",
       " ['스위스밀리터리 에어슬림 SMA-BV2200',\n",
       "  '핸디스틱청소기 / 무선형 / 흡입전용 / 흡입력: 17000Pa / [구성] 바닥 / 침구 / 틈새 / 연장툴 / 거치대 / [배터리] 충전시간: 5시간 / 사용시간: 30분 / [성능] BLDC모터 / 헤파필터 / 3단계여과 / [기능] LED라이트 / 배터리잔량표시 / [부가] 먼지통용량: 0.4L / 에어컴프레셔 / 크기(가로x세로x깊이): 80x1040x190mm',\n",
       "  195000],\n",
       " ['아이닉 i20',\n",
       "  '핸디스틱청소기 / 무선형 / 흡입전용 / 흡입력: 25000Pa / [구성] 바닥 / [배터리] 분리형 (1개) / 충전시간: 5시간 / 사용시간: 50분 / [성능] 헤파필터 / [부가] 먼지통용량: 0.5L / 색상: 블랙 / 무게: 2.5kg / 크기(가로x세로x깊이): 241x1144x211mm',\n",
       "  199000],\n",
       " ['쿠쿠전자 파워클론 CVC-AE1420',\n",
       "  '핸디스틱청소기 / 무선형 / 흡입전용 / 흡입력: 140AW / [구성] 바닥 / 침구 / 틈새 / 거치대 / [배터리] 분리형 (1개) / 사용시간: 35분 / [성능] BLDC모터 / 5단계여과 / [기능] 디스플레이표시창 / 먼지감지센서 / [부가] 색상: 노블화이트 / 무게: 3.1kg / 크기(가로x세로x깊이): 240x1168x260mm',\n",
       "  240870],\n",
       " ['보아르 포스 B25 Pro',\n",
       "  '핸디스틱청소기 / 무선형 / 흡입+물걸레겸용 / 흡입력: 30000Pa / [구성] 바닥 / 물걸레 / 솔형 / 틈새 / 연장툴 / 거치대 / [배터리] 분리형 (1개) / 충전시간: 5시간 / 사용시간: 1시간 / [성능] BLDC모터 / 헤파필터 / 3단계여과 / [기능] 디스플레이표시창 / 먼지감지센서 / LED라이트 / 배터리잔량표시 / [부가] 먼지통용량: 0.8L / 색상: 화이트 / 무게: 1.43kg / 크기(가로x세로x깊이): 250x1080x106mm',\n",
       "  198000],\n",
       " ['디티 핸디형 미니 무선청소기 DT-CV200',\n",
       "  '차량용청소기 / 무선 / 흡입력: 5,500Pa / 최대출력: 120W / 추가노즐: 틈새, 솔브러쉬 / LED라이트 / 충전방식: USB C타입 / 배터리용량: 2,000mAh / 크기: 164x147x55mm / 무게: 350g',\n",
       "  22850],\n",
       " ['일렉트로룩스 ZB3302AK',\n",
       "  '핸디스틱청소기 / 무선형 / 흡입전용 / [구성] 바닥 / 침구 / 틈새 / 긴틈새 / 패브릭 / 연장툴 / 거치대 / [배터리] 내장형 / 충전시간: 4시간 / 사용시간: 42분 / [성능] 4단계여과 / [기능] 브러쉬자동청소 / 셀프스탠딩 / LED라이트 / 배터리잔량표시 / [부가] 먼지통용량: 0.42L / 색상: 스페이스틸 / 무게: 3.22kg / 크기(가로x세로x깊이): 303x690x162mm',\n",
       "  189000],\n",
       " ['샤오미 CLEANFLY 차량용 무선 청소기 H1 (해외구매)',\n",
       "  '차량용청소기 / 무선 / 흡입력: 16,800Pa / 최대출력: 120W / 2중필터 / 사용시간: 30분 / 충전방식: USB C타입 / 색상: 블랙, 화이트 / 크기: 369x72mm / 무게: 560g',\n",
       "  50650],\n",
       " ['네오비즈 미라스 FX-178VC',\n",
       "  '핸디청소기 / 무선형 / 흡입전용 / [구성] 거치대 / [배터리] [부가] 먼지통용량: 0.35L / 색상: 화이트 / 무게: 0.8kg / 크기(가로x세로x깊이): 77x410x100mm',\n",
       "  29610],\n",
       " ['시프이컴 핸디형 차량용 무선 청소기 DK-X112',\n",
       "  '차량용청소기 / 무선 / 흡입력: 5200Pa / 추가노즐: 솔브러쉬, 연장호스 / 사용시간: 22분 / 크기: 277x72mm / 무게: 560g',\n",
       "  50890],\n",
       " ['ZHENHUI 미니 진공 차량용 무선 청소기 (해외구매)',\n",
       "  '차량용청소기 / 무선 / 흡입력: 6,000Pa / 최대출력: 120W / 헤파필터 / 추가노즐: 틈새, 솔브러쉬, 연장호스 / 사용시간: 20~30분 / 색상: 퍼플, 옐로우 / 크기: 350x80x120mm',\n",
       "  17720],\n",
       " ['신일전자 SDC-W8000NK',\n",
       "  '물걸레청소기 / 회전식 / 물걸레전용 / 무선형 / [배터리] 리튬이온 / 충전시간: 3시간 / 사용시간: 30분 / [기능] LED라이트 / 각도조절 / 셀프스탠딩 / 배터리잔량표시 / [부가] 색상: 화이트 / 무게: 3kg / 패드: 극세사(벨크로형) / 크기(가로x세로x깊이): 410x1230x215mm',\n",
       "  163000],\n",
       " ['로헨 L30',\n",
       "  '핸디스틱청소기 / 무선형 / 흡입전용 / 흡입력: 35000Pa / [구성] 바닥 / 침구 / 솔형 / 틈새 / 거치대 / [배터리] 분리형 (1개) / 충전시간: 5시간 / 사용시간: 50분 / [성능] 듀얼헤파필터 / 5단계여과 / 물걸레(별도구매) / [부가] 먼지통용량: 0.5L / 무게: 2.5kg / 크기(가로x세로x깊이): 241x1144x211mm',\n",
       "  169000],\n",
       " ['유피 무선 차량 청소기 H20',\n",
       "  '차량용청소기 / 무선 / 흡입력: 14,000Pa / 추가노즐: 틈새, 솔브러쉬 / 사용시간: ~30분 / 배터리용량: 2,000mAh / 무게: 590g / 색상: 블랙, 화이트',\n",
       "  125390],\n",
       " ['삼성전자 비스포크 제트 VS20A957E2',\n",
       "  '핸디스틱청소기 / 무선형 / 흡입+물걸레겸용 / 흡입력: 210W / [구성] 바닥 / 물걸레 / 침구 / 솔형 / 틈새 / 일체형청정스테이션 / [배터리] 분리형 (2개) / 충전시간: 3시간30분 / 사용시간: 1시간 / [성능] 디지털인버터모터 / 5단계여과 / [기능] 디스플레이표시창 / 자동물공급 / 배터리잔량표시 / 자동먼지비움 / [부가] 먼지통용량: 0.5L / 색상: 미스티화이트 / 무게: 2.5kg / 크기(가로x세로x깊이): 250x930x202mm',\n",
       "  708990],\n",
       " ['삼성전자 제트 VS20T9253QD',\n",
       "  '핸디스틱청소기 / 무선형 / 흡입전용 / 흡입력: 200W / [구성] 바닥 / 솔형 / 틈새 / 연장툴 / 거치대 / [배터리] 분리형 (2개) / 충전시간: 3시간30분 / 사용시간: 1시간 / [성능] 인버터모터 / 헤파필터 / 5단계여과 / [기능] 디스플레이표시창 / 프리볼트 / [부가] 먼지통용량: 0.5L / 색상: 티탄+그레이 / 무게: 2.64kg / 크기(가로x세로x깊이): 250x1123x215mm',\n",
       "  417600],\n",
       " ['샤오미 미홀 H17 Pro',\n",
       "  '물걸레청소기 / 롤러식 / 물걸레+진공 / 무선형 / [배터리] 리튬이온 (분리형) / 충전시간: 3시간 / 사용시간: 30분 / [기능] 흡입력: 10000Pa / BLDC모터 / LED라이트 / 배터리잔량표시 / 걸레자동세척 / [부가] 물통용량: 0.8L / 무게: 4.8kg / 크기(가로x세로x깊이): 286x1100x256mm',\n",
       "  215100],\n",
       " ['LG전자 오브제컬렉션 코드제로 A9S AT9271',\n",
       "  '핸디스틱청소기 / 무선형 / 흡입+물걸레겸용 / 흡입력: 210W / [구성] 바닥 / 물걸레 / 솔형 / 틈새 / 올인원타워 / [배터리] 분리형 (1개) / 충전시간: 4시간 / 사용시간: 1시간 / [성능] 스마트인버터모터 / 분리형배기필터 / 헤파필터 / 5단계여과 / [기능] IoT기능 / 자동물공급 / 배터리잔량표시 / 자동먼지비움 / [부가] 색상: 카밍베이지 / 무게: 2.6kg / 크기(가로x세로x깊이): 250x1120x260mm',\n",
       "  875970]]"
      ]
     },
     "execution_count": 143,
     "metadata": {},
     "output_type": "execute_result"
    }
   ],
   "source": [
    "prod_data = get_prod_items(prod_items)\n",
    "prod_data"
   ]
  },
  {
   "cell_type": "markdown",
   "id": "de3c024c",
   "metadata": {},
   "source": [
    "# 여러페이지에 걸친 다나와 검색 페이지 크롤링"
   ]
  },
  {
   "cell_type": "code",
   "execution_count": 152,
   "id": "07aec26c",
   "metadata": {},
   "outputs": [
    {
     "name": "stdout",
     "output_type": "stream",
     "text": [
      "1페이지 끝\n",
      "2페이지 끝\n",
      "3페이지 끝\n",
      "4페이지 끝\n",
      "5페이지 끝\n",
      "6페이지 끝\n",
      "7페이지 끝\n",
      "8페이지 끝\n",
      "9페이지 끝\n",
      "10페이지 끝\n"
     ]
    }
   ],
   "source": [
    "base_url = 'https://www.danawa.com/'\n",
    "driver = webdriver.Chrome()\n",
    "driver.get(base_url)\n",
    "search_box = driver.find_element(By.XPATH, '//*[@id=\"AKCSearch\"]')\n",
    "search_box.send_keys('무선청소기')\n",
    "search_box.send_keys(Keys.ENTER)\n",
    "time.sleep(2)\n",
    "\n",
    "prod_data = []\n",
    "cnt = 0\n",
    "\n",
    "for i in range(1,11):\n",
    "    cnt += 1\n",
    "    next_p = driver.find_element(By.XPATH, f'//*[@id=\"paginationArea\"]/div/div/a[{i}]').click()\n",
    "    time.sleep(1)\n",
    "    html = driver.page_source\n",
    "    soup = BeautifulSoup(html, 'html.parser')\n",
    "    prod_items = soup.select('li.prod_item')\n",
    "    \n",
    "    for prod_item in prod_items:\n",
    "        if 'ad_nvista' in prod_item['class']:\n",
    "            continue\n",
    "        try:\n",
    "            name = prod_item.select('p.prod_name>a')[0].get_text().strip()\n",
    "            spec = prod_item.select('.spec_list')[0].get_text().strip().replace('\\n','').replace('\\t','')\n",
    "            price = int(prod_item.select('li.rank_one>p.price_sect>a>strong')[0].text.strip().replace(',', ''))\n",
    "            prod_data.append([name, spec, price])\n",
    "        except:\n",
    "            pass\n",
    "    \n",
    "    print(f'{cnt}페이지 끝')"
   ]
  },
  {
   "cell_type": "code",
   "execution_count": 153,
   "id": "e39538de",
   "metadata": {},
   "outputs": [
    {
     "data": {
      "text/plain": [
       "400"
      ]
     },
     "execution_count": 153,
     "metadata": {},
     "output_type": "execute_result"
    }
   ],
   "source": [
    "len(prod_data)"
   ]
  },
  {
   "cell_type": "code",
   "execution_count": 146,
   "id": "f2e1bd41",
   "metadata": {},
   "outputs": [],
   "source": [
    "def get_search_page_url(keyword, page):\n",
    "    return 'https://search.danawa.com/dsearch.php?query={}&volumeType=allvs&page={}&limit=40&sort=saveDESC&list=list&boost=true&addDelivery=N&mode=simple&recommendedSort=Y&defaultUICategoryCode=14237761&defaultPhysicsCategoryCode=1840%7C59152%7C59189%7C0&defaultVmTab=3014&defaultVaTab=969214&tab=main'.format(keyword, page)\n",
    "#     return f'https://search.danawa.com/dsearch.php?query={'검색어'}&volumeType=allvs&page={'페이지'}&limit=40&sort=saveDESC&list=list&boost=true&addDelivery=N&mode=simple&recommendedSort=Y&defaultUICategoryCode=14237761&defaultPhysicsCategoryCode=1840%7C59152%7C59189%7C0&defaultVmTab=3014&defaultVaTab=969214&tab=main'"
   ]
  },
  {
   "cell_type": "code",
   "execution_count": 147,
   "id": "3ee61827",
   "metadata": {},
   "outputs": [
    {
     "name": "stdout",
     "output_type": "stream",
     "text": [
      "https://search.danawa.com/dsearch.php?query=무선청소기&volumeType=allvs&page=10&limit=40&sort=saveDESC&list=list&boost=true&addDelivery=N&mode=simple&recommendedSort=Y&defaultUICategoryCode=14237761&defaultPhysicsCategoryCode=1840%7C59152%7C59189%7C0&defaultVmTab=3014&defaultVaTab=969214&tab=main\n"
     ]
    }
   ],
   "source": [
    "keyword = '무선청소기'\n",
    "page = 10\n",
    "url = get_search_page_url(keyword, page)\n",
    "print(url)"
   ]
  },
  {
   "cell_type": "code",
   "execution_count": 148,
   "id": "5478ee4e",
   "metadata": {},
   "outputs": [],
   "source": [
    "from tqdm.notebook import tqdm"
   ]
  },
  {
   "cell_type": "code",
   "execution_count": 149,
   "id": "b0d106fe",
   "metadata": {},
   "outputs": [
    {
     "data": {
      "application/vnd.jupyter.widget-view+json": {
       "model_id": "2b616ae02229460ab5b3eea4d1559028",
       "version_major": 2,
       "version_minor": 0
      },
      "text/plain": [
       "  0%|          | 0/10 [00:00<?, ?it/s]"
      ]
     },
     "metadata": {},
     "output_type": "display_data"
    }
   ],
   "source": [
    "# 전체 페이지 코드 정리\n",
    "keyword = '무선청소기'\n",
    "total_page = 10\n",
    "prod_data_total = []\n",
    "\n",
    "for page in tqdm(range(1, total_page+1)):\n",
    "    url = get_search_page_url(keyword, page)\n",
    "    driver.get(url)\n",
    "    time.sleep(3)\n",
    "    \n",
    "    html = driver.page_source\n",
    "    soup = BeautifulSoup(html, 'html.parser')\n",
    "    \n",
    "    # 상품정보 추출\n",
    "    prod_items = soup.select('li.prod_item')\n",
    "    prod_item_list = get_prod_items(prod_items)\n",
    "    \n",
    "    # 추출한 정보 저장\n",
    "    prod_data_total += prod_item_list\n",
    "    "
   ]
  },
  {
   "cell_type": "code",
   "execution_count": 150,
   "id": "708fded0",
   "metadata": {},
   "outputs": [
    {
     "data": {
      "text/html": [
       "<div>\n",
       "<style scoped>\n",
       "    .dataframe tbody tr th:only-of-type {\n",
       "        vertical-align: middle;\n",
       "    }\n",
       "\n",
       "    .dataframe tbody tr th {\n",
       "        vertical-align: top;\n",
       "    }\n",
       "\n",
       "    .dataframe thead th {\n",
       "        text-align: right;\n",
       "    }\n",
       "</style>\n",
       "<table border=\"1\" class=\"dataframe\">\n",
       "  <thead>\n",
       "    <tr style=\"text-align: right;\">\n",
       "      <th></th>\n",
       "      <th>상품명</th>\n",
       "      <th>스펙</th>\n",
       "      <th>가격</th>\n",
       "    </tr>\n",
       "  </thead>\n",
       "  <tbody>\n",
       "    <tr>\n",
       "      <th>0</th>\n",
       "      <td>베이스어스 차량용 청소기 A3 (해외구매)</td>\n",
       "      <td>차량용청소기 / 무선 / 흡입력: 15,000Pa / 최대출력: 135W / 헤파필...</td>\n",
       "      <td>47510</td>\n",
       "    </tr>\n",
       "    <tr>\n",
       "      <th>1</th>\n",
       "      <td>LG전자 오브제컬렉션 코드제로 A9S AU9982</td>\n",
       "      <td>핸디스틱청소기 / 무선형 / 흡입+물걸레겸용 / 흡입력: 220W / [구성] 와이...</td>\n",
       "      <td>1019160</td>\n",
       "    </tr>\n",
       "    <tr>\n",
       "      <th>2</th>\n",
       "      <td>샤오미 미지아 차량용 핸디 무선 청소기 (해외구매)</td>\n",
       "      <td>차량용청소기 / 무선 / 흡입력: 13,000Pa / 최대출력: 120W / 헤파필...</td>\n",
       "      <td>38990</td>\n",
       "    </tr>\n",
       "    <tr>\n",
       "      <th>3</th>\n",
       "      <td>LG전자 오브제컬렉션 코드제로 A9S AU9882</td>\n",
       "      <td>핸디스틱청소기 / 무선형 / 흡입+물걸레겸용 / 흡입력: 220W / [구성] 와이...</td>\n",
       "      <td>894400</td>\n",
       "    </tr>\n",
       "    <tr>\n",
       "      <th>4</th>\n",
       "      <td>삼성전자 비스포크 제트 VS20A956A3</td>\n",
       "      <td>핸디스틱청소기 / 무선형 / 흡입전용 / 흡입력: 210W / [구성] 바닥 / 솔...</td>\n",
       "      <td>492190</td>\n",
       "    </tr>\n",
       "    <tr>\n",
       "      <th>...</th>\n",
       "      <td>...</td>\n",
       "      <td>...</td>\n",
       "      <td>...</td>\n",
       "    </tr>\n",
       "    <tr>\n",
       "      <th>395</th>\n",
       "      <td>유피 무선 차량 청소기 H20</td>\n",
       "      <td>차량용청소기 / 무선 / 흡입력: 14,000Pa / 추가노즐: 틈새, 솔브러쉬 /...</td>\n",
       "      <td>125390</td>\n",
       "    </tr>\n",
       "    <tr>\n",
       "      <th>396</th>\n",
       "      <td>삼성전자 비스포크 제트 VS20A957E2</td>\n",
       "      <td>핸디스틱청소기 / 무선형 / 흡입+물걸레겸용 / 흡입력: 210W / [구성] 바닥...</td>\n",
       "      <td>708990</td>\n",
       "    </tr>\n",
       "    <tr>\n",
       "      <th>397</th>\n",
       "      <td>삼성전자 제트 VS20T9253QD</td>\n",
       "      <td>핸디스틱청소기 / 무선형 / 흡입전용 / 흡입력: 200W / [구성] 바닥 / 솔...</td>\n",
       "      <td>417600</td>\n",
       "    </tr>\n",
       "    <tr>\n",
       "      <th>398</th>\n",
       "      <td>샤오미 미홀 H17 Pro</td>\n",
       "      <td>물걸레청소기 / 롤러식 / 물걸레+진공 / 무선형 / [배터리] 리튬이온 (분리형)...</td>\n",
       "      <td>215100</td>\n",
       "    </tr>\n",
       "    <tr>\n",
       "      <th>399</th>\n",
       "      <td>LG전자 오브제컬렉션 코드제로 A9S AT9271</td>\n",
       "      <td>핸디스틱청소기 / 무선형 / 흡입+물걸레겸용 / 흡입력: 210W / [구성] 바닥...</td>\n",
       "      <td>875970</td>\n",
       "    </tr>\n",
       "  </tbody>\n",
       "</table>\n",
       "<p>400 rows × 3 columns</p>\n",
       "</div>"
      ],
      "text/plain": [
       "                              상품명  \\\n",
       "0         베이스어스 차량용 청소기 A3 (해외구매)   \n",
       "1     LG전자 오브제컬렉션 코드제로 A9S AU9982   \n",
       "2    샤오미 미지아 차량용 핸디 무선 청소기 (해외구매)   \n",
       "3     LG전자 오브제컬렉션 코드제로 A9S AU9882   \n",
       "4         삼성전자 비스포크 제트 VS20A956A3   \n",
       "..                            ...   \n",
       "395              유피 무선 차량 청소기 H20   \n",
       "396       삼성전자 비스포크 제트 VS20A957E2   \n",
       "397           삼성전자 제트 VS20T9253QD   \n",
       "398                샤오미 미홀 H17 Pro   \n",
       "399   LG전자 오브제컬렉션 코드제로 A9S AT9271   \n",
       "\n",
       "                                                    스펙       가격  \n",
       "0    차량용청소기 / 무선 / 흡입력: 15,000Pa / 최대출력: 135W / 헤파필...    47510  \n",
       "1    핸디스틱청소기 / 무선형 / 흡입+물걸레겸용 / 흡입력: 220W / [구성] 와이...  1019160  \n",
       "2    차량용청소기 / 무선 / 흡입력: 13,000Pa / 최대출력: 120W / 헤파필...    38990  \n",
       "3    핸디스틱청소기 / 무선형 / 흡입+물걸레겸용 / 흡입력: 220W / [구성] 와이...   894400  \n",
       "4    핸디스틱청소기 / 무선형 / 흡입전용 / 흡입력: 210W / [구성] 바닥 / 솔...   492190  \n",
       "..                                                 ...      ...  \n",
       "395  차량용청소기 / 무선 / 흡입력: 14,000Pa / 추가노즐: 틈새, 솔브러쉬 /...   125390  \n",
       "396  핸디스틱청소기 / 무선형 / 흡입+물걸레겸용 / 흡입력: 210W / [구성] 바닥...   708990  \n",
       "397  핸디스틱청소기 / 무선형 / 흡입전용 / 흡입력: 200W / [구성] 바닥 / 솔...   417600  \n",
       "398  물걸레청소기 / 롤러식 / 물걸레+진공 / 무선형 / [배터리] 리튬이온 (분리형)...   215100  \n",
       "399  핸디스틱청소기 / 무선형 / 흡입+물걸레겸용 / 흡입력: 210W / [구성] 바닥...   875970  \n",
       "\n",
       "[400 rows x 3 columns]"
      ]
     },
     "execution_count": 150,
     "metadata": {},
     "output_type": "execute_result"
    }
   ],
   "source": [
    "df = pd.DataFrame(prod_data_total, columns=['상품명', '스펙', '가격'])\n",
    "df"
   ]
  },
  {
   "cell_type": "code",
   "execution_count": 151,
   "id": "65d6a47b",
   "metadata": {},
   "outputs": [],
   "source": [
    "df.to_csv(\"./csv/danawa_crawling.csv\", index=False)"
   ]
  },
  {
   "cell_type": "code",
   "execution_count": null,
   "id": "85446d70",
   "metadata": {},
   "outputs": [],
   "source": []
  }
 ],
 "metadata": {
  "kernelspec": {
   "display_name": "Python 3 (ipykernel)",
   "language": "python",
   "name": "python3"
  },
  "language_info": {
   "codemirror_mode": {
    "name": "ipython",
    "version": 3
   },
   "file_extension": ".py",
   "mimetype": "text/x-python",
   "name": "python",
   "nbconvert_exporter": "python",
   "pygments_lexer": "ipython3",
   "version": "3.8.7"
  }
 },
 "nbformat": 4,
 "nbformat_minor": 5
}
