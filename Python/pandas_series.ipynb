{
 "cells": [
  {
   "cell_type": "code",
   "execution_count": 1,
   "id": "8625bf82",
   "metadata": {},
   "outputs": [],
   "source": [
    "import pandas as pd\n",
    "        # panel datas의 약자"
   ]
  },
  {
   "cell_type": "code",
   "execution_count": 3,
   "id": "5b377860",
   "metadata": {},
   "outputs": [],
   "source": [
    "dict_data = {'a':1, 'b':2, 'c':3}\n",
    "sr = pd.Series(dict_data)"
   ]
  },
  {
   "cell_type": "code",
   "execution_count": 4,
   "id": "6ae704ec",
   "metadata": {},
   "outputs": [
    {
     "name": "stdout",
     "output_type": "stream",
     "text": [
      "<class 'dict'>\n",
      "<class 'pandas.core.series.Series'>\n"
     ]
    }
   ],
   "source": [
    "print(type(dict_data))\n",
    "print(type(sr))"
   ]
  },
  {
   "cell_type": "code",
   "execution_count": 5,
   "id": "9a3dfcdd",
   "metadata": {},
   "outputs": [
    {
     "name": "stdout",
     "output_type": "stream",
     "text": [
      "a    1\n",
      "b    2\n",
      "c    3\n",
      "dtype: int64\n"
     ]
    }
   ],
   "source": [
    "print(sr)"
   ]
  },
  {
   "cell_type": "code",
   "execution_count": 6,
   "id": "025f2a94",
   "metadata": {},
   "outputs": [],
   "source": [
    "list_data = ['2018-01-01', 3.14, 'abc', 100, True]\n",
    "sr_list = pd.Series(list_data)"
   ]
  },
  {
   "cell_type": "code",
   "execution_count": 7,
   "id": "45cb6fe0",
   "metadata": {},
   "outputs": [
    {
     "name": "stdout",
     "output_type": "stream",
     "text": [
      "0    2018-01-01\n",
      "1          3.14\n",
      "2           abc\n",
      "3           100\n",
      "4          True\n",
      "dtype: object\n"
     ]
    }
   ],
   "source": [
    "print(sr_list)"
   ]
  },
  {
   "cell_type": "code",
   "execution_count": 9,
   "id": "7ca5bacc",
   "metadata": {},
   "outputs": [],
   "source": [
    "idx = sr_list.index\n",
    "val = sr_list.values"
   ]
  },
  {
   "cell_type": "code",
   "execution_count": 11,
   "id": "80714960",
   "metadata": {},
   "outputs": [
    {
     "name": "stdout",
     "output_type": "stream",
     "text": [
      "RangeIndex(start=0, stop=5, step=1)\n",
      "['2018-01-01' 3.14 'abc' 100 True]\n"
     ]
    }
   ],
   "source": [
    "print(idx)\n",
    "print(val)"
   ]
  },
  {
   "cell_type": "code",
   "execution_count": 12,
   "id": "2f09f184",
   "metadata": {},
   "outputs": [
    {
     "name": "stdout",
     "output_type": "stream",
     "text": [
      "<class 'numpy.ndarray'>\n"
     ]
    }
   ],
   "source": [
    "print(type(val))"
   ]
  },
  {
   "cell_type": "code",
   "execution_count": 13,
   "id": "183f8b2d",
   "metadata": {},
   "outputs": [],
   "source": [
    "tup_data = ('영희', '2010-05-01', '여', True)\n",
    "sr_tup = pd.Series(tup_data, index = ['이름', '생년월일', '성별', '학생여부'])"
   ]
  },
  {
   "cell_type": "code",
   "execution_count": 14,
   "id": "ce1dfdf7",
   "metadata": {},
   "outputs": [
    {
     "name": "stdout",
     "output_type": "stream",
     "text": [
      "이름              영희\n",
      "생년월일    2010-05-01\n",
      "성별               여\n",
      "학생여부          True\n",
      "dtype: object\n"
     ]
    }
   ],
   "source": [
    "print(sr_tup)"
   ]
  },
  {
   "cell_type": "code",
   "execution_count": 15,
   "id": "cee30708",
   "metadata": {},
   "outputs": [
    {
     "name": "stdout",
     "output_type": "stream",
     "text": [
      "영희\n",
      "영희\n"
     ]
    }
   ],
   "source": [
    "# 원소를 1개 선택하는 2가지 방법\n",
    "print(sr_tup[0]) # sr의 1번째 원소를 선택(정수형 위치 인덱스를 활용)\n",
    "print(sr_tup['이름'])  # 이름 '라벨'을 가진 원소를 선택(인덱스 이름을 활용)"
   ]
  },
  {
   "cell_type": "code",
   "execution_count": null,
   "id": "b0aba803",
   "metadata": {},
   "outputs": [],
   "source": [
    "# 여러개 원소를 선택하는 2가지 방법\n",
    "print(sr_tup[[1,2]])\n",
    "print(sr_tup[['생년월일', '성별']])"
   ]
  },
  {
   "cell_type": "markdown",
   "id": "c2c4b89e",
   "metadata": {},
   "source": [
    "# 시리즈 생성 실습"
   ]
  },
  {
   "cell_type": "code",
   "execution_count": 23,
   "id": "7a93a815",
   "metadata": {},
   "outputs": [
    {
     "name": "stdout",
     "output_type": "stream",
     "text": [
      "서울    9904312\n",
      "부산    3448737\n",
      "인천    2890451\n",
      "대구    2466052\n",
      "dtype: int64\n"
     ]
    }
   ],
   "source": [
    "# 9904312, 3448737, 2890451, 2466052\n",
    "# 서울     부산     인천     대구\n",
    "\n",
    "dic_city = {'서울':9904312, '부산':3448737, '인천':2890451, '대구':2466052}\n",
    "sr_city = pd.Series(dic_city)\n",
    "\n",
    "print(sr_city)"
   ]
  },
  {
   "cell_type": "code",
   "execution_count": 25,
   "id": "1992165c",
   "metadata": {},
   "outputs": [],
   "source": [
    "sr = pd.Series([9904312, 3448737, 2890451, 2466052], index=['서울', '부산', '인천', '대구'])"
   ]
  },
  {
   "cell_type": "code",
   "execution_count": 24,
   "id": "6f91f9dd",
   "metadata": {},
   "outputs": [
    {
     "name": "stdout",
     "output_type": "stream",
     "text": [
      "3448737\n",
      "3448737\n",
      "부산    3448737\n",
      "대구    2466052\n",
      "dtype: int64\n",
      "부산    3448737\n",
      "대구    2466052\n",
      "dtype: int64\n"
     ]
    }
   ],
   "source": [
    "# 인덱싱 부산 2가지 방식\n",
    "# 부산과 대구 인덱싱 2가지 방식\n",
    "\n",
    "print(sr_city[1])\n",
    "print(sr_city['부산'])\n",
    "\n",
    "print(sr_city[[1,3]])\n",
    "print(sr_city[['부산', '대구']])"
   ]
  },
  {
   "cell_type": "code",
   "execution_count": 28,
   "id": "fab3d812",
   "metadata": {},
   "outputs": [
    {
     "name": "stdout",
     "output_type": "stream",
     "text": [
      "key는 서울이고 value는 9904312다\n",
      "key는 부산이고 value는 3448737다\n",
      "key는 인천이고 value는 2890451다\n",
      "key는 대구이고 value는 2466052다\n"
     ]
    }
   ],
   "source": [
    "for key, value in sr_city.items():\n",
    "    print(f'key는 {key}이고 value는 {value}다')"
   ]
  },
  {
   "cell_type": "code",
   "execution_count": 29,
   "id": "03b02a32",
   "metadata": {},
   "outputs": [
    {
     "data": {
      "text/plain": [
       "서울    99.04312\n",
       "부산    34.48737\n",
       "인천    28.90451\n",
       "대구    24.66052\n",
       "dtype: float64"
      ]
     },
     "execution_count": 29,
     "metadata": {},
     "output_type": "execute_result"
    }
   ],
   "source": [
    "# 사라지는 넘파이 1차원 배열로 변환된다.\n",
    "sr_city/100000"
   ]
  },
  {
   "cell_type": "code",
   "execution_count": 32,
   "id": "104e90f8",
   "metadata": {},
   "outputs": [
    {
     "data": {
      "text/plain": [
       "서울    999.99\n",
       "부산     33.33\n",
       "dtype: float64"
      ]
     },
     "execution_count": 32,
     "metadata": {},
     "output_type": "execute_result"
    }
   ],
   "source": [
    "# 딕셔너리는 아래와 같은 연산이 안됨\n",
    "dic_sr = {'서울':99999, '부산':3333}\n",
    "# dic_sr/100 아래와 같이 시리즈로 변환해야 가능\n",
    "dic_sr_s = pd.Series(dic_sr)\n",
    "dic_sr_s/100"
   ]
  },
  {
   "cell_type": "code",
   "execution_count": 41,
   "id": "d28c679c",
   "metadata": {},
   "outputs": [
    {
     "name": "stdout",
     "output_type": "stream",
     "text": [
      "대구           NaN\n",
      "대전           NaN\n",
      "부산    30253000.0\n",
      "서울      883000.0\n",
      "인천      103000.0\n",
      "dtype: float64\n"
     ]
    }
   ],
   "source": [
    "sr2 = pd.Series({'서울':9631482, '부산':3393191, '인천':2632035, '대전':1490158})\n",
    "sr1 = pd.Series([10514482, 33646191, 2735035, 2466052], index=['서울', '부산', '인천', '대구'])\n",
    "#인덱스 값이 다른 데잍는 연산이 되지만 잘 안됨\n",
    "# 연산이 안되는 것의 결과는 NaN(Not a Number, 결측치)\n",
    "# np.nan 데이터 타입은 실수 float\n",
    "ds = sr1-sr2\n",
    "print(ds)"
   ]
  },
  {
   "cell_type": "code",
   "execution_count": 36,
   "id": "b332b51e",
   "metadata": {},
   "outputs": [
    {
     "data": {
      "text/plain": [
       "(Index(['서울', '부산', '인천', '대구'], dtype='object'),\n",
       " array([9904312, 3448737, 2890451, 2466052], dtype=int64))"
      ]
     },
     "execution_count": 36,
     "metadata": {},
     "output_type": "execute_result"
    }
   ],
   "source": [
    "sr.index, sr.values"
   ]
  },
  {
   "cell_type": "code",
   "execution_count": 37,
   "id": "d1830ea9",
   "metadata": {},
   "outputs": [
    {
     "data": {
      "text/plain": [
       "4"
      ]
     },
     "execution_count": 37,
     "metadata": {},
     "output_type": "execute_result"
    }
   ],
   "source": [
    "# 엘러먼트의 개수를 세는 merhod\n",
    "sr.count()"
   ]
  },
  {
   "cell_type": "code",
   "execution_count": 38,
   "id": "40eff3be",
   "metadata": {},
   "outputs": [
    {
     "data": {
      "text/plain": [
       "4"
      ]
     },
     "execution_count": 38,
     "metadata": {},
     "output_type": "execute_result"
    }
   ],
   "source": [
    "sr2.count()"
   ]
  },
  {
   "cell_type": "code",
   "execution_count": 40,
   "id": "599dc85b",
   "metadata": {},
   "outputs": [
    {
     "data": {
      "text/plain": [
       "3"
      ]
     },
     "execution_count": 40,
     "metadata": {},
     "output_type": "execute_result"
    }
   ],
   "source": [
    "ds.count()  # NaN은 개수로 치지 않음"
   ]
  },
  {
   "cell_type": "code",
   "execution_count": 42,
   "id": "a8378174",
   "metadata": {},
   "outputs": [
    {
     "data": {
      "text/plain": [
       "9904312    1\n",
       "3448737    1\n",
       "2890451    1\n",
       "2466052    1\n",
       "dtype: int64"
      ]
     },
     "execution_count": 42,
     "metadata": {},
     "output_type": "execute_result"
    }
   ],
   "source": [
    "# 카테고리의 값 세는 method\n",
    "sr.value_counts()"
   ]
  },
  {
   "cell_type": "code",
   "execution_count": 43,
   "id": "925e44e2",
   "metadata": {},
   "outputs": [
    {
     "name": "stdout",
     "output_type": "stream",
     "text": [
      "Collecting seaborn\n",
      "  Downloading seaborn-0.12.2-py3-none-any.whl (293 kB)\n",
      "     ---------------------------------------- 0.0/293.3 kB ? eta -:--:--\n",
      "     -------------------------------------- 293.3/293.3 kB 9.1 MB/s eta 0:00:00\n",
      "Requirement already satisfied: pandas>=0.25 in c:\\python38\\lib\\site-packages (from seaborn) (1.5.3)\n",
      "Requirement already satisfied: matplotlib!=3.6.1,>=3.1 in c:\\python38\\lib\\site-packages (from seaborn) (3.7.1)\n",
      "Requirement already satisfied: numpy!=1.24.0,>=1.17 in c:\\python38\\lib\\site-packages (from seaborn) (1.24.2)\n",
      "Requirement already satisfied: fonttools>=4.22.0 in c:\\python38\\lib\\site-packages (from matplotlib!=3.6.1,>=3.1->seaborn) (4.39.0)\n",
      "Requirement already satisfied: cycler>=0.10 in c:\\python38\\lib\\site-packages (from matplotlib!=3.6.1,>=3.1->seaborn) (0.11.0)\n",
      "Requirement already satisfied: pyparsing>=2.3.1 in c:\\python38\\lib\\site-packages (from matplotlib!=3.6.1,>=3.1->seaborn) (3.0.9)\n",
      "Requirement already satisfied: pillow>=6.2.0 in c:\\python38\\lib\\site-packages (from matplotlib!=3.6.1,>=3.1->seaborn) (9.4.0)\n",
      "Requirement already satisfied: packaging>=20.0 in c:\\python38\\lib\\site-packages (from matplotlib!=3.6.1,>=3.1->seaborn) (23.0)\n",
      "Requirement already satisfied: kiwisolver>=1.0.1 in c:\\python38\\lib\\site-packages (from matplotlib!=3.6.1,>=3.1->seaborn) (1.4.4)\n",
      "Requirement already satisfied: python-dateutil>=2.7 in c:\\python38\\lib\\site-packages (from matplotlib!=3.6.1,>=3.1->seaborn) (2.8.2)\n",
      "Requirement already satisfied: importlib-resources>=3.2.0 in c:\\python38\\lib\\site-packages (from matplotlib!=3.6.1,>=3.1->seaborn) (5.12.0)\n",
      "Requirement already satisfied: contourpy>=1.0.1 in c:\\python38\\lib\\site-packages (from matplotlib!=3.6.1,>=3.1->seaborn) (1.0.7)\n",
      "Requirement already satisfied: pytz>=2020.1 in c:\\python38\\lib\\site-packages (from pandas>=0.25->seaborn) (2022.7.1)\n",
      "Requirement already satisfied: zipp>=3.1.0 in c:\\python38\\lib\\site-packages (from importlib-resources>=3.2.0->matplotlib!=3.6.1,>=3.1->seaborn) (3.15.0)\n",
      "Requirement already satisfied: six>=1.5 in c:\\python38\\lib\\site-packages (from python-dateutil>=2.7->matplotlib!=3.6.1,>=3.1->seaborn) (1.16.0)\n",
      "Installing collected packages: seaborn\n",
      "Successfully installed seaborn-0.12.2\n"
     ]
    }
   ],
   "source": [
    "# 값을 세는 method 예시\n",
    "!pip install seaborn # 시각화 패키지"
   ]
  },
  {
   "cell_type": "code",
   "execution_count": 45,
   "id": "2815ba96",
   "metadata": {},
   "outputs": [
    {
     "name": "stdout",
     "output_type": "stream",
     "text": [
      "     sepal_length  sepal_width  petal_length  petal_width    species\n",
      "0             5.1          3.5           1.4          0.2     setosa\n",
      "1             4.9          3.0           1.4          0.2     setosa\n",
      "2             4.7          3.2           1.3          0.2     setosa\n",
      "3             4.6          3.1           1.5          0.2     setosa\n",
      "4             5.0          3.6           1.4          0.2     setosa\n",
      "..            ...          ...           ...          ...        ...\n",
      "145           6.7          3.0           5.2          2.3  virginica\n",
      "146           6.3          2.5           5.0          1.9  virginica\n",
      "147           6.5          3.0           5.2          2.0  virginica\n",
      "148           6.2          3.4           5.4          2.3  virginica\n",
      "149           5.9          3.0           5.1          1.8  virginica\n",
      "\n",
      "[150 rows x 5 columns]\n"
     ]
    }
   ],
   "source": [
    "import seaborn as sns\n",
    "iris = sns.load_dataset('iris')\n",
    "print(iris)"
   ]
  },
  {
   "cell_type": "code",
   "execution_count": 50,
   "id": "36558043",
   "metadata": {},
   "outputs": [
    {
     "data": {
      "text/plain": [
       "array(['setosa', 'versicolor', 'virginica'], dtype=object)"
      ]
     },
     "execution_count": 50,
     "metadata": {},
     "output_type": "execute_result"
    }
   ],
   "source": [
    "# 카테고리형 자료의 종류의 갯수를 알려주는 method\n",
    "iris['species'].unique()"
   ]
  },
  {
   "cell_type": "code",
   "execution_count": 48,
   "id": "3515544f",
   "metadata": {},
   "outputs": [
    {
     "data": {
      "text/plain": [
       "setosa        50\n",
       "versicolor    50\n",
       "virginica     50\n",
       "Name: species, dtype: int64"
      ]
     },
     "execution_count": 48,
     "metadata": {},
     "output_type": "execute_result"
    }
   ],
   "source": [
    "    iris['species']. value_counts()"
   ]
  },
  {
   "cell_type": "code",
   "execution_count": 49,
   "id": "2159b229",
   "metadata": {},
   "outputs": [
    {
     "data": {
      "text/plain": [
       "5.0    10\n",
       "5.1     9\n",
       "6.3     9\n",
       "5.7     8\n",
       "6.7     8\n",
       "5.8     7\n",
       "5.5     7\n",
       "6.4     7\n",
       "4.9     6\n",
       "5.4     6\n",
       "6.1     6\n",
       "6.0     6\n",
       "5.6     6\n",
       "4.8     5\n",
       "6.5     5\n",
       "6.2     4\n",
       "7.7     4\n",
       "6.9     4\n",
       "4.6     4\n",
       "5.2     4\n",
       "5.9     3\n",
       "4.4     3\n",
       "7.2     3\n",
       "6.8     3\n",
       "6.6     2\n",
       "4.7     2\n",
       "7.6     1\n",
       "7.4     1\n",
       "7.3     1\n",
       "7.0     1\n",
       "7.1     1\n",
       "5.3     1\n",
       "4.3     1\n",
       "4.5     1\n",
       "7.9     1\n",
       "Name: sepal_length, dtype: int64"
      ]
     },
     "execution_count": 49,
     "metadata": {},
     "output_type": "execute_result"
    }
   ],
   "source": [
    "iris['sepal_length']. value_counts()"
   ]
  },
  {
   "cell_type": "code",
   "execution_count": 52,
   "id": "7cccf0dd",
   "metadata": {},
   "outputs": [
    {
     "data": {
      "text/plain": [
       "(18709552, 4677388.0)"
      ]
     },
     "execution_count": 52,
     "metadata": {},
     "output_type": "execute_result"
    }
   ],
   "source": [
    "# 인구데이터의 합과 평균\n",
    "sr.sum(), sr.mean()"
   ]
  },
  {
   "cell_type": "code",
   "execution_count": 53,
   "id": "16832543",
   "metadata": {},
   "outputs": [
    {
     "data": {
      "text/plain": [
       "대구    2466052\n",
       "인천    2890451\n",
       "부산    3448737\n",
       "서울    9904312\n",
       "dtype: int64"
      ]
     },
     "execution_count": 53,
     "metadata": {},
     "output_type": "execute_result"
    }
   ],
   "source": [
    "# 정렬 method\n",
    "sr.sort_values()"
   ]
  },
  {
   "cell_type": "code",
   "execution_count": 54,
   "id": "1957f94f",
   "metadata": {},
   "outputs": [
    {
     "data": {
      "text/plain": [
       "서울    9904312\n",
       "부산    3448737\n",
       "인천    2890451\n",
       "대구    2466052\n",
       "dtype: int64"
      ]
     },
     "execution_count": 54,
     "metadata": {},
     "output_type": "execute_result"
    }
   ],
   "source": [
    "sr.sort_values(ascending=False) # True가 Default 값, 오름차순 / False는 내림차순"
   ]
  },
  {
   "cell_type": "code",
   "execution_count": null,
   "id": "216699fe",
   "metadata": {},
   "outputs": [],
   "source": []
  }
 ],
 "metadata": {
  "kernelspec": {
   "display_name": "Python 3 (ipykernel)",
   "language": "python",
   "name": "python3"
  },
  "language_info": {
   "codemirror_mode": {
    "name": "ipython",
    "version": 3
   },
   "file_extension": ".py",
   "mimetype": "text/x-python",
   "name": "python",
   "nbconvert_exporter": "python",
   "pygments_lexer": "ipython3",
   "version": "3.8.7"
  }
 },
 "nbformat": 4,
 "nbformat_minor": 5
}
