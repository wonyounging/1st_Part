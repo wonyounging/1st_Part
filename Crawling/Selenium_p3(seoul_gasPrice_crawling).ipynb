{
 "cells": [
  {
   "cell_type": "markdown",
   "id": "a16255fc",
   "metadata": {},
   "source": [
    "# 어느 주요소가 쌀까?"
   ]
  },
  {
   "cell_type": "code",
   "execution_count": 1,
   "id": "2d347ee3",
   "metadata": {},
   "outputs": [],
   "source": [
    "from selenium import webdriver\n",
    "from selenium.webdriver.common.keys import Keys\n",
    "from selenium.webdriver.common.by import By\n",
    "from bs4 import BeautifulSoup\n",
    "import time\n",
    "import pandas as pd"
   ]
  },
  {
   "cell_type": "code",
   "execution_count": 11,
   "id": "e467d913",
   "metadata": {},
   "outputs": [],
   "source": [
    "url = 'https://www.opinet.co.kr/user/main/mainView.do'\n",
    "driver = webdriver.Chrome()\n",
    "driver.get(url)\n",
    "time.sleep(2)"
   ]
  },
  {
   "cell_type": "code",
   "execution_count": 12,
   "id": "8b07e96d",
   "metadata": {},
   "outputs": [],
   "source": [
    "# 팝업창 싼 주요소 찾기 클릭\n",
    "driver.find_element(By.CSS_SELECTOR, '.ic_m1').click()"
   ]
  },
  {
   "cell_type": "code",
   "execution_count": 14,
   "id": "f9dbb161",
   "metadata": {},
   "outputs": [],
   "source": [
    "metro = driver.find_element(By.XPATH, '//*[@id=\"SIDO_NM0\"]')\n",
    "metro.send_keys('서울')\n",
    "time.sleep(1)"
   ]
  },
  {
   "cell_type": "code",
   "execution_count": 15,
   "id": "7d1d2fd6",
   "metadata": {},
   "outputs": [],
   "source": [
    "sigungu = driver.find_element(By.XPATH, '//*[@id=\"SIGUNGU_NM0\"]')\n",
    "gu_list = sigungu.find_elements(By.CSS_SELECTOR, 'option')"
   ]
  },
  {
   "cell_type": "code",
   "execution_count": 22,
   "id": "e39b2a37",
   "metadata": {
    "scrolled": true
   },
   "outputs": [
    {
     "name": "stdout",
     "output_type": "stream",
     "text": [
      "시/군/구\n",
      "강남구\n",
      "강동구\n",
      "강북구\n",
      "강서구\n",
      "관악구\n",
      "광진구\n",
      "구로구\n",
      "금천구\n",
      "노원구\n",
      "도봉구\n",
      "동대문구\n",
      "동작구\n",
      "마포구\n",
      "서대문구\n",
      "서초구\n",
      "성동구\n",
      "성북구\n",
      "송파구\n",
      "양천구\n",
      "영등포구\n",
      "용산구\n",
      "은평구\n",
      "종로구\n",
      "중구\n",
      "중랑구\n"
     ]
    }
   ],
   "source": [
    "for gu in gu_list:\n",
    "    print(gu.text)"
   ]
  },
  {
   "cell_type": "code",
   "execution_count": 26,
   "id": "e247e169",
   "metadata": {
    "scrolled": true
   },
   "outputs": [
    {
     "data": {
      "text/plain": [
       "['시/군/구',\n",
       " '강남구',\n",
       " '강동구',\n",
       " '강북구',\n",
       " '강서구',\n",
       " '관악구',\n",
       " '광진구',\n",
       " '구로구',\n",
       " '금천구',\n",
       " '노원구',\n",
       " '도봉구',\n",
       " '동대문구',\n",
       " '동작구',\n",
       " '마포구',\n",
       " '서대문구',\n",
       " '서초구',\n",
       " '성동구',\n",
       " '성북구',\n",
       " '송파구',\n",
       " '양천구',\n",
       " '영등포구',\n",
       " '용산구',\n",
       " '은평구',\n",
       " '종로구',\n",
       " '중구',\n",
       " '중랑구']"
      ]
     },
     "execution_count": 26,
     "metadata": {},
     "output_type": "execute_result"
    }
   ],
   "source": [
    "gu_name = [gu.text for gu in gu_list]\n",
    "gu_name"
   ]
  },
  {
   "cell_type": "code",
   "execution_count": 27,
   "id": "e3af9a7a",
   "metadata": {},
   "outputs": [],
   "source": [
    "del gu_name[0]"
   ]
  },
  {
   "cell_type": "code",
   "execution_count": 28,
   "id": "d81a33c0",
   "metadata": {
    "scrolled": true
   },
   "outputs": [
    {
     "data": {
      "text/plain": [
       "['강남구',\n",
       " '강동구',\n",
       " '강북구',\n",
       " '강서구',\n",
       " '관악구',\n",
       " '광진구',\n",
       " '구로구',\n",
       " '금천구',\n",
       " '노원구',\n",
       " '도봉구',\n",
       " '동대문구',\n",
       " '동작구',\n",
       " '마포구',\n",
       " '서대문구',\n",
       " '서초구',\n",
       " '성동구',\n",
       " '성북구',\n",
       " '송파구',\n",
       " '양천구',\n",
       " '영등포구',\n",
       " '용산구',\n",
       " '은평구',\n",
       " '종로구',\n",
       " '중구',\n",
       " '중랑구']"
      ]
     },
     "execution_count": 28,
     "metadata": {},
     "output_type": "execute_result"
    }
   ],
   "source": [
    "gu_name"
   ]
  },
  {
   "cell_type": "code",
   "execution_count": 30,
   "id": "f626d5e8",
   "metadata": {},
   "outputs": [],
   "source": [
    "# 엑셀 저장 버튼\n",
    "driver.find_element(By.XPATH, '//*[@id=\"glopopd_excel\"]/span').click()"
   ]
  },
  {
   "cell_type": "code",
   "execution_count": 31,
   "id": "daba1dfe",
   "metadata": {},
   "outputs": [],
   "source": [
    "# 25개 자치구에 대해 주유소 정보 엑셀 저장\n",
    "for gu in gu_name:\n",
    "    sigungu = driver.find_element(By.XPATH, '//*[@id=\"SIGUNGU_NM0\"]')\n",
    "    time.sleep(2)\n",
    "    sigungu.send_keys(gu)\n",
    "    time.sleep(2)\n",
    "    driver.find_element(By.XPATH, '//*[@id=\"glopopd_excel\"]/span').click()"
   ]
  },
  {
   "cell_type": "code",
   "execution_count": 32,
   "id": "d7aa3df8",
   "metadata": {},
   "outputs": [],
   "source": [
    "driver.close()"
   ]
  },
  {
   "cell_type": "markdown",
   "id": "73d7a4f1",
   "metadata": {},
   "source": [
    "# 구별 휘발유 가격에 대한 데이터 정리"
   ]
  },
  {
   "cell_type": "code",
   "execution_count": 33,
   "id": "4eadec59",
   "metadata": {},
   "outputs": [],
   "source": [
    "import pandas as pd\n",
    "from glob import glob\n",
    "import warnings\n",
    "warnings.filterwarnings('ignore')"
   ]
  },
  {
   "cell_type": "code",
   "execution_count": 34,
   "id": "3b6a6c75",
   "metadata": {
    "scrolled": true
   },
   "outputs": [
    {
     "data": {
      "text/plain": [
       "['C:\\\\workspace\\\\workspace_Crawling\\\\data1\\\\주유소\\\\지역_위치별(주유소) (1).xls',\n",
       " 'C:\\\\workspace\\\\workspace_Crawling\\\\data1\\\\주유소\\\\지역_위치별(주유소) (10).xls',\n",
       " 'C:\\\\workspace\\\\workspace_Crawling\\\\data1\\\\주유소\\\\지역_위치별(주유소) (11).xls',\n",
       " 'C:\\\\workspace\\\\workspace_Crawling\\\\data1\\\\주유소\\\\지역_위치별(주유소) (12).xls',\n",
       " 'C:\\\\workspace\\\\workspace_Crawling\\\\data1\\\\주유소\\\\지역_위치별(주유소) (13).xls',\n",
       " 'C:\\\\workspace\\\\workspace_Crawling\\\\data1\\\\주유소\\\\지역_위치별(주유소) (14).xls',\n",
       " 'C:\\\\workspace\\\\workspace_Crawling\\\\data1\\\\주유소\\\\지역_위치별(주유소) (15).xls',\n",
       " 'C:\\\\workspace\\\\workspace_Crawling\\\\data1\\\\주유소\\\\지역_위치별(주유소) (16).xls',\n",
       " 'C:\\\\workspace\\\\workspace_Crawling\\\\data1\\\\주유소\\\\지역_위치별(주유소) (17).xls',\n",
       " 'C:\\\\workspace\\\\workspace_Crawling\\\\data1\\\\주유소\\\\지역_위치별(주유소) (18).xls',\n",
       " 'C:\\\\workspace\\\\workspace_Crawling\\\\data1\\\\주유소\\\\지역_위치별(주유소) (19).xls',\n",
       " 'C:\\\\workspace\\\\workspace_Crawling\\\\data1\\\\주유소\\\\지역_위치별(주유소) (2).xls',\n",
       " 'C:\\\\workspace\\\\workspace_Crawling\\\\data1\\\\주유소\\\\지역_위치별(주유소) (20).xls',\n",
       " 'C:\\\\workspace\\\\workspace_Crawling\\\\data1\\\\주유소\\\\지역_위치별(주유소) (21).xls',\n",
       " 'C:\\\\workspace\\\\workspace_Crawling\\\\data1\\\\주유소\\\\지역_위치별(주유소) (22).xls',\n",
       " 'C:\\\\workspace\\\\workspace_Crawling\\\\data1\\\\주유소\\\\지역_위치별(주유소) (23).xls',\n",
       " 'C:\\\\workspace\\\\workspace_Crawling\\\\data1\\\\주유소\\\\지역_위치별(주유소) (24).xls',\n",
       " 'C:\\\\workspace\\\\workspace_Crawling\\\\data1\\\\주유소\\\\지역_위치별(주유소) (25).xls',\n",
       " 'C:\\\\workspace\\\\workspace_Crawling\\\\data1\\\\주유소\\\\지역_위치별(주유소) (3).xls',\n",
       " 'C:\\\\workspace\\\\workspace_Crawling\\\\data1\\\\주유소\\\\지역_위치별(주유소) (4).xls',\n",
       " 'C:\\\\workspace\\\\workspace_Crawling\\\\data1\\\\주유소\\\\지역_위치별(주유소) (5).xls',\n",
       " 'C:\\\\workspace\\\\workspace_Crawling\\\\data1\\\\주유소\\\\지역_위치별(주유소) (6).xls',\n",
       " 'C:\\\\workspace\\\\workspace_Crawling\\\\data1\\\\주유소\\\\지역_위치별(주유소) (7).xls',\n",
       " 'C:\\\\workspace\\\\workspace_Crawling\\\\data1\\\\주유소\\\\지역_위치별(주유소) (8).xls',\n",
       " 'C:\\\\workspace\\\\workspace_Crawling\\\\data1\\\\주유소\\\\지역_위치별(주유소) (9).xls']"
      ]
     },
     "execution_count": 34,
     "metadata": {},
     "output_type": "execute_result"
    }
   ],
   "source": [
    "glob(r'C:\\workspace\\workspace_Crawling\\data1\\주유소\\지역*.xls') # r = raw 이스케이프 문자"
   ]
  },
  {
   "cell_type": "code",
   "execution_count": 35,
   "id": "c3342bd3",
   "metadata": {},
   "outputs": [
    {
     "name": "stdout",
     "output_type": "stream",
     "text": [
      "Collecting xlrd\n",
      "  Downloading xlrd-2.0.1-py2.py3-none-any.whl (96 kB)\n",
      "     ---------------------------------------- 0.0/96.5 kB ? eta -:--:--\n",
      "     ---------------------------------------- 96.5/96.5 kB 5.4 MB/s eta 0:00:00\n",
      "Installing collected packages: xlrd\n",
      "Successfully installed xlrd-2.0.1\n"
     ]
    },
    {
     "name": "stderr",
     "output_type": "stream",
     "text": [
      "\n",
      "[notice] A new release of pip is available: 23.0.1 -> 23.1\n",
      "[notice] To update, run: python.exe -m pip install --upgrade pip\n"
     ]
    }
   ],
   "source": [
    "!pip install xlrd"
   ]
  },
  {
   "cell_type": "code",
   "execution_count": 38,
   "id": "119fd89b",
   "metadata": {},
   "outputs": [
    {
     "data": {
      "text/html": [
       "<div>\n",
       "<style scoped>\n",
       "    .dataframe tbody tr th:only-of-type {\n",
       "        vertical-align: middle;\n",
       "    }\n",
       "\n",
       "    .dataframe tbody tr th {\n",
       "        vertical-align: top;\n",
       "    }\n",
       "\n",
       "    .dataframe thead th {\n",
       "        text-align: right;\n",
       "    }\n",
       "</style>\n",
       "<table border=\"1\" class=\"dataframe\">\n",
       "  <thead>\n",
       "    <tr style=\"text-align: right;\">\n",
       "      <th></th>\n",
       "      <th>지역</th>\n",
       "      <th>상호</th>\n",
       "      <th>주소</th>\n",
       "      <th>상표</th>\n",
       "      <th>전화번호</th>\n",
       "      <th>셀프여부</th>\n",
       "      <th>고급휘발유</th>\n",
       "      <th>휘발유</th>\n",
       "      <th>경유</th>\n",
       "      <th>실내등유</th>\n",
       "    </tr>\n",
       "  </thead>\n",
       "  <tbody>\n",
       "    <tr>\n",
       "      <th>0</th>\n",
       "      <td>서울특별시</td>\n",
       "      <td>(주)보성 세곡주유소</td>\n",
       "      <td>서울 강남구  헌릉로 731 (세곡동)</td>\n",
       "      <td>SK에너지</td>\n",
       "      <td>02-445-6870</td>\n",
       "      <td>Y</td>\n",
       "      <td>-</td>\n",
       "      <td>1623</td>\n",
       "      <td>1565</td>\n",
       "      <td>-</td>\n",
       "    </tr>\n",
       "    <tr>\n",
       "      <th>1</th>\n",
       "      <td>서울특별시</td>\n",
       "      <td>자곡셀프주유소</td>\n",
       "      <td>서울 강남구 밤고개로 120 (자곡동)</td>\n",
       "      <td>SK에너지</td>\n",
       "      <td>02-445-5841</td>\n",
       "      <td>Y</td>\n",
       "      <td>-</td>\n",
       "      <td>1669</td>\n",
       "      <td>1575</td>\n",
       "      <td>-</td>\n",
       "    </tr>\n",
       "    <tr>\n",
       "      <th>2</th>\n",
       "      <td>서울특별시</td>\n",
       "      <td>삼성동주유소</td>\n",
       "      <td>서울 강남구 테헤란로 619 (삼성동)</td>\n",
       "      <td>현대오일뱅크</td>\n",
       "      <td>02-508-6572</td>\n",
       "      <td>Y</td>\n",
       "      <td>1929</td>\n",
       "      <td>1684</td>\n",
       "      <td>1609</td>\n",
       "      <td>-</td>\n",
       "    </tr>\n",
       "    <tr>\n",
       "      <th>3</th>\n",
       "      <td>서울특별시</td>\n",
       "      <td>방죽주유소</td>\n",
       "      <td>서울 강남구 밤고개로 215 (율현동)</td>\n",
       "      <td>GS칼텍스</td>\n",
       "      <td>02-459-3434</td>\n",
       "      <td>Y</td>\n",
       "      <td>-</td>\n",
       "      <td>1687</td>\n",
       "      <td>1639</td>\n",
       "      <td>-</td>\n",
       "    </tr>\n",
       "    <tr>\n",
       "      <th>4</th>\n",
       "      <td>서울특별시</td>\n",
       "      <td>오일프러스 셀프</td>\n",
       "      <td>서울 강남구 남부순환로 2651 (도곡동)</td>\n",
       "      <td>SK에너지</td>\n",
       "      <td>02-3462-5100</td>\n",
       "      <td>Y</td>\n",
       "      <td>1886</td>\n",
       "      <td>1704</td>\n",
       "      <td>1669</td>\n",
       "      <td>-</td>\n",
       "    </tr>\n",
       "  </tbody>\n",
       "</table>\n",
       "</div>"
      ],
      "text/plain": [
       "      지역           상호                       주소      상표          전화번호 셀프여부  \\\n",
       "0  서울특별시  (주)보성 세곡주유소    서울 강남구  헌릉로 731 (세곡동)   SK에너지   02-445-6870    Y   \n",
       "1  서울특별시      자곡셀프주유소    서울 강남구 밤고개로 120 (자곡동)   SK에너지   02-445-5841    Y   \n",
       "2  서울특별시       삼성동주유소    서울 강남구 테헤란로 619 (삼성동)  현대오일뱅크   02-508-6572    Y   \n",
       "3  서울특별시        방죽주유소    서울 강남구 밤고개로 215 (율현동)   GS칼텍스   02-459-3434    Y   \n",
       "4  서울특별시     오일프러스 셀프  서울 강남구 남부순환로 2651 (도곡동)   SK에너지  02-3462-5100    Y   \n",
       "\n",
       "  고급휘발유   휘발유    경유 실내등유  \n",
       "0     -  1623  1565    -  \n",
       "1     -  1669  1575    -  \n",
       "2  1929  1684  1609    -  \n",
       "3     -  1687  1639    -  \n",
       "4  1886  1704  1669    -  "
      ]
     },
     "execution_count": 38,
     "metadata": {},
     "output_type": "execute_result"
    }
   ],
   "source": [
    "file = glob(r'C:\\workspace\\workspace_Crawling\\data1\\주유소\\지역*.xls')[0]\n",
    "df = pd.read_excel(file, header=2)\n",
    "df.head()"
   ]
  },
  {
   "cell_type": "code",
   "execution_count": 40,
   "id": "7ecb35bd",
   "metadata": {},
   "outputs": [
    {
     "data": {
      "text/plain": [
       "(441, 10)"
      ]
     },
     "execution_count": 40,
     "metadata": {},
     "output_type": "execute_result"
    }
   ],
   "source": [
    "df_list = []\n",
    "for file in glob(r'C:\\workspace\\workspace_Crawling\\data1\\주유소\\지역*.xls'):\n",
    "    gs = pd.read_excel(file, header=2)\n",
    "    df_list.append(gs)\n",
    "df = pd.concat(df_list)\n",
    "df.shape"
   ]
  },
  {
   "cell_type": "code",
   "execution_count": 41,
   "id": "4db5251d",
   "metadata": {},
   "outputs": [
    {
     "data": {
      "text/html": [
       "<div>\n",
       "<style scoped>\n",
       "    .dataframe tbody tr th:only-of-type {\n",
       "        vertical-align: middle;\n",
       "    }\n",
       "\n",
       "    .dataframe tbody tr th {\n",
       "        vertical-align: top;\n",
       "    }\n",
       "\n",
       "    .dataframe thead th {\n",
       "        text-align: right;\n",
       "    }\n",
       "</style>\n",
       "<table border=\"1\" class=\"dataframe\">\n",
       "  <thead>\n",
       "    <tr style=\"text-align: right;\">\n",
       "      <th></th>\n",
       "      <th>지역</th>\n",
       "      <th>상호</th>\n",
       "      <th>주소</th>\n",
       "      <th>상표</th>\n",
       "      <th>전화번호</th>\n",
       "      <th>셀프여부</th>\n",
       "      <th>고급휘발유</th>\n",
       "      <th>휘발유</th>\n",
       "      <th>경유</th>\n",
       "      <th>실내등유</th>\n",
       "    </tr>\n",
       "  </thead>\n",
       "  <tbody>\n",
       "    <tr>\n",
       "      <th>0</th>\n",
       "      <td>서울특별시</td>\n",
       "      <td>(주)보성 세곡주유소</td>\n",
       "      <td>서울 강남구  헌릉로 731 (세곡동)</td>\n",
       "      <td>SK에너지</td>\n",
       "      <td>02-445-6870</td>\n",
       "      <td>Y</td>\n",
       "      <td>-</td>\n",
       "      <td>1623</td>\n",
       "      <td>1565</td>\n",
       "      <td>-</td>\n",
       "    </tr>\n",
       "    <tr>\n",
       "      <th>1</th>\n",
       "      <td>서울특별시</td>\n",
       "      <td>자곡셀프주유소</td>\n",
       "      <td>서울 강남구 밤고개로 120 (자곡동)</td>\n",
       "      <td>SK에너지</td>\n",
       "      <td>02-445-5841</td>\n",
       "      <td>Y</td>\n",
       "      <td>-</td>\n",
       "      <td>1669</td>\n",
       "      <td>1575</td>\n",
       "      <td>-</td>\n",
       "    </tr>\n",
       "    <tr>\n",
       "      <th>2</th>\n",
       "      <td>서울특별시</td>\n",
       "      <td>삼성동주유소</td>\n",
       "      <td>서울 강남구 테헤란로 619 (삼성동)</td>\n",
       "      <td>현대오일뱅크</td>\n",
       "      <td>02-508-6572</td>\n",
       "      <td>Y</td>\n",
       "      <td>1929</td>\n",
       "      <td>1684</td>\n",
       "      <td>1609</td>\n",
       "      <td>-</td>\n",
       "    </tr>\n",
       "    <tr>\n",
       "      <th>3</th>\n",
       "      <td>서울특별시</td>\n",
       "      <td>방죽주유소</td>\n",
       "      <td>서울 강남구 밤고개로 215 (율현동)</td>\n",
       "      <td>GS칼텍스</td>\n",
       "      <td>02-459-3434</td>\n",
       "      <td>Y</td>\n",
       "      <td>-</td>\n",
       "      <td>1687</td>\n",
       "      <td>1639</td>\n",
       "      <td>-</td>\n",
       "    </tr>\n",
       "    <tr>\n",
       "      <th>4</th>\n",
       "      <td>서울특별시</td>\n",
       "      <td>오일프러스 셀프</td>\n",
       "      <td>서울 강남구 남부순환로 2651 (도곡동)</td>\n",
       "      <td>SK에너지</td>\n",
       "      <td>02-3462-5100</td>\n",
       "      <td>Y</td>\n",
       "      <td>1886</td>\n",
       "      <td>1704</td>\n",
       "      <td>1669</td>\n",
       "      <td>-</td>\n",
       "    </tr>\n",
       "  </tbody>\n",
       "</table>\n",
       "</div>"
      ],
      "text/plain": [
       "      지역           상호                       주소      상표          전화번호 셀프여부  \\\n",
       "0  서울특별시  (주)보성 세곡주유소    서울 강남구  헌릉로 731 (세곡동)   SK에너지   02-445-6870    Y   \n",
       "1  서울특별시      자곡셀프주유소    서울 강남구 밤고개로 120 (자곡동)   SK에너지   02-445-5841    Y   \n",
       "2  서울특별시       삼성동주유소    서울 강남구 테헤란로 619 (삼성동)  현대오일뱅크   02-508-6572    Y   \n",
       "3  서울특별시        방죽주유소    서울 강남구 밤고개로 215 (율현동)   GS칼텍스   02-459-3434    Y   \n",
       "4  서울특별시     오일프러스 셀프  서울 강남구 남부순환로 2651 (도곡동)   SK에너지  02-3462-5100    Y   \n",
       "\n",
       "  고급휘발유   휘발유    경유 실내등유  \n",
       "0     -  1623  1565    -  \n",
       "1     -  1669  1575    -  \n",
       "2  1929  1684  1609    -  \n",
       "3     -  1687  1639    -  \n",
       "4  1886  1704  1669    -  "
      ]
     },
     "execution_count": 41,
     "metadata": {},
     "output_type": "execute_result"
    }
   ],
   "source": [
    "df.head()"
   ]
  },
  {
   "cell_type": "code",
   "execution_count": 42,
   "id": "388f3c0e",
   "metadata": {},
   "outputs": [
    {
     "data": {
      "text/html": [
       "<div>\n",
       "<style scoped>\n",
       "    .dataframe tbody tr th:only-of-type {\n",
       "        vertical-align: middle;\n",
       "    }\n",
       "\n",
       "    .dataframe tbody tr th {\n",
       "        vertical-align: top;\n",
       "    }\n",
       "\n",
       "    .dataframe thead th {\n",
       "        text-align: right;\n",
       "    }\n",
       "</style>\n",
       "<table border=\"1\" class=\"dataframe\">\n",
       "  <thead>\n",
       "    <tr style=\"text-align: right;\">\n",
       "      <th></th>\n",
       "      <th>상호</th>\n",
       "      <th>주소</th>\n",
       "      <th>휘발유</th>\n",
       "      <th>셀프여부</th>\n",
       "      <th>상표</th>\n",
       "    </tr>\n",
       "  </thead>\n",
       "  <tbody>\n",
       "    <tr>\n",
       "      <th>0</th>\n",
       "      <td>(주)보성 세곡주유소</td>\n",
       "      <td>서울 강남구  헌릉로 731 (세곡동)</td>\n",
       "      <td>1623</td>\n",
       "      <td>Y</td>\n",
       "      <td>SK에너지</td>\n",
       "    </tr>\n",
       "    <tr>\n",
       "      <th>1</th>\n",
       "      <td>자곡셀프주유소</td>\n",
       "      <td>서울 강남구 밤고개로 120 (자곡동)</td>\n",
       "      <td>1669</td>\n",
       "      <td>Y</td>\n",
       "      <td>SK에너지</td>\n",
       "    </tr>\n",
       "    <tr>\n",
       "      <th>2</th>\n",
       "      <td>삼성동주유소</td>\n",
       "      <td>서울 강남구 테헤란로 619 (삼성동)</td>\n",
       "      <td>1684</td>\n",
       "      <td>Y</td>\n",
       "      <td>현대오일뱅크</td>\n",
       "    </tr>\n",
       "    <tr>\n",
       "      <th>3</th>\n",
       "      <td>방죽주유소</td>\n",
       "      <td>서울 강남구 밤고개로 215 (율현동)</td>\n",
       "      <td>1687</td>\n",
       "      <td>Y</td>\n",
       "      <td>GS칼텍스</td>\n",
       "    </tr>\n",
       "    <tr>\n",
       "      <th>4</th>\n",
       "      <td>오일프러스 셀프</td>\n",
       "      <td>서울 강남구 남부순환로 2651 (도곡동)</td>\n",
       "      <td>1704</td>\n",
       "      <td>Y</td>\n",
       "      <td>SK에너지</td>\n",
       "    </tr>\n",
       "  </tbody>\n",
       "</table>\n",
       "</div>"
      ],
      "text/plain": [
       "            상호                       주소   휘발유 셀프여부      상표\n",
       "0  (주)보성 세곡주유소    서울 강남구  헌릉로 731 (세곡동)  1623    Y   SK에너지\n",
       "1      자곡셀프주유소    서울 강남구 밤고개로 120 (자곡동)  1669    Y   SK에너지\n",
       "2       삼성동주유소    서울 강남구 테헤란로 619 (삼성동)  1684    Y  현대오일뱅크\n",
       "3        방죽주유소    서울 강남구 밤고개로 215 (율현동)  1687    Y   GS칼텍스\n",
       "4     오일프러스 셀프  서울 강남구 남부순환로 2651 (도곡동)  1704    Y   SK에너지"
      ]
     },
     "execution_count": 42,
     "metadata": {},
     "output_type": "execute_result"
    }
   ],
   "source": [
    "df = df[['상호', '주소', '휘발유', '셀프여부', '상표']]\n",
    "df.head()"
   ]
  },
  {
   "cell_type": "code",
   "execution_count": 45,
   "id": "a6bfd3d0",
   "metadata": {},
   "outputs": [
    {
     "data": {
      "text/html": [
       "<div>\n",
       "<style scoped>\n",
       "    .dataframe tbody tr th:only-of-type {\n",
       "        vertical-align: middle;\n",
       "    }\n",
       "\n",
       "    .dataframe tbody tr th {\n",
       "        vertical-align: top;\n",
       "    }\n",
       "\n",
       "    .dataframe thead th {\n",
       "        text-align: right;\n",
       "    }\n",
       "</style>\n",
       "<table border=\"1\" class=\"dataframe\">\n",
       "  <thead>\n",
       "    <tr style=\"text-align: right;\">\n",
       "      <th></th>\n",
       "      <th>상호</th>\n",
       "      <th>주소</th>\n",
       "      <th>가격</th>\n",
       "      <th>셀프</th>\n",
       "      <th>상표</th>\n",
       "    </tr>\n",
       "  </thead>\n",
       "  <tbody>\n",
       "    <tr>\n",
       "      <th>0</th>\n",
       "      <td>(주)보성 세곡주유소</td>\n",
       "      <td>서울 강남구  헌릉로 731 (세곡동)</td>\n",
       "      <td>1623</td>\n",
       "      <td>Y</td>\n",
       "      <td>SK에너지</td>\n",
       "    </tr>\n",
       "    <tr>\n",
       "      <th>1</th>\n",
       "      <td>자곡셀프주유소</td>\n",
       "      <td>서울 강남구 밤고개로 120 (자곡동)</td>\n",
       "      <td>1669</td>\n",
       "      <td>Y</td>\n",
       "      <td>SK에너지</td>\n",
       "    </tr>\n",
       "    <tr>\n",
       "      <th>2</th>\n",
       "      <td>삼성동주유소</td>\n",
       "      <td>서울 강남구 테헤란로 619 (삼성동)</td>\n",
       "      <td>1684</td>\n",
       "      <td>Y</td>\n",
       "      <td>현대오일뱅크</td>\n",
       "    </tr>\n",
       "    <tr>\n",
       "      <th>3</th>\n",
       "      <td>방죽주유소</td>\n",
       "      <td>서울 강남구 밤고개로 215 (율현동)</td>\n",
       "      <td>1687</td>\n",
       "      <td>Y</td>\n",
       "      <td>GS칼텍스</td>\n",
       "    </tr>\n",
       "    <tr>\n",
       "      <th>4</th>\n",
       "      <td>오일프러스 셀프</td>\n",
       "      <td>서울 강남구 남부순환로 2651 (도곡동)</td>\n",
       "      <td>1704</td>\n",
       "      <td>Y</td>\n",
       "      <td>SK에너지</td>\n",
       "    </tr>\n",
       "  </tbody>\n",
       "</table>\n",
       "</div>"
      ],
      "text/plain": [
       "            상호                       주소    가격 셀프      상표\n",
       "0  (주)보성 세곡주유소    서울 강남구  헌릉로 731 (세곡동)  1623  Y   SK에너지\n",
       "1      자곡셀프주유소    서울 강남구 밤고개로 120 (자곡동)  1669  Y   SK에너지\n",
       "2       삼성동주유소    서울 강남구 테헤란로 619 (삼성동)  1684  Y  현대오일뱅크\n",
       "3        방죽주유소    서울 강남구 밤고개로 215 (율현동)  1687  Y   GS칼텍스\n",
       "4     오일프러스 셀프  서울 강남구 남부순환로 2651 (도곡동)  1704  Y   SK에너지"
      ]
     },
     "execution_count": 45,
     "metadata": {},
     "output_type": "execute_result"
    }
   ],
   "source": [
    "df.rename(columns={'휘발유':'가격', '셀프여부':'셀프'}, inplace=True)\n",
    "df.head()"
   ]
  },
  {
   "cell_type": "code",
   "execution_count": 46,
   "id": "bc89c5f0",
   "metadata": {},
   "outputs": [],
   "source": [
    "df['구'] = df.주소.str.split().str[1]"
   ]
  },
  {
   "cell_type": "code",
   "execution_count": 47,
   "id": "7056aefe",
   "metadata": {},
   "outputs": [
    {
     "data": {
      "text/html": [
       "<div>\n",
       "<style scoped>\n",
       "    .dataframe tbody tr th:only-of-type {\n",
       "        vertical-align: middle;\n",
       "    }\n",
       "\n",
       "    .dataframe tbody tr th {\n",
       "        vertical-align: top;\n",
       "    }\n",
       "\n",
       "    .dataframe thead th {\n",
       "        text-align: right;\n",
       "    }\n",
       "</style>\n",
       "<table border=\"1\" class=\"dataframe\">\n",
       "  <thead>\n",
       "    <tr style=\"text-align: right;\">\n",
       "      <th></th>\n",
       "      <th>상호</th>\n",
       "      <th>주소</th>\n",
       "      <th>가격</th>\n",
       "      <th>셀프</th>\n",
       "      <th>상표</th>\n",
       "      <th>구</th>\n",
       "    </tr>\n",
       "  </thead>\n",
       "  <tbody>\n",
       "    <tr>\n",
       "      <th>0</th>\n",
       "      <td>(주)보성 세곡주유소</td>\n",
       "      <td>서울 강남구  헌릉로 731 (세곡동)</td>\n",
       "      <td>1623</td>\n",
       "      <td>Y</td>\n",
       "      <td>SK에너지</td>\n",
       "      <td>강남구</td>\n",
       "    </tr>\n",
       "    <tr>\n",
       "      <th>1</th>\n",
       "      <td>자곡셀프주유소</td>\n",
       "      <td>서울 강남구 밤고개로 120 (자곡동)</td>\n",
       "      <td>1669</td>\n",
       "      <td>Y</td>\n",
       "      <td>SK에너지</td>\n",
       "      <td>강남구</td>\n",
       "    </tr>\n",
       "    <tr>\n",
       "      <th>2</th>\n",
       "      <td>삼성동주유소</td>\n",
       "      <td>서울 강남구 테헤란로 619 (삼성동)</td>\n",
       "      <td>1684</td>\n",
       "      <td>Y</td>\n",
       "      <td>현대오일뱅크</td>\n",
       "      <td>강남구</td>\n",
       "    </tr>\n",
       "    <tr>\n",
       "      <th>3</th>\n",
       "      <td>방죽주유소</td>\n",
       "      <td>서울 강남구 밤고개로 215 (율현동)</td>\n",
       "      <td>1687</td>\n",
       "      <td>Y</td>\n",
       "      <td>GS칼텍스</td>\n",
       "      <td>강남구</td>\n",
       "    </tr>\n",
       "    <tr>\n",
       "      <th>4</th>\n",
       "      <td>오일프러스 셀프</td>\n",
       "      <td>서울 강남구 남부순환로 2651 (도곡동)</td>\n",
       "      <td>1704</td>\n",
       "      <td>Y</td>\n",
       "      <td>SK에너지</td>\n",
       "      <td>강남구</td>\n",
       "    </tr>\n",
       "  </tbody>\n",
       "</table>\n",
       "</div>"
      ],
      "text/plain": [
       "            상호                       주소    가격 셀프      상표    구\n",
       "0  (주)보성 세곡주유소    서울 강남구  헌릉로 731 (세곡동)  1623  Y   SK에너지  강남구\n",
       "1      자곡셀프주유소    서울 강남구 밤고개로 120 (자곡동)  1669  Y   SK에너지  강남구\n",
       "2       삼성동주유소    서울 강남구 테헤란로 619 (삼성동)  1684  Y  현대오일뱅크  강남구\n",
       "3        방죽주유소    서울 강남구 밤고개로 215 (율현동)  1687  Y   GS칼텍스  강남구\n",
       "4     오일프러스 셀프  서울 강남구 남부순환로 2651 (도곡동)  1704  Y   SK에너지  강남구"
      ]
     },
     "execution_count": 47,
     "metadata": {},
     "output_type": "execute_result"
    }
   ],
   "source": [
    "df.head()"
   ]
  },
  {
   "cell_type": "code",
   "execution_count": 49,
   "id": "eef51616",
   "metadata": {},
   "outputs": [
    {
     "name": "stdout",
     "output_type": "stream",
     "text": [
      "['강남구' '도봉구' '동대문구' '동작구' '마포구' '서대문구' '서초구' '성동구' '성북구' '송파구' '양천구' '강동구'\n",
      " '영등포구' '용산구' '은평구' '종로구' '중구' '중랑구' '강북구' '강서구' '관악구' '광진구' '구로구' '금천구'\n",
      " '노원구']\n"
     ]
    },
    {
     "data": {
      "text/plain": [
       "25"
      ]
     },
     "execution_count": 49,
     "metadata": {},
     "output_type": "execute_result"
    }
   ],
   "source": [
    "print(df['구'].unique())\n",
    "len(df['구'].unique())"
   ]
  },
  {
   "cell_type": "code",
   "execution_count": 51,
   "id": "12e27b47",
   "metadata": {},
   "outputs": [
    {
     "name": "stdout",
     "output_type": "stream",
     "text": [
      "<class 'pandas.core.frame.DataFrame'>\n",
      "Int64Index: 441 entries, 0 to 13\n",
      "Data columns (total 6 columns):\n",
      " #   Column  Non-Null Count  Dtype \n",
      "---  ------  --------------  ----- \n",
      " 0   상호      441 non-null    object\n",
      " 1   주소      441 non-null    object\n",
      " 2   가격      441 non-null    int64 \n",
      " 3   셀프      441 non-null    object\n",
      " 4   상표      441 non-null    object\n",
      " 5   구       441 non-null    object\n",
      "dtypes: int64(1), object(5)\n",
      "memory usage: 24.1+ KB\n"
     ]
    }
   ],
   "source": [
    "df.info()"
   ]
  },
  {
   "cell_type": "code",
   "execution_count": 53,
   "id": "dcda706a",
   "metadata": {},
   "outputs": [],
   "source": [
    "# 가격\n",
    "df = df[df.가격 != '-']"
   ]
  },
  {
   "cell_type": "code",
   "execution_count": 54,
   "id": "cfe5d6a1",
   "metadata": {},
   "outputs": [
    {
     "name": "stdout",
     "output_type": "stream",
     "text": [
      "<class 'pandas.core.frame.DataFrame'>\n",
      "Int64Index: 441 entries, 0 to 13\n",
      "Data columns (total 6 columns):\n",
      " #   Column  Non-Null Count  Dtype \n",
      "---  ------  --------------  ----- \n",
      " 0   상호      441 non-null    object\n",
      " 1   주소      441 non-null    object\n",
      " 2   가격      441 non-null    int32 \n",
      " 3   셀프      441 non-null    object\n",
      " 4   상표      441 non-null    object\n",
      " 5   구       441 non-null    object\n",
      "dtypes: int32(1), object(5)\n",
      "memory usage: 22.4+ KB\n"
     ]
    }
   ],
   "source": [
    "df.가격 = df.가격.astype(int)\n",
    "df.info()"
   ]
  },
  {
   "cell_type": "code",
   "execution_count": 58,
   "id": "b5317eab",
   "metadata": {},
   "outputs": [],
   "source": [
    "df.to_csv('./csv/gasData/서울_주유소(230418).csv', index=False)"
   ]
  },
  {
   "cell_type": "code",
   "execution_count": null,
   "id": "997bfbd5",
   "metadata": {},
   "outputs": [],
   "source": []
  }
 ],
 "metadata": {
  "kernelspec": {
   "display_name": "Python 3 (ipykernel)",
   "language": "python",
   "name": "python3"
  },
  "language_info": {
   "codemirror_mode": {
    "name": "ipython",
    "version": 3
   },
   "file_extension": ".py",
   "mimetype": "text/x-python",
   "name": "python",
   "nbconvert_exporter": "python",
   "pygments_lexer": "ipython3",
   "version": "3.8.7"
  }
 },
 "nbformat": 4,
 "nbformat_minor": 5
}
